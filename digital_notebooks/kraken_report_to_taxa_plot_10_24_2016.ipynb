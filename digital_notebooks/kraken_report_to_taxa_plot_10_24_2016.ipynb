{
 "cells": [
  {
   "cell_type": "code",
   "execution_count": 1,
   "metadata": {
    "collapsed": true
   },
   "outputs": [],
   "source": [
    "import seaborn as sns\n",
    "import pandas as pd\n",
    "import glob\n",
    "import os\n",
    "\n",
    "# This is a commnet. The line the follows allows for inline plotting. i.e. your plots will show up in these boxes.\n",
    "%matplotlib inline\n",
    "\n",
    "from IPython.display import Image"
   ]
  },
  {
   "cell_type": "code",
   "execution_count": 2,
   "metadata": {
    "collapsed": true
   },
   "outputs": [],
   "source": [
    "path = '/Users/ara/Documents/bat_metagenomes/' "
   ]
  },
  {
   "cell_type": "code",
   "execution_count": 3,
   "metadata": {
    "collapsed": true
   },
   "outputs": [],
   "source": [
    "my_dir = path\n",
    "filelist = []\n",
    "filesList = []\n",
    "os.chdir( my_dir )"
   ]
  },
  {
   "cell_type": "code",
   "execution_count": 4,
   "metadata": {
    "collapsed": false
   },
   "outputs": [],
   "source": [
    "for files in glob.glob(\"*.krakenreport.txt\"):\n",
    "    #fileName, fileExtension = os.path.splitext(files)\n",
    "    filelist.append(filesList) #filename without extension\n",
    "    filesList.append(files) #filename with extension"
   ]
  },
  {
   "cell_type": "code",
   "execution_count": 5,
   "metadata": {
    "collapsed": false
   },
   "outputs": [],
   "source": [
    "df = pd.DataFrame()\n",
    "for ijk in filesList:\n",
    "    frame = pd.read_csv(ijk,skiprows=0, skipfooter=0,sep=\"\\t\" ,delim_whitespace=False,\n",
    "                      engine='python',header=None)\n",
    "    frame['sample_id']=ijk\n",
    "    df = df.append(frame) "
   ]
  },
  {
   "cell_type": "code",
   "execution_count": 6,
   "metadata": {
    "collapsed": false
   },
   "outputs": [
    {
     "data": {
      "text/html": [
       "<div>\n",
       "<table border=\"1\" class=\"dataframe\">\n",
       "  <thead>\n",
       "    <tr style=\"text-align: right;\">\n",
       "      <th></th>\n",
       "      <th>0</th>\n",
       "      <th>1</th>\n",
       "      <th>2</th>\n",
       "      <th>3</th>\n",
       "      <th>4</th>\n",
       "      <th>5</th>\n",
       "      <th>sample_id</th>\n",
       "    </tr>\n",
       "  </thead>\n",
       "  <tbody>\n",
       "    <tr>\n",
       "      <th>0</th>\n",
       "      <td>99.21</td>\n",
       "      <td>1402433</td>\n",
       "      <td>1402433</td>\n",
       "      <td>U</td>\n",
       "      <td>0</td>\n",
       "      <td>unclassified</td>\n",
       "      <td>CC140620_1.krakenreport.txt</td>\n",
       "    </tr>\n",
       "    <tr>\n",
       "      <th>1</th>\n",
       "      <td>0.79</td>\n",
       "      <td>11199</td>\n",
       "      <td>2660</td>\n",
       "      <td>-</td>\n",
       "      <td>1</td>\n",
       "      <td>root</td>\n",
       "      <td>CC140620_1.krakenreport.txt</td>\n",
       "    </tr>\n",
       "    <tr>\n",
       "      <th>2</th>\n",
       "      <td>0.50</td>\n",
       "      <td>7099</td>\n",
       "      <td>61</td>\n",
       "      <td>-</td>\n",
       "      <td>131567</td>\n",
       "      <td>cellular organisms</td>\n",
       "      <td>CC140620_1.krakenreport.txt</td>\n",
       "    </tr>\n",
       "  </tbody>\n",
       "</table>\n",
       "</div>"
      ],
      "text/plain": [
       "       0        1        2  3       4                     5  \\\n",
       "0  99.21  1402433  1402433  U       0          unclassified   \n",
       "1   0.79    11199     2660  -       1                  root   \n",
       "2   0.50     7099       61  -  131567    cellular organisms   \n",
       "\n",
       "                     sample_id  \n",
       "0  CC140620_1.krakenreport.txt  \n",
       "1  CC140620_1.krakenreport.txt  \n",
       "2  CC140620_1.krakenreport.txt  "
      ]
     },
     "execution_count": 6,
     "metadata": {},
     "output_type": "execute_result"
    }
   ],
   "source": [
    "df.head(3)"
   ]
  },
  {
   "cell_type": "code",
   "execution_count": 43,
   "metadata": {
    "collapsed": false
   },
   "outputs": [
    {
     "data": {
      "text/html": [
       "<div>\n",
       "<table border=\"1\" class=\"dataframe\">\n",
       "  <thead>\n",
       "    <tr style=\"text-align: right;\">\n",
       "      <th></th>\n",
       "      <th>percent_reads</th>\n",
       "      <th>reads_at_root</th>\n",
       "      <th>reads</th>\n",
       "      <th>rank</th>\n",
       "      <th>tax_id</th>\n",
       "      <th>full_tax</th>\n",
       "      <th>sample_id</th>\n",
       "    </tr>\n",
       "  </thead>\n",
       "  <tbody>\n",
       "    <tr>\n",
       "      <th>0</th>\n",
       "      <td>99.21</td>\n",
       "      <td>1402433</td>\n",
       "      <td>1402433</td>\n",
       "      <td>U</td>\n",
       "      <td>0</td>\n",
       "      <td>unclassified</td>\n",
       "      <td>CC140620_1.krakenreport.txt</td>\n",
       "    </tr>\n",
       "    <tr>\n",
       "      <th>1</th>\n",
       "      <td>0.79</td>\n",
       "      <td>11199</td>\n",
       "      <td>2660</td>\n",
       "      <td>-</td>\n",
       "      <td>1</td>\n",
       "      <td>root</td>\n",
       "      <td>CC140620_1.krakenreport.txt</td>\n",
       "    </tr>\n",
       "    <tr>\n",
       "      <th>2</th>\n",
       "      <td>0.50</td>\n",
       "      <td>7099</td>\n",
       "      <td>61</td>\n",
       "      <td>-</td>\n",
       "      <td>131567</td>\n",
       "      <td>cellular organisms</td>\n",
       "      <td>CC140620_1.krakenreport.txt</td>\n",
       "    </tr>\n",
       "  </tbody>\n",
       "</table>\n",
       "</div>"
      ],
      "text/plain": [
       "   percent_reads  reads_at_root    reads rank  tax_id              full_tax  \\\n",
       "0          99.21        1402433  1402433    U       0          unclassified   \n",
       "1           0.79          11199     2660    -       1                  root   \n",
       "2           0.50           7099       61    -  131567    cellular organisms   \n",
       "\n",
       "                     sample_id  \n",
       "0  CC140620_1.krakenreport.txt  \n",
       "1  CC140620_1.krakenreport.txt  \n",
       "2  CC140620_1.krakenreport.txt  "
      ]
     },
     "execution_count": 43,
     "metadata": {},
     "output_type": "execute_result"
    }
   ],
   "source": [
    "df.columns = ['percent_reads', 'reads_at_root','reads','rank','tax_id','full_tax','sample_id']\n",
    "df.head(3)"
   ]
  },
  {
   "cell_type": "markdown",
   "metadata": {},
   "source": [
    "### Phylum level"
   ]
  },
  {
   "cell_type": "code",
   "execution_count": 8,
   "metadata": {
    "collapsed": false
   },
   "outputs": [],
   "source": [
    "phylum_level = df.loc[df['rank'] == 'P']"
   ]
  },
  {
   "cell_type": "code",
   "execution_count": 41,
   "metadata": {
    "collapsed": false
   },
   "outputs": [
    {
     "data": {
      "text/html": [
       "<div>\n",
       "<table border=\"1\" class=\"dataframe\">\n",
       "  <thead>\n",
       "    <tr style=\"text-align: right;\">\n",
       "      <th></th>\n",
       "      <th>percent_reads</th>\n",
       "      <th>reads_at_root</th>\n",
       "      <th>reads</th>\n",
       "      <th>rank</th>\n",
       "      <th>tax_id</th>\n",
       "      <th>full_tax</th>\n",
       "      <th>sample_id</th>\n",
       "    </tr>\n",
       "  </thead>\n",
       "  <tbody>\n",
       "    <tr>\n",
       "      <th>4</th>\n",
       "      <td>0.14</td>\n",
       "      <td>2034</td>\n",
       "      <td>104</td>\n",
       "      <td>P</td>\n",
       "      <td>1224</td>\n",
       "      <td>Proteobacteria</td>\n",
       "      <td>CC140620_1.krakenreport.txt</td>\n",
       "    </tr>\n",
       "    <tr>\n",
       "      <th>761</th>\n",
       "      <td>0.14</td>\n",
       "      <td>1916</td>\n",
       "      <td>0</td>\n",
       "      <td>P</td>\n",
       "      <td>201174</td>\n",
       "      <td>Actinobacteria</td>\n",
       "      <td>CC140620_1.krakenreport.txt</td>\n",
       "    </tr>\n",
       "    <tr>\n",
       "      <th>1055</th>\n",
       "      <td>0.10</td>\n",
       "      <td>1365</td>\n",
       "      <td>20</td>\n",
       "      <td>P</td>\n",
       "      <td>1239</td>\n",
       "      <td>Firmicutes</td>\n",
       "      <td>CC140620_1.krakenreport.txt</td>\n",
       "    </tr>\n",
       "  </tbody>\n",
       "</table>\n",
       "</div>"
      ],
      "text/plain": [
       "      percent_reads  reads_at_root  reads rank  tax_id              full_tax  \\\n",
       "4              0.14           2034    104    P    1224        Proteobacteria   \n",
       "761            0.14           1916      0    P  201174        Actinobacteria   \n",
       "1055           0.10           1365     20    P    1239            Firmicutes   \n",
       "\n",
       "                        sample_id  \n",
       "4     CC140620_1.krakenreport.txt  \n",
       "761   CC140620_1.krakenreport.txt  \n",
       "1055  CC140620_1.krakenreport.txt  "
      ]
     },
     "execution_count": 41,
     "metadata": {},
     "output_type": "execute_result"
    }
   ],
   "source": [
    "phylum_level.head(3)"
   ]
  },
  {
   "cell_type": "code",
   "execution_count": 10,
   "metadata": {
    "collapsed": false
   },
   "outputs": [],
   "source": [
    "phylum_level_pivot = phylum_level.pivot_table(index='sample_id', columns='full_tax', values='reads_at_root')"
   ]
  },
  {
   "cell_type": "code",
   "execution_count": 21,
   "metadata": {
    "collapsed": true
   },
   "outputs": [],
   "source": [
    "phylum_level_t = phylum_level_pivot.transpose()"
   ]
  },
  {
   "cell_type": "code",
   "execution_count": 22,
   "metadata": {
    "collapsed": false
   },
   "outputs": [
    {
     "data": {
      "text/html": [
       "<div>\n",
       "<table border=\"1\" class=\"dataframe\">\n",
       "  <thead>\n",
       "    <tr style=\"text-align: right;\">\n",
       "      <th>sample_id</th>\n",
       "      <th>CC140620_1.krakenreport.txt</th>\n",
       "      <th>CC140620_25.krakenreport.txt</th>\n",
       "      <th>CC140620_33.krakenreport.txt</th>\n",
       "      <th>CC140620_37.krakenreport.txt</th>\n",
       "      <th>CC140620_5.krakenreport.txt</th>\n",
       "    </tr>\n",
       "    <tr>\n",
       "      <th>full_tax</th>\n",
       "      <th></th>\n",
       "      <th></th>\n",
       "      <th></th>\n",
       "      <th></th>\n",
       "      <th></th>\n",
       "    </tr>\n",
       "  </thead>\n",
       "  <tbody>\n",
       "    <tr>\n",
       "      <th>Acidobacteria</th>\n",
       "      <td>4.0</td>\n",
       "      <td>2.0</td>\n",
       "      <td>2.0</td>\n",
       "      <td>4.0</td>\n",
       "      <td>3.0</td>\n",
       "    </tr>\n",
       "    <tr>\n",
       "      <th>Bacteroidetes</th>\n",
       "      <td>792.0</td>\n",
       "      <td>756.0</td>\n",
       "      <td>486.0</td>\n",
       "      <td>438.0</td>\n",
       "      <td>1051.0</td>\n",
       "    </tr>\n",
       "    <tr>\n",
       "      <th>Candidatus Saccharibacteria</th>\n",
       "      <td>48.0</td>\n",
       "      <td>33.0</td>\n",
       "      <td>9.0</td>\n",
       "      <td>10.0</td>\n",
       "      <td>55.0</td>\n",
       "    </tr>\n",
       "  </tbody>\n",
       "</table>\n",
       "</div>"
      ],
      "text/plain": [
       "sample_id                            CC140620_1.krakenreport.txt  \\\n",
       "full_tax                                                           \n",
       "        Acidobacteria                                        4.0   \n",
       "        Bacteroidetes                                      792.0   \n",
       "        Candidatus Saccharibacteria                         48.0   \n",
       "\n",
       "sample_id                            CC140620_25.krakenreport.txt  \\\n",
       "full_tax                                                            \n",
       "        Acidobacteria                                         2.0   \n",
       "        Bacteroidetes                                       756.0   \n",
       "        Candidatus Saccharibacteria                          33.0   \n",
       "\n",
       "sample_id                            CC140620_33.krakenreport.txt  \\\n",
       "full_tax                                                            \n",
       "        Acidobacteria                                         2.0   \n",
       "        Bacteroidetes                                       486.0   \n",
       "        Candidatus Saccharibacteria                           9.0   \n",
       "\n",
       "sample_id                            CC140620_37.krakenreport.txt  \\\n",
       "full_tax                                                            \n",
       "        Acidobacteria                                         4.0   \n",
       "        Bacteroidetes                                       438.0   \n",
       "        Candidatus Saccharibacteria                          10.0   \n",
       "\n",
       "sample_id                            CC140620_5.krakenreport.txt  \n",
       "full_tax                                                          \n",
       "        Acidobacteria                                        3.0  \n",
       "        Bacteroidetes                                     1051.0  \n",
       "        Candidatus Saccharibacteria                         55.0  "
      ]
     },
     "execution_count": 22,
     "metadata": {},
     "output_type": "execute_result"
    }
   ],
   "source": [
    "phylum_level_t.head(3)"
   ]
  },
  {
   "cell_type": "code",
   "execution_count": 27,
   "metadata": {
    "collapsed": false
   },
   "outputs": [],
   "source": [
    "phylum_level_t.rename(columns=lambda x: x.replace('.krakenreport.txt', ''), inplace=True)\n",
    "phylum_level_t.head(3)\n",
    "phylum_level_t['full_taxa'] = phylum_level_t.index"
   ]
  },
  {
   "cell_type": "code",
   "execution_count": 28,
   "metadata": {
    "collapsed": false
   },
   "outputs": [],
   "source": [
    "#list(phylum_level_t.index.values)"
   ]
  },
  {
   "cell_type": "code",
   "execution_count": 29,
   "metadata": {
    "collapsed": false
   },
   "outputs": [],
   "source": [
    "# Function to return N values from a series\n",
    "def sorted(s, num):\n",
    "    tmp = s.sort_values(ascending=False)[:num]\n",
    "    tmp.index = range(num)\n",
    "    return tmp"
   ]
  },
  {
   "cell_type": "code",
   "execution_count": 30,
   "metadata": {
    "collapsed": false
   },
   "outputs": [],
   "source": [
    "phylum_top_10_taxa = phylum_level_t.apply(lambda x: sorted(x, 10))"
   ]
  },
  {
   "cell_type": "code",
   "execution_count": 31,
   "metadata": {
    "collapsed": false
   },
   "outputs": [
    {
     "data": {
      "text/html": [
       "<div>\n",
       "<table border=\"1\" class=\"dataframe\">\n",
       "  <thead>\n",
       "    <tr style=\"text-align: right;\">\n",
       "      <th>sample_id</th>\n",
       "      <th>CC140620_1</th>\n",
       "      <th>CC140620_25</th>\n",
       "      <th>CC140620_33</th>\n",
       "      <th>CC140620_37</th>\n",
       "      <th>CC140620_5</th>\n",
       "      <th>full_taxa</th>\n",
       "    </tr>\n",
       "  </thead>\n",
       "  <tbody>\n",
       "    <tr>\n",
       "      <th>0</th>\n",
       "      <td>2034.0</td>\n",
       "      <td>3167.0</td>\n",
       "      <td>1780.0</td>\n",
       "      <td>2802.0</td>\n",
       "      <td>5999.0</td>\n",
       "      <td>Thermotogae</td>\n",
       "    </tr>\n",
       "    <tr>\n",
       "      <th>1</th>\n",
       "      <td>1916.0</td>\n",
       "      <td>1799.0</td>\n",
       "      <td>1072.0</td>\n",
       "      <td>2102.0</td>\n",
       "      <td>1939.0</td>\n",
       "      <td>Thermodesulfobacteria</td>\n",
       "    </tr>\n",
       "    <tr>\n",
       "      <th>2</th>\n",
       "      <td>1365.0</td>\n",
       "      <td>756.0</td>\n",
       "      <td>486.0</td>\n",
       "      <td>691.0</td>\n",
       "      <td>1051.0</td>\n",
       "      <td>Thaumarchaeota</td>\n",
       "    </tr>\n",
       "  </tbody>\n",
       "</table>\n",
       "</div>"
      ],
      "text/plain": [
       "sample_id  CC140620_1  CC140620_25  CC140620_33  CC140620_37  CC140620_5  \\\n",
       "0              2034.0       3167.0       1780.0       2802.0      5999.0   \n",
       "1              1916.0       1799.0       1072.0       2102.0      1939.0   \n",
       "2              1365.0        756.0        486.0        691.0      1051.0   \n",
       "\n",
       "sample_id                    full_taxa  \n",
       "0                          Thermotogae  \n",
       "1                Thermodesulfobacteria  \n",
       "2                       Thaumarchaeota  "
      ]
     },
     "execution_count": 31,
     "metadata": {},
     "output_type": "execute_result"
    }
   ],
   "source": [
    "phylum_top_10_taxa.head(3)"
   ]
  },
  {
   "cell_type": "code",
   "execution_count": 33,
   "metadata": {
    "collapsed": false
   },
   "outputs": [],
   "source": [
    "indexed_df = phylum_top_10_taxa.set_index(['full_taxa'])"
   ]
  },
  {
   "cell_type": "code",
   "execution_count": 38,
   "metadata": {
    "collapsed": false
   },
   "outputs": [],
   "source": [
    "df_top_rel = indexed_df/phylum_level_t.sum(numeric_only=True)"
   ]
  },
  {
   "cell_type": "code",
   "execution_count": 39,
   "metadata": {
    "collapsed": false
   },
   "outputs": [
    {
     "data": {
      "text/html": [
       "<div>\n",
       "<table border=\"1\" class=\"dataframe\">\n",
       "  <thead>\n",
       "    <tr style=\"text-align: right;\">\n",
       "      <th>sample_id</th>\n",
       "      <th>CC140620_1</th>\n",
       "      <th>CC140620_25</th>\n",
       "      <th>CC140620_33</th>\n",
       "      <th>CC140620_37</th>\n",
       "      <th>CC140620_5</th>\n",
       "    </tr>\n",
       "    <tr>\n",
       "      <th>full_taxa</th>\n",
       "      <th></th>\n",
       "      <th></th>\n",
       "      <th></th>\n",
       "      <th></th>\n",
       "      <th></th>\n",
       "    </tr>\n",
       "  </thead>\n",
       "  <tbody>\n",
       "    <tr>\n",
       "      <th>Thermotogae</th>\n",
       "      <td>0.313695</td>\n",
       "      <td>0.424360</td>\n",
       "      <td>0.462458</td>\n",
       "      <td>0.382265</td>\n",
       "      <td>0.566799</td>\n",
       "    </tr>\n",
       "    <tr>\n",
       "      <th>Thermodesulfobacteria</th>\n",
       "      <td>0.295497</td>\n",
       "      <td>0.241056</td>\n",
       "      <td>0.278514</td>\n",
       "      <td>0.286767</td>\n",
       "      <td>0.183201</td>\n",
       "    </tr>\n",
       "    <tr>\n",
       "      <th>Thaumarchaeota</th>\n",
       "      <td>0.210518</td>\n",
       "      <td>0.101300</td>\n",
       "      <td>0.126267</td>\n",
       "      <td>0.094270</td>\n",
       "      <td>0.099301</td>\n",
       "    </tr>\n",
       "  </tbody>\n",
       "</table>\n",
       "</div>"
      ],
      "text/plain": [
       "sample_id                    CC140620_1  CC140620_25  CC140620_33  \\\n",
       "full_taxa                                                           \n",
       "      Thermotogae              0.313695     0.424360     0.462458   \n",
       "      Thermodesulfobacteria    0.295497     0.241056     0.278514   \n",
       "      Thaumarchaeota           0.210518     0.101300     0.126267   \n",
       "\n",
       "sample_id                    CC140620_37  CC140620_5  \n",
       "full_taxa                                             \n",
       "      Thermotogae               0.382265    0.566799  \n",
       "      Thermodesulfobacteria     0.286767    0.183201  \n",
       "      Thaumarchaeota            0.094270    0.099301  "
      ]
     },
     "execution_count": 39,
     "metadata": {},
     "output_type": "execute_result"
    }
   ],
   "source": [
    "df_top_rel.head(3)"
   ]
  },
  {
   "cell_type": "code",
   "execution_count": 40,
   "metadata": {
    "collapsed": false
   },
   "outputs": [
    {
     "data": {
      "image/png": "[encoded data removed]",
      "text/plain": [
       "<matplotlib.figure.Figure at 0x10c19ea58>"
      ]
     },
     "metadata": {},
     "output_type": "display_data"
    }
   ],
   "source": [
    "df_top_rel_t = df_top_rel.transpose()\n",
    "p1 = df_top_rel_t.plot(kind='bar',stacked=True)\n",
    "p1.legend(loc='center left', bbox_to_anchor=(1.0, 0.5))\n",
    "p1.figure.set_size_inches(10,8)"
   ]
  },
  {
   "cell_type": "markdown",
   "metadata": {},
   "source": [
    "### Virus "
   ]
  },
  {
   "cell_type": "code",
   "execution_count": 44,
   "metadata": {
    "collapsed": false
   },
   "outputs": [],
   "source": [
    "virus_df = df[df['full_tax'].str.contains(\"viridae\",\"Pandoravirus\")]"
   ]
  },
  {
   "cell_type": "code",
   "execution_count": 46,
   "metadata": {
    "collapsed": false
   },
   "outputs": [
    {
     "data": {
      "text/html": [
       "<div>\n",
       "<table border=\"1\" class=\"dataframe\">\n",
       "  <thead>\n",
       "    <tr style=\"text-align: right;\">\n",
       "      <th></th>\n",
       "      <th>percent_reads</th>\n",
       "      <th>reads_at_root</th>\n",
       "      <th>reads</th>\n",
       "      <th>rank</th>\n",
       "      <th>tax_id</th>\n",
       "      <th>full_tax</th>\n",
       "      <th>sample_id</th>\n",
       "    </tr>\n",
       "  </thead>\n",
       "  <tbody>\n",
       "    <tr>\n",
       "      <th>1792</th>\n",
       "      <td>0.02</td>\n",
       "      <td>216</td>\n",
       "      <td>0</td>\n",
       "      <td>F</td>\n",
       "      <td>548682</td>\n",
       "      <td>Alloherpesviridae</td>\n",
       "      <td>CC140620_1.krakenreport.txt</td>\n",
       "    </tr>\n",
       "    <tr>\n",
       "      <th>1798</th>\n",
       "      <td>0.01</td>\n",
       "      <td>138</td>\n",
       "      <td>1</td>\n",
       "      <td>F</td>\n",
       "      <td>10292</td>\n",
       "      <td>Herpesviridae</td>\n",
       "      <td>CC140620_1.krakenreport.txt</td>\n",
       "    </tr>\n",
       "    <tr>\n",
       "      <th>1823</th>\n",
       "      <td>0.00</td>\n",
       "      <td>45</td>\n",
       "      <td>0</td>\n",
       "      <td>F</td>\n",
       "      <td>10744</td>\n",
       "      <td>Podoviridae</td>\n",
       "      <td>CC140620_1.krakenreport.txt</td>\n",
       "    </tr>\n",
       "  </tbody>\n",
       "</table>\n",
       "</div>"
      ],
      "text/plain": [
       "      percent_reads  reads_at_root  reads rank  tax_id  \\\n",
       "1792           0.02            216      0    F  548682   \n",
       "1798           0.01            138      1    F   10292   \n",
       "1823           0.00             45      0    F   10744   \n",
       "\n",
       "                       full_tax                    sample_id  \n",
       "1792          Alloherpesviridae  CC140620_1.krakenreport.txt  \n",
       "1798              Herpesviridae  CC140620_1.krakenreport.txt  \n",
       "1823                Podoviridae  CC140620_1.krakenreport.txt  "
      ]
     },
     "execution_count": 46,
     "metadata": {},
     "output_type": "execute_result"
    }
   ],
   "source": [
    "virus_df.head(10)"
   ]
  },
  {
   "cell_type": "code",
   "execution_count": null,
   "metadata": {
    "collapsed": true
   },
   "outputs": [],
   "source": []
  }
 ],
 "metadata": {
  "kernelspec": {
   "display_name": "IPython (Python 3)",
   "language": "python",
   "name": "python3"
  },
  "language_info": {
   "codemirror_mode": {
    "name": "ipython",
    "version": 3
   },
   "file_extension": ".py",
   "mimetype": "text/x-python",
   "name": "python",
   "nbconvert_exporter": "python",
   "pygments_lexer": "ipython3",
   "version": "3.5.1"
  }
 },
 "nbformat": 4,
 "nbformat_minor": 0
}
