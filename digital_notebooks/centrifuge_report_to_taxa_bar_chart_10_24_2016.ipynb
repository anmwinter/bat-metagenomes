{
 "cells": [
  {
   "cell_type": "code",
   "execution_count": 366,
   "metadata": {
    "collapsed": true
   },
   "outputs": [],
   "source": [
    "import seaborn as sns\n",
    "import pandas as pd\n",
    "import glob\n",
    "import os\n",
    "from pylab import savefig\n",
    "\n",
    "# This is a commnet. The line the follows allows for inline plotting. i.e. your plots will show up in these boxes.\n",
    "%matplotlib inline\n",
    "\n",
    "from IPython.display import Image"
   ]
  },
  {
   "cell_type": "code",
   "execution_count": 13,
   "metadata": {
    "collapsed": true
   },
   "outputs": [],
   "source": [
    "path = '/Users/ara/Documents/bat_metagenomes/centrifuge_CAVE/'   "
   ]
  },
  {
   "cell_type": "code",
   "execution_count": 14,
   "metadata": {
    "collapsed": true
   },
   "outputs": [],
   "source": [
    "my_dir = path\n",
    "filelist = []\n",
    "filesList = []\n",
    "os.chdir( my_dir )"
   ]
  },
  {
   "cell_type": "markdown",
   "metadata": {},
   "source": [
    "### NOTE\n",
    "All my output files from centrifuge are called something like foo_1_centrifuge_report.tsv. The next chunk of code expects the end of the file name to be: centrifuge_report.tsv . "
   ]
  },
  {
   "cell_type": "code",
   "execution_count": 84,
   "metadata": {
    "collapsed": true
   },
   "outputs": [],
   "source": [
    "for files in glob.glob(\"*centrifuge_report.tsv\"):\n",
    "    #fileName, fileExtension = os.path.splitext(files)\n",
    "    filelist.append(filesList) #filename without extension\n",
    "    filesList.append(files) #filename with extension"
   ]
  },
  {
   "cell_type": "markdown",
   "metadata": {},
   "source": [
    "This loops through each file and reads them into a pandas dataframe. "
   ]
  },
  {
   "cell_type": "code",
   "execution_count": 85,
   "metadata": {
    "collapsed": false
   },
   "outputs": [],
   "source": [
    "df = pd.DataFrame()\n",
    "for ijk in filesList:\n",
    "    frame = pd.read_csv(ijk,sep='\\t', engine='python',header=0)\n",
    "    frame['sample_id']=ijk\n",
    "    df = df.append(frame) "
   ]
  },
  {
   "cell_type": "code",
   "execution_count": 86,
   "metadata": {
    "collapsed": false
   },
   "outputs": [
    {
     "data": {
      "text/html": [
       "<div>\n",
       "<table border=\"1\" class=\"dataframe\">\n",
       "  <thead>\n",
       "    <tr style=\"text-align: right;\">\n",
       "      <th></th>\n",
       "      <th>name</th>\n",
       "      <th>taxID</th>\n",
       "      <th>taxRank</th>\n",
       "      <th>genomeSize</th>\n",
       "      <th>numReads</th>\n",
       "      <th>numUniqueReads</th>\n",
       "      <th>abundance</th>\n",
       "      <th>sample_id</th>\n",
       "    </tr>\n",
       "  </thead>\n",
       "  <tbody>\n",
       "    <tr>\n",
       "      <th>0</th>\n",
       "      <td>Azorhizobium caulinodans</td>\n",
       "      <td>7</td>\n",
       "      <td>species</td>\n",
       "      <td>5369772</td>\n",
       "      <td>6</td>\n",
       "      <td>3</td>\n",
       "      <td>0.0</td>\n",
       "      <td>CC140620_1_centrifuge_report.tsv</td>\n",
       "    </tr>\n",
       "    <tr>\n",
       "      <th>1</th>\n",
       "      <td>Buchnera aphidicola</td>\n",
       "      <td>9</td>\n",
       "      <td>species</td>\n",
       "      <td>621119</td>\n",
       "      <td>71</td>\n",
       "      <td>59</td>\n",
       "      <td>0.0</td>\n",
       "      <td>CC140620_1_centrifuge_report.tsv</td>\n",
       "    </tr>\n",
       "    <tr>\n",
       "      <th>2</th>\n",
       "      <td>Cellulomonas gilvus</td>\n",
       "      <td>11</td>\n",
       "      <td>species</td>\n",
       "      <td>3526441</td>\n",
       "      <td>12</td>\n",
       "      <td>4</td>\n",
       "      <td>0.0</td>\n",
       "      <td>CC140620_1_centrifuge_report.tsv</td>\n",
       "    </tr>\n",
       "    <tr>\n",
       "      <th>3</th>\n",
       "      <td>Dictyoglomus thermophilum</td>\n",
       "      <td>14</td>\n",
       "      <td>species</td>\n",
       "      <td>1959987</td>\n",
       "      <td>7</td>\n",
       "      <td>7</td>\n",
       "      <td>0.0</td>\n",
       "      <td>CC140620_1_centrifuge_report.tsv</td>\n",
       "    </tr>\n",
       "    <tr>\n",
       "      <th>4</th>\n",
       "      <td>Pelobacter carbinolicus</td>\n",
       "      <td>19</td>\n",
       "      <td>species</td>\n",
       "      <td>3665893</td>\n",
       "      <td>5</td>\n",
       "      <td>5</td>\n",
       "      <td>0.0</td>\n",
       "      <td>CC140620_1_centrifuge_report.tsv</td>\n",
       "    </tr>\n",
       "  </tbody>\n",
       "</table>\n",
       "</div>"
      ],
      "text/plain": [
       "                        name  taxID  taxRank  genomeSize  numReads  \\\n",
       "0   Azorhizobium caulinodans      7  species     5369772         6   \n",
       "1        Buchnera aphidicola      9  species      621119        71   \n",
       "2        Cellulomonas gilvus     11  species     3526441        12   \n",
       "3  Dictyoglomus thermophilum     14  species     1959987         7   \n",
       "4    Pelobacter carbinolicus     19  species     3665893         5   \n",
       "\n",
       "   numUniqueReads  abundance                         sample_id  \n",
       "0               3        0.0  CC140620_1_centrifuge_report.tsv  \n",
       "1              59        0.0  CC140620_1_centrifuge_report.tsv  \n",
       "2               4        0.0  CC140620_1_centrifuge_report.tsv  \n",
       "3               7        0.0  CC140620_1_centrifuge_report.tsv  \n",
       "4               5        0.0  CC140620_1_centrifuge_report.tsv  "
      ]
     },
     "execution_count": 86,
     "metadata": {},
     "output_type": "execute_result"
    }
   ],
   "source": [
    "df.head(5)"
   ]
  },
  {
   "cell_type": "markdown",
   "metadata": {},
   "source": [
    "In case you want to see the distrubtion of genome sizes in your taxonomy. "
   ]
  },
  {
   "cell_type": "code",
   "execution_count": 87,
   "metadata": {
    "collapsed": false
   },
   "outputs": [
    {
     "name": "stderr",
     "output_type": "stream",
     "text": [
      "/Library/Frameworks/Python.framework/Versions/3.5/lib/python3.5/site-packages/statsmodels/nonparametric/kdetools.py:20: VisibleDeprecationWarning: using a non-integer number instead of an integer will result in an error in the future\n",
      "  y = X[:m/2+1] + np.r_[0,X[m/2+1:],0]*1j\n"
     ]
    },
    {
     "data": {
      "text/plain": [
       "<matplotlib.axes._subplots.AxesSubplot at 0x10c3d03c8>"
      ]
     },
     "execution_count": 87,
     "metadata": {},
     "output_type": "execute_result"
    },
    {
     "data": {
      "image/png": "[encoded data removed]",
      "text/plain": [
       "<matplotlib.figure.Figure at 0x10c3cbe10>"
      ]
     },
     "metadata": {},
     "output_type": "display_data"
    }
   ],
   "source": [
    "sns.distplot(df.genomeSize)"
   ]
  },
  {
   "cell_type": "markdown",
   "metadata": {},
   "source": [
    "### NOTE\n",
    "What follows here is a lot of manipulation of the data frame to get all the data going in the right direction."
   ]
  },
  {
   "cell_type": "code",
   "execution_count": 173,
   "metadata": {
    "collapsed": false
   },
   "outputs": [],
   "source": [
    "df_taxa_reads = df.pivot_table(index='sample_id', columns='name', values='numReads')"
   ]
  },
  {
   "cell_type": "code",
   "execution_count": 174,
   "metadata": {
    "collapsed": false
   },
   "outputs": [],
   "source": [
    "df_taxa_genomesize = df.pivot_table(index='sample_id', columns='name', values='genomeSize')"
   ]
  },
  {
   "cell_type": "code",
   "execution_count": 176,
   "metadata": {
    "collapsed": false
   },
   "outputs": [],
   "source": [
    "df_taxa_reads.reset_index(level=0, inplace=True)"
   ]
  },
  {
   "cell_type": "code",
   "execution_count": 177,
   "metadata": {
    "collapsed": true
   },
   "outputs": [],
   "source": [
    "df_taxa_reads = df_taxa_reads.fillna(0)"
   ]
  },
  {
   "cell_type": "code",
   "execution_count": 178,
   "metadata": {
    "collapsed": false
   },
   "outputs": [
    {
     "data": {
      "text/html": [
       "<div>\n",
       "<table border=\"1\" class=\"dataframe\">\n",
       "  <thead>\n",
       "    <tr style=\"text-align: right;\">\n",
       "      <th>name</th>\n",
       "      <th>sample_id</th>\n",
       "      <th>'Deinococcus soli' Cha et al. 2014</th>\n",
       "      <th>Acaryochloris marina</th>\n",
       "      <th>Acetobacter</th>\n",
       "      <th>Acetobacter pasteurianus</th>\n",
       "      <th>Acetobacter senegalensis</th>\n",
       "      <th>Acetobacteraceae</th>\n",
       "      <th>Acetobacterium</th>\n",
       "      <th>Acetobacterium woodii</th>\n",
       "      <th>Acetohalobium arabaticum</th>\n",
       "      <th>...</th>\n",
       "      <th>candidate division SR1 bacterium RAAC1_SR1_1</th>\n",
       "      <th>cyanobacterium endosymbiont of Epithemia turgida</th>\n",
       "      <th>endosymbiont of Acanthamoeba sp. UWC8</th>\n",
       "      <th>endosymbiont of Llaveia axin axin</th>\n",
       "      <th>endosymbiont of unidentified scaly snail isolate Monju</th>\n",
       "      <th>gamma proteobacterium HdN1</th>\n",
       "      <th>halophilic archaeon DL31</th>\n",
       "      <th>secondary endosymbiont of Ctenarytaina eucalypti</th>\n",
       "      <th>secondary endosymbiont of Heteropsylla cubana</th>\n",
       "      <th>uncultured Termite group 1 bacterium</th>\n",
       "    </tr>\n",
       "  </thead>\n",
       "  <tbody>\n",
       "    <tr>\n",
       "      <th>0</th>\n",
       "      <td>CC140620_1_centrifuge_report.tsv</td>\n",
       "      <td>15.0</td>\n",
       "      <td>22.0</td>\n",
       "      <td>0.0</td>\n",
       "      <td>19.0</td>\n",
       "      <td>7.0</td>\n",
       "      <td>1.0</td>\n",
       "      <td>0.0</td>\n",
       "      <td>14.0</td>\n",
       "      <td>18.0</td>\n",
       "      <td>...</td>\n",
       "      <td>9.0</td>\n",
       "      <td>13.0</td>\n",
       "      <td>7.0</td>\n",
       "      <td>10.0</td>\n",
       "      <td>13.0</td>\n",
       "      <td>17.0</td>\n",
       "      <td>27.0</td>\n",
       "      <td>3.0</td>\n",
       "      <td>9.0</td>\n",
       "      <td>6.0</td>\n",
       "    </tr>\n",
       "    <tr>\n",
       "      <th>1</th>\n",
       "      <td>CC140620_25_centrifuge_report.tsv</td>\n",
       "      <td>8.0</td>\n",
       "      <td>25.0</td>\n",
       "      <td>0.0</td>\n",
       "      <td>14.0</td>\n",
       "      <td>9.0</td>\n",
       "      <td>3.0</td>\n",
       "      <td>0.0</td>\n",
       "      <td>11.0</td>\n",
       "      <td>15.0</td>\n",
       "      <td>...</td>\n",
       "      <td>11.0</td>\n",
       "      <td>24.0</td>\n",
       "      <td>15.0</td>\n",
       "      <td>11.0</td>\n",
       "      <td>20.0</td>\n",
       "      <td>15.0</td>\n",
       "      <td>9.0</td>\n",
       "      <td>7.0</td>\n",
       "      <td>11.0</td>\n",
       "      <td>12.0</td>\n",
       "    </tr>\n",
       "    <tr>\n",
       "      <th>2</th>\n",
       "      <td>CC140620_33_centrifuge_report.tsv</td>\n",
       "      <td>2.0</td>\n",
       "      <td>8.0</td>\n",
       "      <td>0.0</td>\n",
       "      <td>10.0</td>\n",
       "      <td>2.0</td>\n",
       "      <td>0.0</td>\n",
       "      <td>0.0</td>\n",
       "      <td>8.0</td>\n",
       "      <td>5.0</td>\n",
       "      <td>...</td>\n",
       "      <td>8.0</td>\n",
       "      <td>9.0</td>\n",
       "      <td>5.0</td>\n",
       "      <td>4.0</td>\n",
       "      <td>3.0</td>\n",
       "      <td>7.0</td>\n",
       "      <td>1.0</td>\n",
       "      <td>2.0</td>\n",
       "      <td>7.0</td>\n",
       "      <td>2.0</td>\n",
       "    </tr>\n",
       "  </tbody>\n",
       "</table>\n",
       "<p>3 rows × 2763 columns</p>\n",
       "</div>"
      ],
      "text/plain": [
       "name                          sample_id  'Deinococcus soli' Cha et al. 2014  \\\n",
       "0      CC140620_1_centrifuge_report.tsv                                15.0   \n",
       "1     CC140620_25_centrifuge_report.tsv                                 8.0   \n",
       "2     CC140620_33_centrifuge_report.tsv                                 2.0   \n",
       "\n",
       "name  Acaryochloris marina  Acetobacter  Acetobacter pasteurianus  \\\n",
       "0                     22.0          0.0                      19.0   \n",
       "1                     25.0          0.0                      14.0   \n",
       "2                      8.0          0.0                      10.0   \n",
       "\n",
       "name  Acetobacter senegalensis  Acetobacteraceae  Acetobacterium  \\\n",
       "0                          7.0               1.0             0.0   \n",
       "1                          9.0               3.0             0.0   \n",
       "2                          2.0               0.0             0.0   \n",
       "\n",
       "name  Acetobacterium woodii  Acetohalobium arabaticum  \\\n",
       "0                      14.0                      18.0   \n",
       "1                      11.0                      15.0   \n",
       "2                       8.0                       5.0   \n",
       "\n",
       "name                  ...                   \\\n",
       "0                     ...                    \n",
       "1                     ...                    \n",
       "2                     ...                    \n",
       "\n",
       "name  candidate division SR1 bacterium RAAC1_SR1_1  \\\n",
       "0                                              9.0   \n",
       "1                                             11.0   \n",
       "2                                              8.0   \n",
       "\n",
       "name  cyanobacterium endosymbiont of Epithemia turgida  \\\n",
       "0                                                 13.0   \n",
       "1                                                 24.0   \n",
       "2                                                  9.0   \n",
       "\n",
       "name  endosymbiont of Acanthamoeba sp. UWC8  \\\n",
       "0                                       7.0   \n",
       "1                                      15.0   \n",
       "2                                       5.0   \n",
       "\n",
       "name  endosymbiont of Llaveia axin axin  \\\n",
       "0                                  10.0   \n",
       "1                                  11.0   \n",
       "2                                   4.0   \n",
       "\n",
       "name  endosymbiont of unidentified scaly snail isolate Monju  \\\n",
       "0                                                  13.0        \n",
       "1                                                  20.0        \n",
       "2                                                   3.0        \n",
       "\n",
       "name  gamma proteobacterium HdN1  halophilic archaeon DL31  \\\n",
       "0                           17.0                      27.0   \n",
       "1                           15.0                       9.0   \n",
       "2                            7.0                       1.0   \n",
       "\n",
       "name  secondary endosymbiont of Ctenarytaina eucalypti  \\\n",
       "0                                                  3.0   \n",
       "1                                                  7.0   \n",
       "2                                                  2.0   \n",
       "\n",
       "name  secondary endosymbiont of Heteropsylla cubana  \\\n",
       "0                                               9.0   \n",
       "1                                              11.0   \n",
       "2                                               7.0   \n",
       "\n",
       "name  uncultured Termite group 1 bacterium  \n",
       "0                                      6.0  \n",
       "1                                     12.0  \n",
       "2                                      2.0  \n",
       "\n",
       "[3 rows x 2763 columns]"
      ]
     },
     "execution_count": 178,
     "metadata": {},
     "output_type": "execute_result"
    }
   ],
   "source": [
    "df_taxa_reads.head(3)"
   ]
  },
  {
   "cell_type": "code",
   "execution_count": 274,
   "metadata": {
    "collapsed": false
   },
   "outputs": [],
   "source": [
    "df_taxa_t = df_taxa_reads.transpose()"
   ]
  },
  {
   "cell_type": "code",
   "execution_count": 275,
   "metadata": {
    "collapsed": false
   },
   "outputs": [],
   "source": [
    "df_taxa_t.reset_index(level=0, inplace=True)"
   ]
  },
  {
   "cell_type": "code",
   "execution_count": 276,
   "metadata": {
    "collapsed": false
   },
   "outputs": [],
   "source": [
    "df_taxa_t.columns = df_taxa_t.iloc[0]"
   ]
  },
  {
   "cell_type": "code",
   "execution_count": 277,
   "metadata": {
    "collapsed": false
   },
   "outputs": [],
   "source": [
    "df_taxa_clean = df_taxa_t.drop(df.index[[0]])"
   ]
  },
  {
   "cell_type": "code",
   "execution_count": 278,
   "metadata": {
    "collapsed": true
   },
   "outputs": [],
   "source": [
    "df_taxa_clean.rename(columns=lambda x: x.replace('_centrifuge_report.tsv', ''), inplace=True)"
   ]
  },
  {
   "cell_type": "code",
   "execution_count": 279,
   "metadata": {
    "collapsed": false
   },
   "outputs": [
    {
     "data": {
      "text/html": [
       "<div>\n",
       "<table border=\"1\" class=\"dataframe\">\n",
       "  <thead>\n",
       "    <tr style=\"text-align: right;\">\n",
       "      <th></th>\n",
       "      <th>sample_id</th>\n",
       "      <th>CC140620_1</th>\n",
       "      <th>CC140620_25</th>\n",
       "      <th>CC140620_33</th>\n",
       "      <th>CC140620_37</th>\n",
       "      <th>CC140620_5</th>\n",
       "      <th>CC150624_21</th>\n",
       "      <th>CC150624_25</th>\n",
       "      <th>CC150624_29</th>\n",
       "      <th>CC150626_1</th>\n",
       "    </tr>\n",
       "  </thead>\n",
       "  <tbody>\n",
       "    <tr>\n",
       "      <th>1</th>\n",
       "      <td>'Deinococcus soli' Cha et al. 2014</td>\n",
       "      <td>15</td>\n",
       "      <td>8</td>\n",
       "      <td>2</td>\n",
       "      <td>6</td>\n",
       "      <td>7</td>\n",
       "      <td>34</td>\n",
       "      <td>30</td>\n",
       "      <td>8</td>\n",
       "      <td>34</td>\n",
       "    </tr>\n",
       "    <tr>\n",
       "      <th>2</th>\n",
       "      <td>Acaryochloris marina</td>\n",
       "      <td>22</td>\n",
       "      <td>25</td>\n",
       "      <td>8</td>\n",
       "      <td>37</td>\n",
       "      <td>22</td>\n",
       "      <td>14</td>\n",
       "      <td>17</td>\n",
       "      <td>8</td>\n",
       "      <td>13</td>\n",
       "    </tr>\n",
       "    <tr>\n",
       "      <th>3</th>\n",
       "      <td>Acetobacter</td>\n",
       "      <td>0</td>\n",
       "      <td>0</td>\n",
       "      <td>0</td>\n",
       "      <td>1</td>\n",
       "      <td>0</td>\n",
       "      <td>0</td>\n",
       "      <td>0</td>\n",
       "      <td>0</td>\n",
       "      <td>0</td>\n",
       "    </tr>\n",
       "  </tbody>\n",
       "</table>\n",
       "</div>"
      ],
      "text/plain": [
       "0                           sample_id CC140620_1 CC140620_25 CC140620_33  \\\n",
       "1  'Deinococcus soli' Cha et al. 2014         15           8           2   \n",
       "2                Acaryochloris marina         22          25           8   \n",
       "3                         Acetobacter          0           0           0   \n",
       "\n",
       "0 CC140620_37 CC140620_5 CC150624_21 CC150624_25 CC150624_29 CC150626_1  \n",
       "1           6          7          34          30           8         34  \n",
       "2          37         22          14          17           8         13  \n",
       "3           1          0           0           0           0          0  "
      ]
     },
     "execution_count": 279,
     "metadata": {},
     "output_type": "execute_result"
    }
   ],
   "source": [
    "df_taxa_clean.head(3)"
   ]
  },
  {
   "cell_type": "code",
   "execution_count": 360,
   "metadata": {
    "collapsed": false
   },
   "outputs": [
    {
     "data": {
      "text/plain": [
       "0\n",
       "sample_id      'Deinococcus soli' Cha et al. 2014Acaryochlori...\n",
       "CC140620_1                                                 56004\n",
       "CC140620_25                                                56299\n",
       "CC140620_33                                                29202\n",
       "CC140620_37                                                70594\n",
       "CC140620_5                                                 58979\n",
       "CC150624_21                                               103683\n",
       "CC150624_25                                                75439\n",
       "CC150624_29                                                37449\n",
       "CC150626_1                                                 95417\n",
       "dtype: object"
      ]
     },
     "execution_count": 360,
     "metadata": {},
     "output_type": "execute_result"
    }
   ],
   "source": [
    "df_taxa_clean.sum()"
   ]
  },
  {
   "cell_type": "markdown",
   "metadata": {},
   "source": [
    "Centrifuge dumps out it's report at the species level with some genus and class stuff. This results in a huge amount of data to visualize. Here we find the top ten hits for each metagenome. "
   ]
  },
  {
   "cell_type": "code",
   "execution_count": 292,
   "metadata": {
    "collapsed": false
   },
   "outputs": [],
   "source": [
    "# Function to return N values from a series\n",
    "def sorted(s, num):\n",
    "    tmp = s.sort_values(ascending=False)[:num]\n",
    "    tmp.index = range(num)\n",
    "    return tmp"
   ]
  },
  {
   "cell_type": "code",
   "execution_count": 346,
   "metadata": {
    "collapsed": false
   },
   "outputs": [],
   "source": [
    "df_top_10_taxa = df_taxa_clean.apply(lambda x: sorted(x, 10))"
   ]
  },
  {
   "cell_type": "code",
   "execution_count": 347,
   "metadata": {
    "collapsed": false
   },
   "outputs": [
    {
     "data": {
      "text/html": [
       "<div>\n",
       "<table border=\"1\" class=\"dataframe\">\n",
       "  <thead>\n",
       "    <tr style=\"text-align: right;\">\n",
       "      <th></th>\n",
       "      <th>sample_id</th>\n",
       "      <th>CC140620_1</th>\n",
       "      <th>CC140620_25</th>\n",
       "      <th>CC140620_33</th>\n",
       "      <th>CC140620_37</th>\n",
       "      <th>CC140620_5</th>\n",
       "      <th>CC150624_21</th>\n",
       "      <th>CC150624_25</th>\n",
       "      <th>CC150624_29</th>\n",
       "      <th>CC150626_1</th>\n",
       "    </tr>\n",
       "  </thead>\n",
       "  <tbody>\n",
       "    <tr>\n",
       "      <th>0</th>\n",
       "      <td>uncultured Termite group 1 bacterium</td>\n",
       "      <td>1316.0</td>\n",
       "      <td>1122.0</td>\n",
       "      <td>1075.0</td>\n",
       "      <td>1415.0</td>\n",
       "      <td>4464.0</td>\n",
       "      <td>7893.0</td>\n",
       "      <td>1007.0</td>\n",
       "      <td>1039.0</td>\n",
       "      <td>1012.0</td>\n",
       "    </tr>\n",
       "    <tr>\n",
       "      <th>1</th>\n",
       "      <td>secondary endosymbiont of Heteropsylla cubana</td>\n",
       "      <td>1179.0</td>\n",
       "      <td>809.0</td>\n",
       "      <td>706.0</td>\n",
       "      <td>847.0</td>\n",
       "      <td>1167.0</td>\n",
       "      <td>1012.0</td>\n",
       "      <td>359.0</td>\n",
       "      <td>972.0</td>\n",
       "      <td>872.0</td>\n",
       "    </tr>\n",
       "    <tr>\n",
       "      <th>2</th>\n",
       "      <td>secondary endosymbiont of Ctenarytaina eucalypti</td>\n",
       "      <td>1030.0</td>\n",
       "      <td>566.0</td>\n",
       "      <td>586.0</td>\n",
       "      <td>837.0</td>\n",
       "      <td>1001.0</td>\n",
       "      <td>872.0</td>\n",
       "      <td>357.0</td>\n",
       "      <td>827.0</td>\n",
       "      <td>799.0</td>\n",
       "    </tr>\n",
       "    <tr>\n",
       "      <th>3</th>\n",
       "      <td>halophilic archaeon DL31</td>\n",
       "      <td>957.0</td>\n",
       "      <td>544.0</td>\n",
       "      <td>382.0</td>\n",
       "      <td>822.0</td>\n",
       "      <td>824.0</td>\n",
       "      <td>695.0</td>\n",
       "      <td>337.0</td>\n",
       "      <td>379.0</td>\n",
       "      <td>695.0</td>\n",
       "    </tr>\n",
       "    <tr>\n",
       "      <th>4</th>\n",
       "      <td>gamma proteobacterium HdN1</td>\n",
       "      <td>588.0</td>\n",
       "      <td>481.0</td>\n",
       "      <td>379.0</td>\n",
       "      <td>773.0</td>\n",
       "      <td>734.0</td>\n",
       "      <td>582.0</td>\n",
       "      <td>326.0</td>\n",
       "      <td>351.0</td>\n",
       "      <td>582.0</td>\n",
       "    </tr>\n",
       "    <tr>\n",
       "      <th>5</th>\n",
       "      <td>endosymbiont of unidentified scaly snail isola...</td>\n",
       "      <td>574.0</td>\n",
       "      <td>475.0</td>\n",
       "      <td>352.0</td>\n",
       "      <td>712.0</td>\n",
       "      <td>588.0</td>\n",
       "      <td>573.0</td>\n",
       "      <td>315.0</td>\n",
       "      <td>351.0</td>\n",
       "      <td>573.0</td>\n",
       "    </tr>\n",
       "    <tr>\n",
       "      <th>6</th>\n",
       "      <td>endosymbiont of Llaveia axin axin</td>\n",
       "      <td>554.0</td>\n",
       "      <td>439.0</td>\n",
       "      <td>289.0</td>\n",
       "      <td>695.0</td>\n",
       "      <td>476.0</td>\n",
       "      <td>570.0</td>\n",
       "      <td>312.0</td>\n",
       "      <td>329.0</td>\n",
       "      <td>567.0</td>\n",
       "    </tr>\n",
       "    <tr>\n",
       "      <th>7</th>\n",
       "      <td>endosymbiont of Acanthamoeba sp. UWC8</td>\n",
       "      <td>551.0</td>\n",
       "      <td>437.0</td>\n",
       "      <td>259.0</td>\n",
       "      <td>600.0</td>\n",
       "      <td>462.0</td>\n",
       "      <td>564.0</td>\n",
       "      <td>311.0</td>\n",
       "      <td>208.0</td>\n",
       "      <td>564.0</td>\n",
       "    </tr>\n",
       "    <tr>\n",
       "      <th>8</th>\n",
       "      <td>cyanobacterium endosymbiont of Epithemia turgida</td>\n",
       "      <td>547.0</td>\n",
       "      <td>434.0</td>\n",
       "      <td>245.0</td>\n",
       "      <td>490.0</td>\n",
       "      <td>430.0</td>\n",
       "      <td>508.0</td>\n",
       "      <td>310.0</td>\n",
       "      <td>207.0</td>\n",
       "      <td>508.0</td>\n",
       "    </tr>\n",
       "    <tr>\n",
       "      <th>9</th>\n",
       "      <td>candidate division SR1 bacterium RAAC1_SR1_1</td>\n",
       "      <td>496.0</td>\n",
       "      <td>429.0</td>\n",
       "      <td>236.0</td>\n",
       "      <td>450.0</td>\n",
       "      <td>414.0</td>\n",
       "      <td>492.0</td>\n",
       "      <td>307.0</td>\n",
       "      <td>168.0</td>\n",
       "      <td>492.0</td>\n",
       "    </tr>\n",
       "  </tbody>\n",
       "</table>\n",
       "</div>"
      ],
      "text/plain": [
       "0                                          sample_id  CC140620_1  CC140620_25  \\\n",
       "0               uncultured Termite group 1 bacterium      1316.0       1122.0   \n",
       "1      secondary endosymbiont of Heteropsylla cubana      1179.0        809.0   \n",
       "2   secondary endosymbiont of Ctenarytaina eucalypti      1030.0        566.0   \n",
       "3                           halophilic archaeon DL31       957.0        544.0   \n",
       "4                         gamma proteobacterium HdN1       588.0        481.0   \n",
       "5  endosymbiont of unidentified scaly snail isola...       574.0        475.0   \n",
       "6                  endosymbiont of Llaveia axin axin       554.0        439.0   \n",
       "7              endosymbiont of Acanthamoeba sp. UWC8       551.0        437.0   \n",
       "8   cyanobacterium endosymbiont of Epithemia turgida       547.0        434.0   \n",
       "9       candidate division SR1 bacterium RAAC1_SR1_1       496.0        429.0   \n",
       "\n",
       "0  CC140620_33  CC140620_37  CC140620_5  CC150624_21  CC150624_25  \\\n",
       "0       1075.0       1415.0      4464.0       7893.0       1007.0   \n",
       "1        706.0        847.0      1167.0       1012.0        359.0   \n",
       "2        586.0        837.0      1001.0        872.0        357.0   \n",
       "3        382.0        822.0       824.0        695.0        337.0   \n",
       "4        379.0        773.0       734.0        582.0        326.0   \n",
       "5        352.0        712.0       588.0        573.0        315.0   \n",
       "6        289.0        695.0       476.0        570.0        312.0   \n",
       "7        259.0        600.0       462.0        564.0        311.0   \n",
       "8        245.0        490.0       430.0        508.0        310.0   \n",
       "9        236.0        450.0       414.0        492.0        307.0   \n",
       "\n",
       "0  CC150624_29  CC150626_1  \n",
       "0       1039.0      1012.0  \n",
       "1        972.0       872.0  \n",
       "2        827.0       799.0  \n",
       "3        379.0       695.0  \n",
       "4        351.0       582.0  \n",
       "5        351.0       573.0  \n",
       "6        329.0       567.0  \n",
       "7        208.0       564.0  \n",
       "8        207.0       508.0  \n",
       "9        168.0       492.0  "
      ]
     },
     "execution_count": 347,
     "metadata": {},
     "output_type": "execute_result"
    }
   ],
   "source": [
    "df_top_10_taxa"
   ]
  },
  {
   "cell_type": "markdown",
   "metadata": {},
   "source": [
    "### NOTE\n",
    "This section is being used to plot a bar chart of relative abundance of each taxa in the metagenomes. DO NOT USE FOR DOWNSTREAM ANALYSIS."
   ]
  },
  {
   "cell_type": "code",
   "execution_count": 348,
   "metadata": {
    "collapsed": true
   },
   "outputs": [],
   "source": [
    "indexed_df = df_top_10_taxa.set_index(['sample_id'])"
   ]
  },
  {
   "cell_type": "code",
   "execution_count": 349,
   "metadata": {
    "collapsed": false
   },
   "outputs": [
    {
     "data": {
      "text/html": [
       "<div>\n",
       "<table border=\"1\" class=\"dataframe\">\n",
       "  <thead>\n",
       "    <tr style=\"text-align: right;\">\n",
       "      <th></th>\n",
       "      <th>CC140620_1</th>\n",
       "      <th>CC140620_25</th>\n",
       "      <th>CC140620_33</th>\n",
       "      <th>CC140620_37</th>\n",
       "      <th>CC140620_5</th>\n",
       "      <th>CC150624_21</th>\n",
       "      <th>CC150624_25</th>\n",
       "      <th>CC150624_29</th>\n",
       "      <th>CC150626_1</th>\n",
       "    </tr>\n",
       "    <tr>\n",
       "      <th>sample_id</th>\n",
       "      <th></th>\n",
       "      <th></th>\n",
       "      <th></th>\n",
       "      <th></th>\n",
       "      <th></th>\n",
       "      <th></th>\n",
       "      <th></th>\n",
       "      <th></th>\n",
       "      <th></th>\n",
       "    </tr>\n",
       "  </thead>\n",
       "  <tbody>\n",
       "    <tr>\n",
       "      <th>uncultured Termite group 1 bacterium</th>\n",
       "      <td>1316.0</td>\n",
       "      <td>1122.0</td>\n",
       "      <td>1075.0</td>\n",
       "      <td>1415.0</td>\n",
       "      <td>4464.0</td>\n",
       "      <td>7893.0</td>\n",
       "      <td>1007.0</td>\n",
       "      <td>1039.0</td>\n",
       "      <td>1012.0</td>\n",
       "    </tr>\n",
       "    <tr>\n",
       "      <th>secondary endosymbiont of Heteropsylla cubana</th>\n",
       "      <td>1179.0</td>\n",
       "      <td>809.0</td>\n",
       "      <td>706.0</td>\n",
       "      <td>847.0</td>\n",
       "      <td>1167.0</td>\n",
       "      <td>1012.0</td>\n",
       "      <td>359.0</td>\n",
       "      <td>972.0</td>\n",
       "      <td>872.0</td>\n",
       "    </tr>\n",
       "    <tr>\n",
       "      <th>secondary endosymbiont of Ctenarytaina eucalypti</th>\n",
       "      <td>1030.0</td>\n",
       "      <td>566.0</td>\n",
       "      <td>586.0</td>\n",
       "      <td>837.0</td>\n",
       "      <td>1001.0</td>\n",
       "      <td>872.0</td>\n",
       "      <td>357.0</td>\n",
       "      <td>827.0</td>\n",
       "      <td>799.0</td>\n",
       "    </tr>\n",
       "    <tr>\n",
       "      <th>halophilic archaeon DL31</th>\n",
       "      <td>957.0</td>\n",
       "      <td>544.0</td>\n",
       "      <td>382.0</td>\n",
       "      <td>822.0</td>\n",
       "      <td>824.0</td>\n",
       "      <td>695.0</td>\n",
       "      <td>337.0</td>\n",
       "      <td>379.0</td>\n",
       "      <td>695.0</td>\n",
       "    </tr>\n",
       "    <tr>\n",
       "      <th>gamma proteobacterium HdN1</th>\n",
       "      <td>588.0</td>\n",
       "      <td>481.0</td>\n",
       "      <td>379.0</td>\n",
       "      <td>773.0</td>\n",
       "      <td>734.0</td>\n",
       "      <td>582.0</td>\n",
       "      <td>326.0</td>\n",
       "      <td>351.0</td>\n",
       "      <td>582.0</td>\n",
       "    </tr>\n",
       "  </tbody>\n",
       "</table>\n",
       "</div>"
      ],
      "text/plain": [
       "0                                                 CC140620_1  CC140620_25  \\\n",
       "sample_id                                                                   \n",
       "uncultured Termite group 1 bacterium                  1316.0       1122.0   \n",
       "secondary endosymbiont of Heteropsylla cubana         1179.0        809.0   \n",
       "secondary endosymbiont of Ctenarytaina eucalypti      1030.0        566.0   \n",
       "halophilic archaeon DL31                               957.0        544.0   \n",
       "gamma proteobacterium HdN1                             588.0        481.0   \n",
       "\n",
       "0                                                 CC140620_33  CC140620_37  \\\n",
       "sample_id                                                                    \n",
       "uncultured Termite group 1 bacterium                   1075.0       1415.0   \n",
       "secondary endosymbiont of Heteropsylla cubana           706.0        847.0   \n",
       "secondary endosymbiont of Ctenarytaina eucalypti        586.0        837.0   \n",
       "halophilic archaeon DL31                                382.0        822.0   \n",
       "gamma proteobacterium HdN1                              379.0        773.0   \n",
       "\n",
       "0                                                 CC140620_5  CC150624_21  \\\n",
       "sample_id                                                                   \n",
       "uncultured Termite group 1 bacterium                  4464.0       7893.0   \n",
       "secondary endosymbiont of Heteropsylla cubana         1167.0       1012.0   \n",
       "secondary endosymbiont of Ctenarytaina eucalypti      1001.0        872.0   \n",
       "halophilic archaeon DL31                               824.0        695.0   \n",
       "gamma proteobacterium HdN1                             734.0        582.0   \n",
       "\n",
       "0                                                 CC150624_25  CC150624_29  \\\n",
       "sample_id                                                                    \n",
       "uncultured Termite group 1 bacterium                   1007.0       1039.0   \n",
       "secondary endosymbiont of Heteropsylla cubana           359.0        972.0   \n",
       "secondary endosymbiont of Ctenarytaina eucalypti        357.0        827.0   \n",
       "halophilic archaeon DL31                                337.0        379.0   \n",
       "gamma proteobacterium HdN1                              326.0        351.0   \n",
       "\n",
       "0                                                 CC150626_1  \n",
       "sample_id                                                     \n",
       "uncultured Termite group 1 bacterium                  1012.0  \n",
       "secondary endosymbiont of Heteropsylla cubana          872.0  \n",
       "secondary endosymbiont of Ctenarytaina eucalypti       799.0  \n",
       "halophilic archaeon DL31                               695.0  \n",
       "gamma proteobacterium HdN1                             582.0  "
      ]
     },
     "execution_count": 349,
     "metadata": {},
     "output_type": "execute_result"
    }
   ],
   "source": [
    "indexed_df.head(5)"
   ]
  },
  {
   "cell_type": "code",
   "execution_count": 350,
   "metadata": {
    "collapsed": false
   },
   "outputs": [],
   "source": [
    "df_top_rel = indexed_df/indexed_df.sum(numeric_only=True)"
   ]
  },
  {
   "cell_type": "code",
   "execution_count": 352,
   "metadata": {
    "collapsed": false
   },
   "outputs": [],
   "source": [
    "#df_top_rel.plot(kind='bar',stacked=True)"
   ]
  },
  {
   "cell_type": "code",
   "execution_count": 353,
   "metadata": {
    "collapsed": true
   },
   "outputs": [],
   "source": [
    "T = df_top_rel.transpose()"
   ]
  },
  {
   "cell_type": "code",
   "execution_count": 367,
   "metadata": {
    "collapsed": false
   },
   "outputs": [
    {
     "data": {
      "image/png": "[encoded data removed]",
      "text/plain": [
       "<matplotlib.figure.Figure at 0x11cf6ba90>"
      ]
     },
     "metadata": {},
     "output_type": "display_data"
    }
   ],
   "source": [
    "p1 = T.plot(kind='bar',stacked=True)\n",
    "p1.legend(loc='center left', bbox_to_anchor=(1.0, 0.5))\n",
    "p1.figure.set_size_inches(10,8)\n",
    "savefig('CAVE_centrifuge_species_taxa_top_ten.pdf',bbox_inches='tight')"
   ]
  },
  {
   "cell_type": "code",
   "execution_count": null,
   "metadata": {
    "collapsed": false
   },
   "outputs": [],
   "source": []
  },
  {
   "cell_type": "markdown",
   "metadata": {},
   "source": [
    "#### 10/5/2016\n",
    "There isn't has much variation in the relative abundance of the top ten bacterial taxa. The exception is uncultured Termite group 1 bacterium. I am guessing this is related to parasite load on the bats? Also worth noting:\n",
    "Total bacteria reads annotated with the compressed centrifuge index:\n",
    "CC140620_1 -                                               56004\n",
    "\n",
    "CC140620_25 -                                               56299\n",
    "\n",
    "CC140620_33 -                                               29202\n",
    "\n",
    "CC140620_37 -                                               70594\n",
    "\n",
    "CC140620_5 -                                                58979\n",
    "\n",
    "CC150624_21 -                                              103683\n",
    "\n",
    "CC150624_25 -                                               75439\n",
    "\n",
    "CC150624_29 -                                               37449\n",
    "\n",
    "CC150626_1 -                                                95417\n",
    "\n",
    "\n",
    "\n",
    "This is a x5 to x10 more reads than minikraken."
   ]
  },
  {
   "cell_type": "code",
   "execution_count": null,
   "metadata": {
    "collapsed": true
   },
   "outputs": [],
   "source": []
  },
  {
   "cell_type": "code",
   "execution_count": 368,
   "metadata": {
    "collapsed": false
   },
   "outputs": [
    {
     "data": {
      "text/html": [
       "<div>\n",
       "<table border=\"1\" class=\"dataframe\">\n",
       "  <thead>\n",
       "    <tr style=\"text-align: right;\">\n",
       "      <th>name</th>\n",
       "      <th>'Deinococcus soli' Cha et al. 2014</th>\n",
       "      <th>Acaryochloris marina</th>\n",
       "      <th>Acetobacter</th>\n",
       "      <th>Acetobacter pasteurianus</th>\n",
       "      <th>Acetobacter senegalensis</th>\n",
       "      <th>Acetobacteraceae</th>\n",
       "      <th>Acetobacterium</th>\n",
       "      <th>Acetobacterium woodii</th>\n",
       "      <th>Acetohalobium arabaticum</th>\n",
       "      <th>Acholeplasma</th>\n",
       "      <th>...</th>\n",
       "      <th>candidate division SR1 bacterium RAAC1_SR1_1</th>\n",
       "      <th>cyanobacterium endosymbiont of Epithemia turgida</th>\n",
       "      <th>endosymbiont of Acanthamoeba sp. UWC8</th>\n",
       "      <th>endosymbiont of Llaveia axin axin</th>\n",
       "      <th>endosymbiont of unidentified scaly snail isolate Monju</th>\n",
       "      <th>gamma proteobacterium HdN1</th>\n",
       "      <th>halophilic archaeon DL31</th>\n",
       "      <th>secondary endosymbiont of Ctenarytaina eucalypti</th>\n",
       "      <th>secondary endosymbiont of Heteropsylla cubana</th>\n",
       "      <th>uncultured Termite group 1 bacterium</th>\n",
       "    </tr>\n",
       "    <tr>\n",
       "      <th>sample_id</th>\n",
       "      <th></th>\n",
       "      <th></th>\n",
       "      <th></th>\n",
       "      <th></th>\n",
       "      <th></th>\n",
       "      <th></th>\n",
       "      <th></th>\n",
       "      <th></th>\n",
       "      <th></th>\n",
       "      <th></th>\n",
       "      <th></th>\n",
       "      <th></th>\n",
       "      <th></th>\n",
       "      <th></th>\n",
       "      <th></th>\n",
       "      <th></th>\n",
       "      <th></th>\n",
       "      <th></th>\n",
       "      <th></th>\n",
       "      <th></th>\n",
       "      <th></th>\n",
       "    </tr>\n",
       "  </thead>\n",
       "  <tbody>\n",
       "    <tr>\n",
       "      <th>CC140620_1_centrifuge_report.tsv</th>\n",
       "      <td>3236984.0</td>\n",
       "      <td>8361599.0</td>\n",
       "      <td>NaN</td>\n",
       "      <td>3250449.0</td>\n",
       "      <td>3969909.0</td>\n",
       "      <td>0.0</td>\n",
       "      <td>NaN</td>\n",
       "      <td>4044777.0</td>\n",
       "      <td>2469596.0</td>\n",
       "      <td>NaN</td>\n",
       "      <td>...</td>\n",
       "      <td>1177760.0</td>\n",
       "      <td>2794318.0</td>\n",
       "      <td>1615277.0</td>\n",
       "      <td>309299.0</td>\n",
       "      <td>2597759.0</td>\n",
       "      <td>4587455.0</td>\n",
       "      <td>3643158.0</td>\n",
       "      <td>1441139.0</td>\n",
       "      <td>1121596.0</td>\n",
       "      <td>1148570.0</td>\n",
       "    </tr>\n",
       "    <tr>\n",
       "      <th>CC140620_25_centrifuge_report.tsv</th>\n",
       "      <td>3236984.0</td>\n",
       "      <td>8361599.0</td>\n",
       "      <td>NaN</td>\n",
       "      <td>3250449.0</td>\n",
       "      <td>3969909.0</td>\n",
       "      <td>0.0</td>\n",
       "      <td>NaN</td>\n",
       "      <td>4044777.0</td>\n",
       "      <td>2469596.0</td>\n",
       "      <td>NaN</td>\n",
       "      <td>...</td>\n",
       "      <td>1177760.0</td>\n",
       "      <td>2794318.0</td>\n",
       "      <td>1615277.0</td>\n",
       "      <td>309299.0</td>\n",
       "      <td>2597759.0</td>\n",
       "      <td>4587455.0</td>\n",
       "      <td>3643158.0</td>\n",
       "      <td>1441139.0</td>\n",
       "      <td>1121596.0</td>\n",
       "      <td>1148570.0</td>\n",
       "    </tr>\n",
       "    <tr>\n",
       "      <th>CC140620_33_centrifuge_report.tsv</th>\n",
       "      <td>3236984.0</td>\n",
       "      <td>8361599.0</td>\n",
       "      <td>NaN</td>\n",
       "      <td>3250449.0</td>\n",
       "      <td>3969909.0</td>\n",
       "      <td>NaN</td>\n",
       "      <td>NaN</td>\n",
       "      <td>4044777.0</td>\n",
       "      <td>2469596.0</td>\n",
       "      <td>NaN</td>\n",
       "      <td>...</td>\n",
       "      <td>1177760.0</td>\n",
       "      <td>2794318.0</td>\n",
       "      <td>1615277.0</td>\n",
       "      <td>309299.0</td>\n",
       "      <td>2597759.0</td>\n",
       "      <td>4587455.0</td>\n",
       "      <td>3643158.0</td>\n",
       "      <td>1441139.0</td>\n",
       "      <td>1121596.0</td>\n",
       "      <td>1148570.0</td>\n",
       "    </tr>\n",
       "    <tr>\n",
       "      <th>CC140620_37_centrifuge_report.tsv</th>\n",
       "      <td>3236984.0</td>\n",
       "      <td>8361599.0</td>\n",
       "      <td>0.0</td>\n",
       "      <td>3250449.0</td>\n",
       "      <td>3969909.0</td>\n",
       "      <td>NaN</td>\n",
       "      <td>0.0</td>\n",
       "      <td>4044777.0</td>\n",
       "      <td>2469596.0</td>\n",
       "      <td>0.0</td>\n",
       "      <td>...</td>\n",
       "      <td>1177760.0</td>\n",
       "      <td>2794318.0</td>\n",
       "      <td>1615277.0</td>\n",
       "      <td>309299.0</td>\n",
       "      <td>2597759.0</td>\n",
       "      <td>4587455.0</td>\n",
       "      <td>3643158.0</td>\n",
       "      <td>1441139.0</td>\n",
       "      <td>1121596.0</td>\n",
       "      <td>1148570.0</td>\n",
       "    </tr>\n",
       "    <tr>\n",
       "      <th>CC140620_5_centrifuge_report.tsv</th>\n",
       "      <td>3236984.0</td>\n",
       "      <td>8361599.0</td>\n",
       "      <td>NaN</td>\n",
       "      <td>3250449.0</td>\n",
       "      <td>3969909.0</td>\n",
       "      <td>0.0</td>\n",
       "      <td>NaN</td>\n",
       "      <td>4044777.0</td>\n",
       "      <td>2469596.0</td>\n",
       "      <td>0.0</td>\n",
       "      <td>...</td>\n",
       "      <td>1177760.0</td>\n",
       "      <td>2794318.0</td>\n",
       "      <td>1615277.0</td>\n",
       "      <td>309299.0</td>\n",
       "      <td>2597759.0</td>\n",
       "      <td>4587455.0</td>\n",
       "      <td>3643158.0</td>\n",
       "      <td>1441139.0</td>\n",
       "      <td>1121596.0</td>\n",
       "      <td>1148570.0</td>\n",
       "    </tr>\n",
       "  </tbody>\n",
       "</table>\n",
       "<p>5 rows × 2762 columns</p>\n",
       "</div>"
      ],
      "text/plain": [
       "name                               'Deinococcus soli' Cha et al. 2014  \\\n",
       "sample_id                                                               \n",
       "CC140620_1_centrifuge_report.tsv                            3236984.0   \n",
       "CC140620_25_centrifuge_report.tsv                           3236984.0   \n",
       "CC140620_33_centrifuge_report.tsv                           3236984.0   \n",
       "CC140620_37_centrifuge_report.tsv                           3236984.0   \n",
       "CC140620_5_centrifuge_report.tsv                            3236984.0   \n",
       "\n",
       "name                               Acaryochloris marina  Acetobacter  \\\n",
       "sample_id                                                              \n",
       "CC140620_1_centrifuge_report.tsv              8361599.0          NaN   \n",
       "CC140620_25_centrifuge_report.tsv             8361599.0          NaN   \n",
       "CC140620_33_centrifuge_report.tsv             8361599.0          NaN   \n",
       "CC140620_37_centrifuge_report.tsv             8361599.0          0.0   \n",
       "CC140620_5_centrifuge_report.tsv              8361599.0          NaN   \n",
       "\n",
       "name                               Acetobacter pasteurianus  \\\n",
       "sample_id                                                     \n",
       "CC140620_1_centrifuge_report.tsv                  3250449.0   \n",
       "CC140620_25_centrifuge_report.tsv                 3250449.0   \n",
       "CC140620_33_centrifuge_report.tsv                 3250449.0   \n",
       "CC140620_37_centrifuge_report.tsv                 3250449.0   \n",
       "CC140620_5_centrifuge_report.tsv                  3250449.0   \n",
       "\n",
       "name                               Acetobacter senegalensis  Acetobacteraceae  \\\n",
       "sample_id                                                                       \n",
       "CC140620_1_centrifuge_report.tsv                  3969909.0               0.0   \n",
       "CC140620_25_centrifuge_report.tsv                 3969909.0               0.0   \n",
       "CC140620_33_centrifuge_report.tsv                 3969909.0               NaN   \n",
       "CC140620_37_centrifuge_report.tsv                 3969909.0               NaN   \n",
       "CC140620_5_centrifuge_report.tsv                  3969909.0               0.0   \n",
       "\n",
       "name                               Acetobacterium  Acetobacterium woodii  \\\n",
       "sample_id                                                                  \n",
       "CC140620_1_centrifuge_report.tsv              NaN              4044777.0   \n",
       "CC140620_25_centrifuge_report.tsv             NaN              4044777.0   \n",
       "CC140620_33_centrifuge_report.tsv             NaN              4044777.0   \n",
       "CC140620_37_centrifuge_report.tsv             0.0              4044777.0   \n",
       "CC140620_5_centrifuge_report.tsv              NaN              4044777.0   \n",
       "\n",
       "name                               Acetohalobium arabaticum  Acholeplasma  \\\n",
       "sample_id                                                                   \n",
       "CC140620_1_centrifuge_report.tsv                  2469596.0           NaN   \n",
       "CC140620_25_centrifuge_report.tsv                 2469596.0           NaN   \n",
       "CC140620_33_centrifuge_report.tsv                 2469596.0           NaN   \n",
       "CC140620_37_centrifuge_report.tsv                 2469596.0           0.0   \n",
       "CC140620_5_centrifuge_report.tsv                  2469596.0           0.0   \n",
       "\n",
       "name                                               ...                   \\\n",
       "sample_id                                          ...                    \n",
       "CC140620_1_centrifuge_report.tsv                   ...                    \n",
       "CC140620_25_centrifuge_report.tsv                  ...                    \n",
       "CC140620_33_centrifuge_report.tsv                  ...                    \n",
       "CC140620_37_centrifuge_report.tsv                  ...                    \n",
       "CC140620_5_centrifuge_report.tsv                   ...                    \n",
       "\n",
       "name                               candidate division SR1 bacterium RAAC1_SR1_1  \\\n",
       "sample_id                                                                         \n",
       "CC140620_1_centrifuge_report.tsv                                      1177760.0   \n",
       "CC140620_25_centrifuge_report.tsv                                     1177760.0   \n",
       "CC140620_33_centrifuge_report.tsv                                     1177760.0   \n",
       "CC140620_37_centrifuge_report.tsv                                     1177760.0   \n",
       "CC140620_5_centrifuge_report.tsv                                      1177760.0   \n",
       "\n",
       "name                               cyanobacterium endosymbiont of Epithemia turgida  \\\n",
       "sample_id                                                                             \n",
       "CC140620_1_centrifuge_report.tsv                                          2794318.0   \n",
       "CC140620_25_centrifuge_report.tsv                                         2794318.0   \n",
       "CC140620_33_centrifuge_report.tsv                                         2794318.0   \n",
       "CC140620_37_centrifuge_report.tsv                                         2794318.0   \n",
       "CC140620_5_centrifuge_report.tsv                                          2794318.0   \n",
       "\n",
       "name                               endosymbiont of Acanthamoeba sp. UWC8  \\\n",
       "sample_id                                                                  \n",
       "CC140620_1_centrifuge_report.tsv                               1615277.0   \n",
       "CC140620_25_centrifuge_report.tsv                              1615277.0   \n",
       "CC140620_33_centrifuge_report.tsv                              1615277.0   \n",
       "CC140620_37_centrifuge_report.tsv                              1615277.0   \n",
       "CC140620_5_centrifuge_report.tsv                               1615277.0   \n",
       "\n",
       "name                               endosymbiont of Llaveia axin axin  \\\n",
       "sample_id                                                              \n",
       "CC140620_1_centrifuge_report.tsv                            309299.0   \n",
       "CC140620_25_centrifuge_report.tsv                           309299.0   \n",
       "CC140620_33_centrifuge_report.tsv                           309299.0   \n",
       "CC140620_37_centrifuge_report.tsv                           309299.0   \n",
       "CC140620_5_centrifuge_report.tsv                            309299.0   \n",
       "\n",
       "name                               endosymbiont of unidentified scaly snail isolate Monju  \\\n",
       "sample_id                                                                                   \n",
       "CC140620_1_centrifuge_report.tsv                                           2597759.0        \n",
       "CC140620_25_centrifuge_report.tsv                                          2597759.0        \n",
       "CC140620_33_centrifuge_report.tsv                                          2597759.0        \n",
       "CC140620_37_centrifuge_report.tsv                                          2597759.0        \n",
       "CC140620_5_centrifuge_report.tsv                                           2597759.0        \n",
       "\n",
       "name                               gamma proteobacterium HdN1  \\\n",
       "sample_id                                                       \n",
       "CC140620_1_centrifuge_report.tsv                    4587455.0   \n",
       "CC140620_25_centrifuge_report.tsv                   4587455.0   \n",
       "CC140620_33_centrifuge_report.tsv                   4587455.0   \n",
       "CC140620_37_centrifuge_report.tsv                   4587455.0   \n",
       "CC140620_5_centrifuge_report.tsv                    4587455.0   \n",
       "\n",
       "name                               halophilic archaeon DL31  \\\n",
       "sample_id                                                     \n",
       "CC140620_1_centrifuge_report.tsv                  3643158.0   \n",
       "CC140620_25_centrifuge_report.tsv                 3643158.0   \n",
       "CC140620_33_centrifuge_report.tsv                 3643158.0   \n",
       "CC140620_37_centrifuge_report.tsv                 3643158.0   \n",
       "CC140620_5_centrifuge_report.tsv                  3643158.0   \n",
       "\n",
       "name                               secondary endosymbiont of Ctenarytaina eucalypti  \\\n",
       "sample_id                                                                             \n",
       "CC140620_1_centrifuge_report.tsv                                          1441139.0   \n",
       "CC140620_25_centrifuge_report.tsv                                         1441139.0   \n",
       "CC140620_33_centrifuge_report.tsv                                         1441139.0   \n",
       "CC140620_37_centrifuge_report.tsv                                         1441139.0   \n",
       "CC140620_5_centrifuge_report.tsv                                          1441139.0   \n",
       "\n",
       "name                               secondary endosymbiont of Heteropsylla cubana  \\\n",
       "sample_id                                                                          \n",
       "CC140620_1_centrifuge_report.tsv                                       1121596.0   \n",
       "CC140620_25_centrifuge_report.tsv                                      1121596.0   \n",
       "CC140620_33_centrifuge_report.tsv                                      1121596.0   \n",
       "CC140620_37_centrifuge_report.tsv                                      1121596.0   \n",
       "CC140620_5_centrifuge_report.tsv                                       1121596.0   \n",
       "\n",
       "name                               uncultured Termite group 1 bacterium  \n",
       "sample_id                                                                \n",
       "CC140620_1_centrifuge_report.tsv                              1148570.0  \n",
       "CC140620_25_centrifuge_report.tsv                             1148570.0  \n",
       "CC140620_33_centrifuge_report.tsv                             1148570.0  \n",
       "CC140620_37_centrifuge_report.tsv                             1148570.0  \n",
       "CC140620_5_centrifuge_report.tsv                              1148570.0  \n",
       "\n",
       "[5 rows x 2762 columns]"
      ]
     },
     "execution_count": 368,
     "metadata": {},
     "output_type": "execute_result"
    }
   ],
   "source": [
    "df_taxa_genomesize.head(5)"
   ]
  },
  {
   "cell_type": "code",
   "execution_count": 385,
   "metadata": {
    "collapsed": true
   },
   "outputs": [],
   "source": [
    "df_size_t = df_taxa_genomesize.transpose()"
   ]
  },
  {
   "cell_type": "code",
   "execution_count": 386,
   "metadata": {
    "collapsed": false
   },
   "outputs": [
    {
     "data": {
      "text/html": [
       "<div>\n",
       "<table border=\"1\" class=\"dataframe\">\n",
       "  <thead>\n",
       "    <tr style=\"text-align: right;\">\n",
       "      <th>sample_id</th>\n",
       "      <th>CC140620_1_centrifuge_report.tsv</th>\n",
       "      <th>CC140620_25_centrifuge_report.tsv</th>\n",
       "      <th>CC140620_33_centrifuge_report.tsv</th>\n",
       "      <th>CC140620_37_centrifuge_report.tsv</th>\n",
       "      <th>CC140620_5_centrifuge_report.tsv</th>\n",
       "      <th>CC150624_21_centrifuge_report.tsv</th>\n",
       "      <th>CC150624_25_centrifuge_report.tsv</th>\n",
       "      <th>CC150624_29_centrifuge_report.tsv</th>\n",
       "      <th>CC150626_1_centrifuge_report.tsv</th>\n",
       "    </tr>\n",
       "    <tr>\n",
       "      <th>name</th>\n",
       "      <th></th>\n",
       "      <th></th>\n",
       "      <th></th>\n",
       "      <th></th>\n",
       "      <th></th>\n",
       "      <th></th>\n",
       "      <th></th>\n",
       "      <th></th>\n",
       "      <th></th>\n",
       "    </tr>\n",
       "  </thead>\n",
       "  <tbody>\n",
       "    <tr>\n",
       "      <th>'Deinococcus soli' Cha et al. 2014</th>\n",
       "      <td>3236984.0</td>\n",
       "      <td>3236984.0</td>\n",
       "      <td>3236984.0</td>\n",
       "      <td>3236984.0</td>\n",
       "      <td>3236984.0</td>\n",
       "      <td>3236984.0</td>\n",
       "      <td>3236984.0</td>\n",
       "      <td>3236984.0</td>\n",
       "      <td>3236984.0</td>\n",
       "    </tr>\n",
       "    <tr>\n",
       "      <th>Acaryochloris marina</th>\n",
       "      <td>8361599.0</td>\n",
       "      <td>8361599.0</td>\n",
       "      <td>8361599.0</td>\n",
       "      <td>8361599.0</td>\n",
       "      <td>8361599.0</td>\n",
       "      <td>8361599.0</td>\n",
       "      <td>8361599.0</td>\n",
       "      <td>8361599.0</td>\n",
       "      <td>8361599.0</td>\n",
       "    </tr>\n",
       "    <tr>\n",
       "      <th>Acetobacter</th>\n",
       "      <td>NaN</td>\n",
       "      <td>NaN</td>\n",
       "      <td>NaN</td>\n",
       "      <td>0.0</td>\n",
       "      <td>NaN</td>\n",
       "      <td>NaN</td>\n",
       "      <td>NaN</td>\n",
       "      <td>NaN</td>\n",
       "      <td>NaN</td>\n",
       "    </tr>\n",
       "    <tr>\n",
       "      <th>Acetobacter pasteurianus</th>\n",
       "      <td>3250449.0</td>\n",
       "      <td>3250449.0</td>\n",
       "      <td>3250449.0</td>\n",
       "      <td>3250449.0</td>\n",
       "      <td>3250449.0</td>\n",
       "      <td>3250449.0</td>\n",
       "      <td>3250449.0</td>\n",
       "      <td>3250449.0</td>\n",
       "      <td>3250449.0</td>\n",
       "    </tr>\n",
       "    <tr>\n",
       "      <th>Acetobacter senegalensis</th>\n",
       "      <td>3969909.0</td>\n",
       "      <td>3969909.0</td>\n",
       "      <td>3969909.0</td>\n",
       "      <td>3969909.0</td>\n",
       "      <td>3969909.0</td>\n",
       "      <td>3969909.0</td>\n",
       "      <td>3969909.0</td>\n",
       "      <td>3969909.0</td>\n",
       "      <td>3969909.0</td>\n",
       "    </tr>\n",
       "  </tbody>\n",
       "</table>\n",
       "</div>"
      ],
      "text/plain": [
       "sample_id                           CC140620_1_centrifuge_report.tsv  \\\n",
       "name                                                                   \n",
       "'Deinococcus soli' Cha et al. 2014                         3236984.0   \n",
       "Acaryochloris marina                                       8361599.0   \n",
       "Acetobacter                                                      NaN   \n",
       "Acetobacter pasteurianus                                   3250449.0   \n",
       "Acetobacter senegalensis                                   3969909.0   \n",
       "\n",
       "sample_id                           CC140620_25_centrifuge_report.tsv  \\\n",
       "name                                                                    \n",
       "'Deinococcus soli' Cha et al. 2014                          3236984.0   \n",
       "Acaryochloris marina                                        8361599.0   \n",
       "Acetobacter                                                       NaN   \n",
       "Acetobacter pasteurianus                                    3250449.0   \n",
       "Acetobacter senegalensis                                    3969909.0   \n",
       "\n",
       "sample_id                           CC140620_33_centrifuge_report.tsv  \\\n",
       "name                                                                    \n",
       "'Deinococcus soli' Cha et al. 2014                          3236984.0   \n",
       "Acaryochloris marina                                        8361599.0   \n",
       "Acetobacter                                                       NaN   \n",
       "Acetobacter pasteurianus                                    3250449.0   \n",
       "Acetobacter senegalensis                                    3969909.0   \n",
       "\n",
       "sample_id                           CC140620_37_centrifuge_report.tsv  \\\n",
       "name                                                                    \n",
       "'Deinococcus soli' Cha et al. 2014                          3236984.0   \n",
       "Acaryochloris marina                                        8361599.0   \n",
       "Acetobacter                                                       0.0   \n",
       "Acetobacter pasteurianus                                    3250449.0   \n",
       "Acetobacter senegalensis                                    3969909.0   \n",
       "\n",
       "sample_id                           CC140620_5_centrifuge_report.tsv  \\\n",
       "name                                                                   \n",
       "'Deinococcus soli' Cha et al. 2014                         3236984.0   \n",
       "Acaryochloris marina                                       8361599.0   \n",
       "Acetobacter                                                      NaN   \n",
       "Acetobacter pasteurianus                                   3250449.0   \n",
       "Acetobacter senegalensis                                   3969909.0   \n",
       "\n",
       "sample_id                           CC150624_21_centrifuge_report.tsv  \\\n",
       "name                                                                    \n",
       "'Deinococcus soli' Cha et al. 2014                          3236984.0   \n",
       "Acaryochloris marina                                        8361599.0   \n",
       "Acetobacter                                                       NaN   \n",
       "Acetobacter pasteurianus                                    3250449.0   \n",
       "Acetobacter senegalensis                                    3969909.0   \n",
       "\n",
       "sample_id                           CC150624_25_centrifuge_report.tsv  \\\n",
       "name                                                                    \n",
       "'Deinococcus soli' Cha et al. 2014                          3236984.0   \n",
       "Acaryochloris marina                                        8361599.0   \n",
       "Acetobacter                                                       NaN   \n",
       "Acetobacter pasteurianus                                    3250449.0   \n",
       "Acetobacter senegalensis                                    3969909.0   \n",
       "\n",
       "sample_id                           CC150624_29_centrifuge_report.tsv  \\\n",
       "name                                                                    \n",
       "'Deinococcus soli' Cha et al. 2014                          3236984.0   \n",
       "Acaryochloris marina                                        8361599.0   \n",
       "Acetobacter                                                       NaN   \n",
       "Acetobacter pasteurianus                                    3250449.0   \n",
       "Acetobacter senegalensis                                    3969909.0   \n",
       "\n",
       "sample_id                           CC150626_1_centrifuge_report.tsv  \n",
       "name                                                                  \n",
       "'Deinococcus soli' Cha et al. 2014                         3236984.0  \n",
       "Acaryochloris marina                                       8361599.0  \n",
       "Acetobacter                                                      NaN  \n",
       "Acetobacter pasteurianus                                   3250449.0  \n",
       "Acetobacter senegalensis                                   3969909.0  "
      ]
     },
     "execution_count": 386,
     "metadata": {},
     "output_type": "execute_result"
    }
   ],
   "source": [
    "df_size_t.head(5)"
   ]
  },
  {
   "cell_type": "code",
   "execution_count": 390,
   "metadata": {
    "collapsed": true
   },
   "outputs": [],
   "source": [
    "df_size_t.rename(columns=lambda x: x.replace('_centrifuge_report.tsv', ''), inplace=True)"
   ]
  },
  {
   "cell_type": "code",
   "execution_count": 395,
   "metadata": {
    "collapsed": true
   },
   "outputs": [],
   "source": [
    "df_size_t = df_size_t.dropna()"
   ]
  },
  {
   "cell_type": "code",
   "execution_count": 397,
   "metadata": {
    "collapsed": false
   },
   "outputs": [
    {
     "name": "stderr",
     "output_type": "stream",
     "text": [
      "/Library/Frameworks/Python.framework/Versions/3.5/lib/python3.5/site-packages/statsmodels/nonparametric/kdetools.py:20: VisibleDeprecationWarning: using a non-integer number instead of an integer will result in an error in the future\n",
      "  y = X[:m/2+1] + np.r_[0,X[m/2+1:],0]*1j\n"
     ]
    },
    {
     "data": {
      "text/plain": [
       "<matplotlib.axes._subplots.AxesSubplot at 0x119c3afd0>"
      ]
     },
     "execution_count": 397,
     "metadata": {},
     "output_type": "execute_result"
    },
    {
     "data": {
      "image/png": "[encoded data removed]",
      "text/plain": [
       "<matplotlib.figure.Figure at 0x11b282e48>"
      ]
     },
     "metadata": {},
     "output_type": "display_data"
    }
   ],
   "source": [
    "sns.distplot(df_size_t.CC140620_1)"
   ]
  },
  {
   "cell_type": "code",
   "execution_count": 400,
   "metadata": {
    "collapsed": false
   },
   "outputs": [
    {
     "name": "stderr",
     "output_type": "stream",
     "text": [
      "/Library/Frameworks/Python.framework/Versions/3.5/lib/python3.5/site-packages/statsmodels/nonparametric/kdetools.py:20: VisibleDeprecationWarning: using a non-integer number instead of an integer will result in an error in the future\n",
      "  y = X[:m/2+1] + np.r_[0,X[m/2+1:],0]*1j\n"
     ]
    },
    {
     "data": {
      "text/plain": [
       "<matplotlib.axes._subplots.AxesSubplot at 0x11af1d908>"
      ]
     },
     "execution_count": 400,
     "metadata": {},
     "output_type": "execute_result"
    },
    {
     "data": {
      "image/png": "[encoded data removed]",
      "text/plain": [
       "<matplotlib.figure.Figure at 0x11beb84e0>"
      ]
     },
     "metadata": {},
     "output_type": "display_data"
    }
   ],
   "source": [
    "sns.distplot(df_size_t.CC140620_37)"
   ]
  },
  {
   "cell_type": "code",
   "execution_count": null,
   "metadata": {
    "collapsed": false
   },
   "outputs": [],
   "source": []
  },
  {
   "cell_type": "code",
   "execution_count": null,
   "metadata": {
    "collapsed": true
   },
   "outputs": [],
   "source": []
  },
  {
   "cell_type": "code",
   "execution_count": null,
   "metadata": {
    "collapsed": true
   },
   "outputs": [],
   "source": []
  }
 ],
 "metadata": {
  "kernelspec": {
   "display_name": "IPython (Python 3)",
   "language": "python",
   "name": "python3"
  },
  "language_info": {
   "codemirror_mode": {
    "name": "ipython",
    "version": 3
   },
   "file_extension": ".py",
   "mimetype": "text/x-python",
   "name": "python",
   "nbconvert_exporter": "python",
   "pygments_lexer": "ipython3",
   "version": "3.5.1"
  }
 },
 "nbformat": 4,
 "nbformat_minor": 0
}
