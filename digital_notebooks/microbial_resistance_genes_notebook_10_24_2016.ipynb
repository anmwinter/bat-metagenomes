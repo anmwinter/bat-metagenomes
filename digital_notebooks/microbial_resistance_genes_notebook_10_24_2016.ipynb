{
 "cells": [
  {
   "cell_type": "markdown",
   "metadata": {},
   "source": [
    "### Microbial resistance genes notebook\n",
    "\n",
    "#### Bats: Resistance and production of antibiotics while roosting or on the wing\n",
    "\n",
    "Understanding resistance to antibiotics is a critical need management of infectious diseases. Antibiotic resistance genes have been found across a range of environments from soils, caves, human skin, surfaces in hospitals, rivers, oceans, and fecal matter. These environments can act as transferable reservoirs of antibiotic resistance. Bats have been identified as being reservoirs of new and novel viruses (Calisher et al., 2006). However, little is known about the microbial resistance genes on found on bats and if these can act as reservoirs for transferring resistance genes in the environment."
   ]
  },
  {
   "cell_type": "markdown",
   "metadata": {},
   "source": [
    "#### Authors\n",
    "Ara S. Winter<sup>1</sup>*, Jason C. Kimble<sup>1</sup>, Debbie C. Buecher<sup>2</sup>, Ernest W. Valdez<sup>3</sup>, Jennifer J. M. Hathaway<sup>1</sup>, Andrea Porras-Alfaro<sup>4</sup>, and Diana E. Northup<sup>1</sup>\n",
    "\n",
    "1 Department of Biology, University of New Mexico, Albuquerque, New Mexico, United States of America\n",
    "\n",
    "2 Buecher Biological Consulting, Tucson, Arizona, United States of America\n",
    "\n",
    "3 United States Geological Survey, Fort Collins Science Center, Colorado; Biology Department, MSC03 2020, University of New Mexico, Albuquerque, New Mexico, United States of America\n",
    "\n",
    "4 Department of Biological Sciences, Western Illinois University, Macomb, Illinois, United States of America\n",
    "\n",
    "Corresponding author\n",
    "\n",
    "E-mail: akooser@unm.edu"
   ]
  },
  {
   "cell_type": "markdown",
   "metadata": {},
   "source": [
    "### Methods\n",
    "\n",
    "#### Bat sampling\n",
    "We sampled 31 bats belonging to 4 species (Myotis thysanodes M. velifer, Tadarida brasiliensis, and Antrozous pallidus). These samples came from three study locations in Carlsbad Caverns National Park (CCNP). Bat sample collection was allowed under the following permits: National Park Service Scientific Collecting Permit (CAVE-2014-SCI-0012), Fort Collins Science Center Standard Operating Procedure (SOP) SOP#: 2013-01, and an Institutional Animal Care and Use Committee (IACUC) Permit from the University of New Mexico (Protocol #15-101307-MC) and from the National Park Service (Protocol #IMR_ELMA.PARA.CAVE.SEAZ_Northup_Bats_2015.A2).\n",
    "\n",
    "Cave-caught bats were either plucked from the walls of the caves in ELMA, FS, and HGL or netted in sterilized nets in Carlsbad Cavern in CCNP in a location along their flight path out of the cave. Cave-caught bats were typically sampled 6-8 hours after returning to the cave in the early morning. Surface-netted bats were netted after sundown using sterilized nets near water sources in CCNP. All bats were handled with clean gloves and swabbed for DNA before other measurements were taken to limit contamination by human-associated microbiota. Using a sterile swab moistened with Ringer’s Solution (Hille, 1984), the entire skin (i.e., ears, wings and uropatagia) and furred surfaces of each bat were thoroughly swabbed. While the bat biologist held the bat in appropriate positions to give access to the area to be swabbed, the microbiologist rubbed each area with the sterile swab approximately 3-5 times, rotating the swab as the action was performed.\n",
    "\n",
    "Each swab was placed in a sterile 1.7 ml snap-cap microcentrifuge tube containing 100 ul of RNAlater, and immediately frozen in a liquid nitrogen dry shipper or placed on dry ice. Samples were transported to the University of New Mexico and stored in a -80°C freezer. Samples were sent to MR DNA Molecular Research LP, Shallowater, Texas (http://www.mrdnalab.com/) for genomic DNA extraction.\n",
    "\n",
    "#### Sequencing\n",
    "Metagenomic shotgun reads were sequenced at MR DNA (2015-2016) using HiSeq 2x150bp Illumina HiSeq 2500 platform (www.illumina.com) sequencing. Metagenome sequencing steps included the isolation and purification of genomic DNA, fragmentation, ligation to sequencing adapters and purification. Libraries were pooled and sequenced following amplification and denaturation. A total of 50 ng of DNA from each of the FSC samples was used to prepare DNA libraries using Nextera DNA library preparation kit to build individual barcode catalogs. Library insert size was determined by Experion Automated Electrophoresis Station (Bio-Rad). Pooled library (12pM) was loaded to a 600 Cycles v3 Reagent cartridge (Illumina).\n",
    "\n",
    "#### Data processing\n",
    "Join paired-ends\n",
    "pear -y 8G -j 2 -p 0.05 -g 2 -f RSS140624-1_S19_L002_R1_001.fastq.gz -r RSS140624-1_S19_L002_R2_001.fastq.gz \n",
    "-o RSS140624_1_S19 \n",
    "\n",
    "##### Fastq convert to fasta\n",
    "fastq_to_fasta.py\n",
    "\n",
    "##### Digital normalization (removes redundant kmers)\n",
    "normalize-by-median.py -k 21 -M 8e9 --cutoff=20 ELMA140612_1_S56.fasta (khmer package)\n",
    "\n",
    "##### Recover LSU and SSUs from reads\n",
    "metaxa2 -i CC15062425_S8.fasta -o CC15062425_S8 --cpu 6 --align none\n",
    "\n",
    "metaxa2_ttt -i CC15062425_S8.taxonomy.txt -o CC15062425_S8_taxa_sum.txt\n",
    "\n",
    "Put all the L2 and L3 into separate folders and then run:\n",
    "metaxa2_dc -o metaxa_summary_L2.txt -r *.level_2.txt\n",
    "\n",
    "##### Hashing to metagenomes (sourmash and mash) \n",
    "\n",
    "sourmash compute -f ELMA140612_1_S56.fasta.keep\n",
    "\n",
    "sourmash compare *.sig -o cmp\n",
    "\n",
    "sourmash plot cmp\n",
    "\n",
    "##### Convert nuc reads to aa\n",
    "prodigal -i CC15062421_S7.classseqs.fasta -a CC15062421_S7.faa -p meta > /dev/null\n",
    "\n",
    "##### Functional gene annotation\n",
    "hmmsearch --cpu 6 --domtblout retroviridae_S19 ~/Documents/hmmer_profiles/eggnog/hmm_files/retorviridae_eggnog.hmm CC1506261_S19.faa > /dev/null\n",
    "\n",
    "Used: resFam-full.hmm, custom fungal nrps, PKSII alpha, and pfam secondary metabolite profiles.\n"
   ]
  },
  {
   "cell_type": "code",
   "execution_count": 1,
   "metadata": {
    "collapsed": true
   },
   "outputs": [],
   "source": [
    "import seaborn as sns\n",
    "import pandas as pd\n",
    "import glob\n",
    "import os\n",
    "\n",
    "# This is a commnet. The line the follows allows for inline plotting. i.e. your plots will show up in these boxes.\n",
    "%matplotlib inline"
   ]
  },
  {
   "cell_type": "markdown",
   "metadata": {},
   "source": [
    "The chunk of code that follows here is for wrangling the output of hmmer functional gene profiling into something human readable and readable by pandas in python. "
   ]
  },
  {
   "cell_type": "code",
   "execution_count": 2,
   "metadata": {
    "collapsed": true
   },
   "outputs": [],
   "source": [
    "path = '/Users/ara/Documents/bat_metagenomes/antiresfams/'                     # use your path"
   ]
  },
  {
   "cell_type": "code",
   "execution_count": 3,
   "metadata": {
    "collapsed": false
   },
   "outputs": [],
   "source": [
    "my_dir = path\n",
    "filelist = []\n",
    "filesList = []\n",
    "os.chdir( my_dir )"
   ]
  },
  {
   "cell_type": "code",
   "execution_count": 4,
   "metadata": {
    "collapsed": false
   },
   "outputs": [],
   "source": [
    "for files in glob.glob(\"*.antiresfam\"):\n",
    "    #fileName, fileExtension = os.path.splitext(files)\n",
    "    filelist.append(filesList) #filename without extension\n",
    "    filesList.append(files) #filename with extension"
   ]
  },
  {
   "cell_type": "code",
   "execution_count": 5,
   "metadata": {
    "collapsed": false
   },
   "outputs": [],
   "source": [
    "df = pd.DataFrame()\n",
    "for ijk in filesList:\n",
    "    frame = pd.read_csv(ijk,skiprows=3, skipfooter=11 ,delim_whitespace=True,\n",
    "                      engine='python',header=None)\n",
    "    frame['sample_id']=ijk\n",
    "    df = df.append(frame) \n",
    "    "
   ]
  },
  {
   "cell_type": "code",
   "execution_count": 6,
   "metadata": {
    "collapsed": false
   },
   "outputs": [],
   "source": [
    "df.columns = ['hmmer_seq','','','gene','','','E-value','bit score','','','','','','','','','','','','','','',\n",
    "                         '','','','','','','','','sample_id']"
   ]
  },
  {
   "cell_type": "code",
   "execution_count": 7,
   "metadata": {
    "collapsed": false
   },
   "outputs": [
    {
     "data": {
      "text/html": [
       "<div>\n",
       "<table border=\"1\" class=\"dataframe\">\n",
       "  <thead>\n",
       "    <tr style=\"text-align: right;\">\n",
       "      <th></th>\n",
       "      <th>hmmer_seq</th>\n",
       "      <th></th>\n",
       "      <th></th>\n",
       "      <th>gene</th>\n",
       "      <th></th>\n",
       "      <th></th>\n",
       "      <th>E-value</th>\n",
       "      <th>bit score</th>\n",
       "      <th></th>\n",
       "      <th></th>\n",
       "      <th>...</th>\n",
       "      <th></th>\n",
       "      <th></th>\n",
       "      <th></th>\n",
       "      <th></th>\n",
       "      <th></th>\n",
       "      <th></th>\n",
       "      <th></th>\n",
       "      <th></th>\n",
       "      <th></th>\n",
       "      <th>sample_id</th>\n",
       "    </tr>\n",
       "  </thead>\n",
       "  <tbody>\n",
       "    <tr>\n",
       "      <th>0</th>\n",
       "      <td>D00420:54:H9U8TADXX:1:1116:20358:80426_2</td>\n",
       "      <td>-</td>\n",
       "      <td>59</td>\n",
       "      <td>16S_rRNA_methyltrans</td>\n",
       "      <td>RF0001</td>\n",
       "      <td>251</td>\n",
       "      <td>2.10</td>\n",
       "      <td>14.4</td>\n",
       "      <td>0.0</td>\n",
       "      <td>1</td>\n",
       "      <td>...</td>\n",
       "      <td>0.85</td>\n",
       "      <td>#</td>\n",
       "      <td>116</td>\n",
       "      <td>#</td>\n",
       "      <td>292</td>\n",
       "      <td>#</td>\n",
       "      <td>-1</td>\n",
       "      <td>#</td>\n",
       "      <td>ID=681296_2;partial=01;start_type=Edge;rbs_mot...</td>\n",
       "      <td>CC140620_1.antiresfam</td>\n",
       "    </tr>\n",
       "    <tr>\n",
       "      <th>1</th>\n",
       "      <td>D00420:54:H9U8TADXX:1:2107:4568:30674_1</td>\n",
       "      <td>-</td>\n",
       "      <td>90</td>\n",
       "      <td>16S_rRNA_methyltrans</td>\n",
       "      <td>RF0001</td>\n",
       "      <td>251</td>\n",
       "      <td>5.30</td>\n",
       "      <td>13.2</td>\n",
       "      <td>0.0</td>\n",
       "      <td>1</td>\n",
       "      <td>...</td>\n",
       "      <td>0.81</td>\n",
       "      <td>#</td>\n",
       "      <td>3</td>\n",
       "      <td>#</td>\n",
       "      <td>272</td>\n",
       "      <td>#</td>\n",
       "      <td>1</td>\n",
       "      <td>#</td>\n",
       "      <td>ID=1609359_1;partial=11;start_type=Edge;rbs_mo...</td>\n",
       "      <td>CC140620_1.antiresfam</td>\n",
       "    </tr>\n",
       "    <tr>\n",
       "      <th>2</th>\n",
       "      <td>D00420:54:H9U8TADXX:1:2111:15828:70516_1</td>\n",
       "      <td>-</td>\n",
       "      <td>66</td>\n",
       "      <td>AAC3</td>\n",
       "      <td>RF0002</td>\n",
       "      <td>292</td>\n",
       "      <td>0.66</td>\n",
       "      <td>15.4</td>\n",
       "      <td>0.0</td>\n",
       "      <td>1</td>\n",
       "      <td>...</td>\n",
       "      <td>0.87</td>\n",
       "      <td>#</td>\n",
       "      <td>2</td>\n",
       "      <td>#</td>\n",
       "      <td>199</td>\n",
       "      <td>#</td>\n",
       "      <td>1</td>\n",
       "      <td>#</td>\n",
       "      <td>ID=1797766_1;partial=11;start_type=Edge;rbs_mo...</td>\n",
       "      <td>CC140620_1.antiresfam</td>\n",
       "    </tr>\n",
       "  </tbody>\n",
       "</table>\n",
       "<p>3 rows × 31 columns</p>\n",
       "</div>"
      ],
      "text/plain": [
       "                                  hmmer_seq                         gene  \\\n",
       "0  D00420:54:H9U8TADXX:1:1116:20358:80426_2  -  59  16S_rRNA_methyltrans   \n",
       "1   D00420:54:H9U8TADXX:1:2107:4568:30674_1  -  90  16S_rRNA_methyltrans   \n",
       "2  D00420:54:H9U8TADXX:1:2111:15828:70516_1  -  66                  AAC3   \n",
       "\n",
       "                E-value  bit score                  ...                     \\\n",
       "0  RF0001  251     2.10       14.4  0.0  1          ...            0.85  #   \n",
       "1  RF0001  251     5.30       13.2  0.0  1          ...            0.81  #   \n",
       "2  RF0002  292     0.66       15.4  0.0  1          ...            0.87  #   \n",
       "\n",
       "                                                                            \\\n",
       "0  116  #  292  # -1  #  ID=681296_2;partial=01;start_type=Edge;rbs_mot...   \n",
       "1    3  #  272  #  1  #  ID=1609359_1;partial=11;start_type=Edge;rbs_mo...   \n",
       "2    2  #  199  #  1  #  ID=1797766_1;partial=11;start_type=Edge;rbs_mo...   \n",
       "\n",
       "               sample_id  \n",
       "0  CC140620_1.antiresfam  \n",
       "1  CC140620_1.antiresfam  \n",
       "2  CC140620_1.antiresfam  \n",
       "\n",
       "[3 rows x 31 columns]"
      ]
     },
     "execution_count": 7,
     "metadata": {},
     "output_type": "execute_result"
    }
   ],
   "source": [
    "df.head(3)"
   ]
  },
  {
   "cell_type": "code",
   "execution_count": 8,
   "metadata": {
    "collapsed": false
   },
   "outputs": [],
   "source": [
    "hmmer_results = df.loc[:,['hmmer_seq','gene','E-value','bit score','sample_id']]"
   ]
  },
  {
   "cell_type": "code",
   "execution_count": 9,
   "metadata": {
    "collapsed": false
   },
   "outputs": [],
   "source": [
    "hmmer_filter = hmmer_results.loc[hmmer_results['bit score'] > 24]"
   ]
  },
  {
   "cell_type": "code",
   "execution_count": 10,
   "metadata": {
    "collapsed": false
   },
   "outputs": [
    {
     "data": {
      "text/plain": [
       "(343416, 5)"
      ]
     },
     "execution_count": 10,
     "metadata": {},
     "output_type": "execute_result"
    }
   ],
   "source": [
    "hmmer_filter.shape"
   ]
  },
  {
   "cell_type": "code",
   "execution_count": 11,
   "metadata": {
    "collapsed": false
   },
   "outputs": [],
   "source": [
    "df = hmmer_filter.groupby( [ \"sample_id\", \"gene\"] ).size().to_frame(name = 'count').reset_index()"
   ]
  },
  {
   "cell_type": "code",
   "execution_count": 12,
   "metadata": {
    "collapsed": false
   },
   "outputs": [],
   "source": [
    "hmmer_pivot = df.pivot(index='sample_id', columns='gene', values='count')"
   ]
  },
  {
   "cell_type": "code",
   "execution_count": 13,
   "metadata": {
    "collapsed": true
   },
   "outputs": [],
   "source": [
    "del hmmer_pivot.index.name"
   ]
  },
  {
   "cell_type": "code",
   "execution_count": 14,
   "metadata": {
    "collapsed": false
   },
   "outputs": [
    {
     "data": {
      "text/plain": [
       "(34, 169)"
      ]
     },
     "execution_count": 14,
     "metadata": {},
     "output_type": "execute_result"
    }
   ],
   "source": [
    "hmmer_pivot.shape"
   ]
  },
  {
   "cell_type": "code",
   "execution_count": 15,
   "metadata": {
    "collapsed": false
   },
   "outputs": [],
   "source": [
    "hmmer_clean = hmmer_pivot.fillna(0)"
   ]
  },
  {
   "cell_type": "code",
   "execution_count": 16,
   "metadata": {
    "collapsed": true
   },
   "outputs": [],
   "source": [
    "hmmer_clean.reset_index(level=0, inplace=True)"
   ]
  },
  {
   "cell_type": "code",
   "execution_count": 17,
   "metadata": {
    "collapsed": true
   },
   "outputs": [],
   "source": [
    "hmmer_clean=hmmer_clean.rename(columns = {'index':'id'})"
   ]
  },
  {
   "cell_type": "code",
   "execution_count": 18,
   "metadata": {
    "collapsed": false
   },
   "outputs": [
    {
     "data": {
      "text/html": [
       "<div>\n",
       "<table border=\"1\" class=\"dataframe\">\n",
       "  <thead>\n",
       "    <tr style=\"text-align: right;\">\n",
       "      <th>gene</th>\n",
       "      <th>id</th>\n",
       "      <th>AAC3</th>\n",
       "      <th>AAC3-I</th>\n",
       "      <th>AAC6-I</th>\n",
       "      <th>AAC6-II</th>\n",
       "      <th>AAC6-Ib</th>\n",
       "      <th>ABC1</th>\n",
       "      <th>ABC2_membrane</th>\n",
       "      <th>ABC_efflux</th>\n",
       "      <th>ABC_tran</th>\n",
       "      <th>...</th>\n",
       "      <th>vanC</th>\n",
       "      <th>vanD</th>\n",
       "      <th>vanH</th>\n",
       "      <th>vanR</th>\n",
       "      <th>vanS</th>\n",
       "      <th>vanT</th>\n",
       "      <th>vanW</th>\n",
       "      <th>vanX</th>\n",
       "      <th>vanY</th>\n",
       "      <th>vanZ</th>\n",
       "    </tr>\n",
       "  </thead>\n",
       "  <tbody>\n",
       "    <tr>\n",
       "      <th>0</th>\n",
       "      <td>CC140620_1.antiresfam</td>\n",
       "      <td>0.0</td>\n",
       "      <td>1.0</td>\n",
       "      <td>0.0</td>\n",
       "      <td>1.0</td>\n",
       "      <td>0.0</td>\n",
       "      <td>0.0</td>\n",
       "      <td>0.0</td>\n",
       "      <td>940.0</td>\n",
       "      <td>0.0</td>\n",
       "      <td>...</td>\n",
       "      <td>34.0</td>\n",
       "      <td>36.0</td>\n",
       "      <td>63.0</td>\n",
       "      <td>312.0</td>\n",
       "      <td>200.0</td>\n",
       "      <td>36.0</td>\n",
       "      <td>1.0</td>\n",
       "      <td>12.0</td>\n",
       "      <td>2.0</td>\n",
       "      <td>0.0</td>\n",
       "    </tr>\n",
       "    <tr>\n",
       "      <th>1</th>\n",
       "      <td>CC140620_25.antiresfam</td>\n",
       "      <td>0.0</td>\n",
       "      <td>0.0</td>\n",
       "      <td>1.0</td>\n",
       "      <td>0.0</td>\n",
       "      <td>0.0</td>\n",
       "      <td>0.0</td>\n",
       "      <td>0.0</td>\n",
       "      <td>645.0</td>\n",
       "      <td>0.0</td>\n",
       "      <td>...</td>\n",
       "      <td>16.0</td>\n",
       "      <td>15.0</td>\n",
       "      <td>47.0</td>\n",
       "      <td>225.0</td>\n",
       "      <td>159.0</td>\n",
       "      <td>39.0</td>\n",
       "      <td>1.0</td>\n",
       "      <td>4.0</td>\n",
       "      <td>3.0</td>\n",
       "      <td>0.0</td>\n",
       "    </tr>\n",
       "    <tr>\n",
       "      <th>2</th>\n",
       "      <td>CC140620_33.antiresfam</td>\n",
       "      <td>0.0</td>\n",
       "      <td>1.0</td>\n",
       "      <td>0.0</td>\n",
       "      <td>1.0</td>\n",
       "      <td>0.0</td>\n",
       "      <td>18.0</td>\n",
       "      <td>13.0</td>\n",
       "      <td>449.0</td>\n",
       "      <td>275.0</td>\n",
       "      <td>...</td>\n",
       "      <td>20.0</td>\n",
       "      <td>17.0</td>\n",
       "      <td>21.0</td>\n",
       "      <td>168.0</td>\n",
       "      <td>117.0</td>\n",
       "      <td>22.0</td>\n",
       "      <td>1.0</td>\n",
       "      <td>0.0</td>\n",
       "      <td>2.0</td>\n",
       "      <td>0.0</td>\n",
       "    </tr>\n",
       "  </tbody>\n",
       "</table>\n",
       "<p>3 rows × 170 columns</p>\n",
       "</div>"
      ],
      "text/plain": [
       "gene                      id  AAC3  AAC3-I  AAC6-I  AAC6-II  AAC6-Ib  ABC1  \\\n",
       "0      CC140620_1.antiresfam   0.0     1.0     0.0      1.0      0.0   0.0   \n",
       "1     CC140620_25.antiresfam   0.0     0.0     1.0      0.0      0.0   0.0   \n",
       "2     CC140620_33.antiresfam   0.0     1.0     0.0      1.0      0.0  18.0   \n",
       "\n",
       "gene  ABC2_membrane  ABC_efflux  ABC_tran  ...   vanC  vanD  vanH   vanR  \\\n",
       "0               0.0       940.0       0.0  ...   34.0  36.0  63.0  312.0   \n",
       "1               0.0       645.0       0.0  ...   16.0  15.0  47.0  225.0   \n",
       "2              13.0       449.0     275.0  ...   20.0  17.0  21.0  168.0   \n",
       "\n",
       "gene   vanS  vanT  vanW  vanX  vanY  vanZ  \n",
       "0     200.0  36.0   1.0  12.0   2.0   0.0  \n",
       "1     159.0  39.0   1.0   4.0   3.0   0.0  \n",
       "2     117.0  22.0   1.0   0.0   2.0   0.0  \n",
       "\n",
       "[3 rows x 170 columns]"
      ]
     },
     "execution_count": 18,
     "metadata": {},
     "output_type": "execute_result"
    }
   ],
   "source": [
    "hmmer_clean.head(3)"
   ]
  },
  {
   "cell_type": "code",
   "execution_count": 19,
   "metadata": {
    "collapsed": false
   },
   "outputs": [
    {
     "data": {
      "text/plain": [
       "Index(['id', 'AAC3', 'AAC3-I', 'AAC6-I', 'AAC6-II', 'AAC6-Ib', 'ABC1',\n",
       "       'ABC2_membrane', 'ABC_efflux', 'ABC_tran',\n",
       "       ...\n",
       "       'vanC', 'vanD', 'vanH', 'vanR', 'vanS', 'vanT', 'vanW', 'vanX', 'vanY',\n",
       "       'vanZ'],\n",
       "      dtype='object', name='gene', length=170)"
      ]
     },
     "execution_count": 19,
     "metadata": {},
     "output_type": "execute_result"
    }
   ],
   "source": [
    "hmmer_clean.columns"
   ]
  },
  {
   "cell_type": "markdown",
   "metadata": {},
   "source": [
    "### Results"
   ]
  },
  {
   "cell_type": "markdown",
   "metadata": {},
   "source": [
    "#### Top twenty resistance gene hits"
   ]
  },
  {
   "cell_type": "code",
   "execution_count": 20,
   "metadata": {
    "collapsed": false
   },
   "outputs": [
    {
     "data": {
      "text/plain": [
       "gene\n",
       "msbA                      43343.0\n",
       "ABC_efflux                35218.0\n",
       "macB                      28951.0\n",
       "drrA                      20730.0\n",
       "RND_efflux                12674.0\n",
       "ABC_tran                  12231.0\n",
       "vanR                      12132.0\n",
       "Fluor_Res_DNA_Topo         8912.0\n",
       "MFS_1                      8372.0\n",
       "vanS                       7924.0\n",
       "baeR                       7876.0\n",
       "ACR_tran                   7460.0\n",
       "adeB                       7134.0\n",
       "MexW-MexI                  7072.0\n",
       "emrB                       6613.0\n",
       "MFS_efflux                 5851.0\n",
       "adeR                       4912.0\n",
       "tet_ribosomoal_protect     4787.0\n",
       "tet_MFS_efflux             4265.0\n",
       "Chlor_Efflux_Pump          4047.0\n",
       "dtype: float64"
      ]
     },
     "execution_count": 20,
     "metadata": {},
     "output_type": "execute_result"
    }
   ],
   "source": [
    "hmmer_clean.sum(numeric_only=True).sort_values(ascending=False).head(20)"
   ]
  },
  {
   "cell_type": "markdown",
   "metadata": {},
   "source": [
    "Here we are reading in the metadata file."
   ]
  },
  {
   "cell_type": "code",
   "execution_count": 37,
   "metadata": {
    "collapsed": false
   },
   "outputs": [],
   "source": [
    "metadata = pd.read_csv(\"antiresfam_metadata.txt\",sep=\"\\t\",header=0)"
   ]
  },
  {
   "cell_type": "code",
   "execution_count": 38,
   "metadata": {
    "collapsed": false
   },
   "outputs": [
    {
     "data": {
      "text/plain": [
       "(34, 8)"
      ]
     },
     "execution_count": 38,
     "metadata": {},
     "output_type": "execute_result"
    }
   ],
   "source": [
    "metadata.shape"
   ]
  },
  {
   "cell_type": "code",
   "execution_count": 39,
   "metadata": {
    "collapsed": false
   },
   "outputs": [
    {
     "data": {
      "text/html": [
       "<div>\n",
       "<table border=\"1\" class=\"dataframe\">\n",
       "  <thead>\n",
       "    <tr style=\"text-align: right;\">\n",
       "      <th></th>\n",
       "      <th>id</th>\n",
       "      <th>sample</th>\n",
       "      <th>species</th>\n",
       "      <th>location</th>\n",
       "      <th>cave_or_surface</th>\n",
       "      <th>recov_lsu_ssu</th>\n",
       "      <th>library_size</th>\n",
       "      <th>avg_seq_len</th>\n",
       "    </tr>\n",
       "  </thead>\n",
       "  <tbody>\n",
       "    <tr>\n",
       "      <th>0</th>\n",
       "      <td>CC140620_1.antiresfam</td>\n",
       "      <td>CC140620_1</td>\n",
       "      <td>Myotis velifer</td>\n",
       "      <td>CAVE</td>\n",
       "      <td>cave</td>\n",
       "      <td>706</td>\n",
       "      <td>1413632.0</td>\n",
       "      <td>181.2</td>\n",
       "    </tr>\n",
       "    <tr>\n",
       "      <th>1</th>\n",
       "      <td>CC140620_25.antiresfam</td>\n",
       "      <td>CC140620_25</td>\n",
       "      <td>Myotis velifer</td>\n",
       "      <td>CAVE</td>\n",
       "      <td>cave</td>\n",
       "      <td>273</td>\n",
       "      <td>1629876.0</td>\n",
       "      <td>198.4</td>\n",
       "    </tr>\n",
       "    <tr>\n",
       "      <th>2</th>\n",
       "      <td>CC140620_33.antiresfam</td>\n",
       "      <td>CC140620_33</td>\n",
       "      <td>Myotis velifer</td>\n",
       "      <td>CAVE</td>\n",
       "      <td>cave</td>\n",
       "      <td>193</td>\n",
       "      <td>576956.0</td>\n",
       "      <td>193.9</td>\n",
       "    </tr>\n",
       "  </tbody>\n",
       "</table>\n",
       "</div>"
      ],
      "text/plain": [
       "                       id       sample         species location  \\\n",
       "0   CC140620_1.antiresfam   CC140620_1  Myotis velifer     CAVE   \n",
       "1  CC140620_25.antiresfam  CC140620_25  Myotis velifer     CAVE   \n",
       "2  CC140620_33.antiresfam  CC140620_33  Myotis velifer     CAVE   \n",
       "\n",
       "  cave_or_surface  recov_lsu_ssu  library_size  avg_seq_len  \n",
       "0            cave            706     1413632.0        181.2  \n",
       "1            cave            273     1629876.0        198.4  \n",
       "2            cave            193      576956.0        193.9  "
      ]
     },
     "execution_count": 39,
     "metadata": {},
     "output_type": "execute_result"
    }
   ],
   "source": [
    "metadata.head(3)"
   ]
  },
  {
   "cell_type": "code",
   "execution_count": 40,
   "metadata": {
    "collapsed": false
   },
   "outputs": [],
   "source": [
    "merged_hmmer = pd.merge(hmmer_clean, metadata, on='id')"
   ]
  },
  {
   "cell_type": "code",
   "execution_count": 41,
   "metadata": {
    "collapsed": false
   },
   "outputs": [
    {
     "data": {
      "text/plain": [
       "(34, 177)"
      ]
     },
     "execution_count": 41,
     "metadata": {},
     "output_type": "execute_result"
    }
   ],
   "source": [
    "merged_hmmer.shape"
   ]
  },
  {
   "cell_type": "code",
   "execution_count": 42,
   "metadata": {
    "collapsed": false
   },
   "outputs": [
    {
     "data": {
      "text/html": [
       "<div>\n",
       "<table border=\"1\" class=\"dataframe\">\n",
       "  <thead>\n",
       "    <tr style=\"text-align: right;\">\n",
       "      <th>gene</th>\n",
       "      <th>id</th>\n",
       "      <th>AAC3</th>\n",
       "      <th>AAC3-I</th>\n",
       "      <th>AAC6-I</th>\n",
       "      <th>AAC6-II</th>\n",
       "      <th>AAC6-Ib</th>\n",
       "      <th>ABC1</th>\n",
       "      <th>ABC2_membrane</th>\n",
       "      <th>ABC_efflux</th>\n",
       "      <th>ABC_tran</th>\n",
       "      <th>...</th>\n",
       "      <th>vanX</th>\n",
       "      <th>vanY</th>\n",
       "      <th>vanZ</th>\n",
       "      <th>sample</th>\n",
       "      <th>species</th>\n",
       "      <th>location</th>\n",
       "      <th>cave_or_surface</th>\n",
       "      <th>recov_lsu_ssu</th>\n",
       "      <th>library_size</th>\n",
       "      <th>avg_seq_len</th>\n",
       "    </tr>\n",
       "  </thead>\n",
       "  <tbody>\n",
       "    <tr>\n",
       "      <th>0</th>\n",
       "      <td>CC140620_1.antiresfam</td>\n",
       "      <td>0.0</td>\n",
       "      <td>1.0</td>\n",
       "      <td>0.0</td>\n",
       "      <td>1.0</td>\n",
       "      <td>0.0</td>\n",
       "      <td>0.0</td>\n",
       "      <td>0.0</td>\n",
       "      <td>940.0</td>\n",
       "      <td>0.0</td>\n",
       "      <td>...</td>\n",
       "      <td>12.0</td>\n",
       "      <td>2.0</td>\n",
       "      <td>0.0</td>\n",
       "      <td>CC140620_1</td>\n",
       "      <td>Myotis velifer</td>\n",
       "      <td>CAVE</td>\n",
       "      <td>cave</td>\n",
       "      <td>706</td>\n",
       "      <td>1413632.0</td>\n",
       "      <td>181.2</td>\n",
       "    </tr>\n",
       "    <tr>\n",
       "      <th>1</th>\n",
       "      <td>CC140620_25.antiresfam</td>\n",
       "      <td>0.0</td>\n",
       "      <td>0.0</td>\n",
       "      <td>1.0</td>\n",
       "      <td>0.0</td>\n",
       "      <td>0.0</td>\n",
       "      <td>0.0</td>\n",
       "      <td>0.0</td>\n",
       "      <td>645.0</td>\n",
       "      <td>0.0</td>\n",
       "      <td>...</td>\n",
       "      <td>4.0</td>\n",
       "      <td>3.0</td>\n",
       "      <td>0.0</td>\n",
       "      <td>CC140620_25</td>\n",
       "      <td>Myotis velifer</td>\n",
       "      <td>CAVE</td>\n",
       "      <td>cave</td>\n",
       "      <td>273</td>\n",
       "      <td>1629876.0</td>\n",
       "      <td>198.4</td>\n",
       "    </tr>\n",
       "    <tr>\n",
       "      <th>2</th>\n",
       "      <td>CC140620_33.antiresfam</td>\n",
       "      <td>0.0</td>\n",
       "      <td>1.0</td>\n",
       "      <td>0.0</td>\n",
       "      <td>1.0</td>\n",
       "      <td>0.0</td>\n",
       "      <td>18.0</td>\n",
       "      <td>13.0</td>\n",
       "      <td>449.0</td>\n",
       "      <td>275.0</td>\n",
       "      <td>...</td>\n",
       "      <td>0.0</td>\n",
       "      <td>2.0</td>\n",
       "      <td>0.0</td>\n",
       "      <td>CC140620_33</td>\n",
       "      <td>Myotis velifer</td>\n",
       "      <td>CAVE</td>\n",
       "      <td>cave</td>\n",
       "      <td>193</td>\n",
       "      <td>576956.0</td>\n",
       "      <td>193.9</td>\n",
       "    </tr>\n",
       "  </tbody>\n",
       "</table>\n",
       "<p>3 rows × 177 columns</p>\n",
       "</div>"
      ],
      "text/plain": [
       "gene                      id  AAC3  AAC3-I  AAC6-I  AAC6-II  AAC6-Ib  ABC1  \\\n",
       "0      CC140620_1.antiresfam   0.0     1.0     0.0      1.0      0.0   0.0   \n",
       "1     CC140620_25.antiresfam   0.0     0.0     1.0      0.0      0.0   0.0   \n",
       "2     CC140620_33.antiresfam   0.0     1.0     0.0      1.0      0.0  18.0   \n",
       "\n",
       "gene  ABC2_membrane  ABC_efflux  ABC_tran     ...       vanX  vanY  vanZ  \\\n",
       "0               0.0       940.0       0.0     ...       12.0   2.0   0.0   \n",
       "1               0.0       645.0       0.0     ...        4.0   3.0   0.0   \n",
       "2              13.0       449.0     275.0     ...        0.0   2.0   0.0   \n",
       "\n",
       "gene       sample         species  location  cave_or_surface  recov_lsu_ssu  \\\n",
       "0      CC140620_1  Myotis velifer      CAVE             cave            706   \n",
       "1     CC140620_25  Myotis velifer      CAVE             cave            273   \n",
       "2     CC140620_33  Myotis velifer      CAVE             cave            193   \n",
       "\n",
       "gene  library_size  avg_seq_len  \n",
       "0        1413632.0        181.2  \n",
       "1        1629876.0        198.4  \n",
       "2         576956.0        193.9  \n",
       "\n",
       "[3 rows x 177 columns]"
      ]
     },
     "execution_count": 42,
     "metadata": {},
     "output_type": "execute_result"
    }
   ],
   "source": [
    "merged_hmmer.head(3)"
   ]
  },
  {
   "cell_type": "markdown",
   "metadata": {},
   "source": [
    "### Plot\n",
    "\n",
    "This is a plot of total number of sequences and the recovered LSU and SSU genes from metaxa2."
   ]
  },
  {
   "cell_type": "code",
   "execution_count": 283,
   "metadata": {
    "collapsed": false
   },
   "outputs": [
    {
     "name": "stderr",
     "output_type": "stream",
     "text": [
      "/Library/Frameworks/Python.framework/Versions/3.5/lib/python3.5/site-packages/statsmodels/nonparametric/kdetools.py:20: VisibleDeprecationWarning: using a non-integer number instead of an integer will result in an error in the future\n",
      "  y = X[:m/2+1] + np.r_[0,X[m/2+1:],0]*1j\n"
     ]
    },
    {
     "data": {
      "image/png": "[encoded data removed]",
      "text/plain": [
       "<matplotlib.figure.Figure at 0x121e2d940>"
      ]
     },
     "metadata": {},
     "output_type": "display_data"
    }
   ],
   "source": [
    "g = sns.jointplot(\"library_size\", \"recov_lsu_ssu\", kind=\"reg\", data=merged_hmmer)"
   ]
  },
  {
   "cell_type": "markdown",
   "metadata": {},
   "source": [
    "### Notes\n",
    "The total library size (# of sequences) does not track with the recovered LSU and SSU genes from metaxa. This means we\n",
    "can use the total LSU and SSU to normalize our data. This will correct (in a biologically relevant way) for varying library sizes across all of our samples. "
   ]
  },
  {
   "cell_type": "markdown",
   "metadata": {},
   "source": [
    "### Library size\n",
    "The library size here is the mean number of sequences by bat species. I want to make sure we are seeing a real signal downstream. "
   ]
  },
  {
   "cell_type": "code",
   "execution_count": 284,
   "metadata": {
    "collapsed": false
   },
   "outputs": [
    {
     "name": "stderr",
     "output_type": "stream",
     "text": [
      "/Library/Frameworks/Python.framework/Versions/3.5/lib/python3.5/site-packages/statsmodels/nonparametric/kdetools.py:20: VisibleDeprecationWarning: using a non-integer number instead of an integer will result in an error in the future\n",
      "  y = X[:m/2+1] + np.r_[0,X[m/2+1:],0]*1j\n"
     ]
    },
    {
     "data": {
      "text/plain": [
       "<matplotlib.axes._subplots.AxesSubplot at 0x10f9a61d0>"
      ]
     },
     "execution_count": 284,
     "metadata": {},
     "output_type": "execute_result"
    },
    {
     "data": {
      "image/png": "[encoded data removed]",
      "text/plain": [
       "<matplotlib.figure.Figure at 0x10fa59e10>"
      ]
     },
     "metadata": {},
     "output_type": "display_data"
    }
   ],
   "source": [
    "sns.distplot(merged_hmmer.library_size)"
   ]
  },
  {
   "cell_type": "code",
   "execution_count": 285,
   "metadata": {
    "collapsed": false
   },
   "outputs": [
    {
     "data": {
      "text/plain": [
       "species\n",
       "Antrozous pallidus       1232007\n",
       "Myotis thysanodes        2564294\n",
       "Myotis velifer           1580415\n",
       "Tadarida brasiliensis    1509662\n",
       "Name: library_size, dtype: int64"
      ]
     },
     "execution_count": 285,
     "metadata": {},
     "output_type": "execute_result"
    }
   ],
   "source": [
    "merged_hmmer.groupby('species')['library_size'].mean()"
   ]
  },
  {
   "cell_type": "markdown",
   "metadata": {},
   "source": [
    "### Total recovery LSU and SSU genes"
   ]
  },
  {
   "cell_type": "code",
   "execution_count": 286,
   "metadata": {
    "collapsed": false
   },
   "outputs": [
    {
     "name": "stderr",
     "output_type": "stream",
     "text": [
      "/Library/Frameworks/Python.framework/Versions/3.5/lib/python3.5/site-packages/statsmodels/nonparametric/kdetools.py:20: VisibleDeprecationWarning: using a non-integer number instead of an integer will result in an error in the future\n",
      "  y = X[:m/2+1] + np.r_[0,X[m/2+1:],0]*1j\n"
     ]
    },
    {
     "data": {
      "text/plain": [
       "<matplotlib.axes._subplots.AxesSubplot at 0x10fd9cf28>"
      ]
     },
     "execution_count": 286,
     "metadata": {},
     "output_type": "execute_result"
    },
    {
     "data": {
      "image/png": "[encoded data removed]",
      "text/plain": [
       "<matplotlib.figure.Figure at 0x10cb29550>"
      ]
     },
     "metadata": {},
     "output_type": "display_data"
    }
   ],
   "source": [
    "sns.distplot(merged_hmmer.recov_lsu_ssu)"
   ]
  },
  {
   "cell_type": "code",
   "execution_count": 287,
   "metadata": {
    "collapsed": false
   },
   "outputs": [
    {
     "data": {
      "text/plain": [
       "species\n",
       "Antrozous pallidus       1230.428571\n",
       "Myotis thysanodes         473.200000\n",
       "Myotis velifer            572.200000\n",
       "Tadarida brasiliensis    1014.625000\n",
       "Name: recov_lsu_ssu, dtype: float64"
      ]
     },
     "execution_count": 287,
     "metadata": {},
     "output_type": "execute_result"
    }
   ],
   "source": [
    "merged_hmmer.groupby('species')['recov_lsu_ssu'].mean()"
   ]
  },
  {
   "cell_type": "code",
   "execution_count": 288,
   "metadata": {
    "collapsed": false
   },
   "outputs": [
    {
     "data": {
      "image/png": "[encoded data removed]",
      "text/plain": [
       "<matplotlib.figure.Figure at 0x10d415748>"
      ]
     },
     "metadata": {},
     "output_type": "display_data"
    }
   ],
   "source": [
    "p0 = sns.swarmplot(x=\"library_size\", y=\"species\", data=merged_hmmer, hue=\"cave_or_surface\")\n",
    "sns.despine()\n",
    "for item in p0.get_xticklabels():\n",
    "    item.set_rotation(90)\n",
    "p0.figure.set_size_inches(8,6)"
   ]
  },
  {
   "cell_type": "markdown",
   "metadata": {},
   "source": [
    "### Background\n",
    "Nesme et al., 2014 paper, Large-Scale Metagenomic-Based Study of Antibiotic Resistance in the Environment showed that microbial resistance genes are present in a range of environments. \n",
    "\n",
    ">\"The most common types of resistances found in\n",
    ">environmental metagenomes were efflux pumps and\n",
    ">genes conferring resistance to vancomycin, tetracycline,\n",
    ">or b-lactam antibiotics used in veterinary and human healthcare.\n",
    ">Our study describes the diverse and abundant antibiotic\n",
    ">resistance genes in nonclinical environments and\n",
    ">shows that these genes are not randomly distributed among\n",
    ">different environments\"\n",
    "\n",
    "\n"
   ]
  },
  {
   "cell_type": "markdown",
   "metadata": {},
   "source": [
    "It's possible that cave-caught bats and surface-netted bats have a different distrubtion of resistance genes. Our plots then need to show which are the cave-caught bats and surface-netted bats. \n",
    "\n",
    "#### 9/28/2016 \n",
    "I suspect that we should see difference between locations (local), ecoregion (regional), and bat species. This should vary depending on the gene we are looking at. I think the broad spectrum are more wide spread? We need to see if there are unqiue gene hits for a given category. In other words are there resistance genes that only show up in caves or one one species of bat. "
   ]
  },
  {
   "cell_type": "markdown",
   "metadata": {},
   "source": [
    "#### 9/29/16\n",
    "Getting a little more serious Nesme et al., 2014 paper gave a list of most common resistance genes from 71 metageomes across many different environments.\n",
    "\n",
    "| Resistance class                                                                                     | Mechanism of Resistance                                                                                                                                   | Antibiotic Specificity      |\n",
    "|------------------------------------------------------------------------------------------------------|-----------------------------------------------------------------------------------------------------------------------------------------------------------|-----------------------------|\n",
    "| mexef, ceo, mexvw, acr, mexhi, mexcd, mexab, mdtnop, amr, adeabc, smeabc, smedef, mdtef, mexxy, mdtk | RND class transporter                                                                                                                                     | multidrug resistance efflux |\n",
    "| macab                                                                                                | RND class transporter: macrolide                                                                                                                          | multidrug resistance efflux |\n",
    "| bcr, bcr_mfs                                                                                         | ABC class transporter system: bacitracin                                                                                                                  | multidrug resistance efflux |\n",
    "| mls_abc                                                                                              | ABC class transporter: macrolide                                                                                                                          | multidrug resistance efflux |\n",
    "| mls_mfs, mls_hdr                                                                                     | MFS class transporter: macrolide                                                                                                                          | multidrug resistance efflux |\n",
    "| cml                                                                                                  | MFS class transporter: chloramphenicol                                                                                                                    | multidrug resistance efflux |\n",
    "| rosab                                                                                                | potassium antiporter system                                                                                                                               | multidrug resistance efflux |\n",
    "| mepa, norm                                                                                           | MATE transporter                                                                                                                                          | multidrug resistance efflux |\n",
    "| tcma, mdr, qac                                                                                       | MFS transporter                                                                                                                                           | multidrug resistance efflux |\n",
    "| vana, vanb, vanc, vand, vane, vang                                                                   | vancomycin resistance operon genes (vanH, vanS, vanR, vanX, and vanY) for each vancomycin resistance operon: VanA, VanB, VanC, VanD, VanE, and VanG types | vancomycin                  |\n",
    "| tet_rpp                                                                                              | tetracyline ribosomal protection protein                                                                                                                  | tetracycline                |\n",
    "| tet_efflux                                                                                           | tetracyline-specific efflux pump                                                                                                                          | tetracycline                |\n",
    "| tet_flavo                                                                                            | flavoproteins resistance to tetracyline                                                                                                                   | tetracycline                |\n",
    "| bla_a, bla_b                                                                                         | class A and class B b-lactamases                                                                                                                          | b-lactams                   |\n",
    "| pbp                                                                                                  | penicillin-binding protein                                                                                                                                | b-lactams                   |\n",
    "| baca                                                                                                 | bacitracin resistance                                                                                                                                     | bacitracin                  |\n",
    "| cata                                                                                                 | chloramphenicol acetyltransferase                                                                                                                         | chloramphenicol             |\n",
    "| ksga                                                                                                 | kasugamycin resistance                                                                                                                                    | kasugamycin                 |\n",
    "| arna                                                                                                 | polymixin resistance                                                                                                                                      | polymixin                   |\n",
    "| pur8                                                                                                 | puromycin resistance                                                                                                                                      | puromycin                   |\n",
    "| vat                                                                                                  | virginiamycin resistance                                                                                                                                  | streptogramin               |\n",
    "| sul                                                                                                  | sulfonamide resistance                                                                                                                                    | sulfonamide                 |\n",
    "| dfra                                                                                                 | trimethoprim resistance                                                                                                                                   | trimethoprim                |\n",
    "\n",
    "This is a table from their paper with the most common hits. Sadly the antresfams hmmer database doesn't use this exact naming scheme. So we need to match things up. \n",
    "\n",
    "More importanty I want to see if bats share the same most common antires genes. "
   ]
  },
  {
   "cell_type": "markdown",
   "metadata": {},
   "source": [
    "Here are the top twenty resistance genes among the CAVE bats we sampled.\n",
    "\n",
    "| Resistance class (antiresfam) | Counts | Mechanism of Resistance                             | Antibiotic Specificity                                       |\n",
    "|-------------------------------|--------|-----------------------------------------------------|--------------------------------------------------------------|\n",
    "| msbA                          | 38828  | ABC class transporter                               | multidrug resistance                                         |\n",
    "| ABC_efflux                    | 31512  | ABC class transporter                               | multidrug resistance efflux                                  |\n",
    "| macB                          | 26058  | RND class transporter: macrolide                    | multidrug resistance efflux                                  |\n",
    "| drrA                          | 15841  | doxorubicin and daunorubicin resistance operon gene | doxorubicin and daunorubicin                                 |\n",
    "| vanR                          | 10505  | vancomycin resistance operon gene                   | vancomycin                                                   |\n",
    "| RND_efflux                    | 9615   | RND class transporter                               | multidrug resistance efflux                                  |\n",
    "| ABC_tran                      | 9133   | ABC class transporter                               | multidrug resistance efflux                                  |\n",
    "| Fluor_Res_DNA_Topo            | 8289   |                                                     |                                                              |\n",
    "| baeR                          | 6795   |                                                     | novobiocin                                                   |\n",
    "| vanS                          | 6760   | vancomycin resistance operon gene                   | vancomycin                                                   |\n",
    "| MFS_1                         | 5626   | ABC class transporter system: bacitracin            | multidrug resistance efflux                                  |\n",
    "| MexW-MexI                     | 5482   | RND class transporter                               | multidrug resistance efflux                                  |\n",
    "| emrB                          | 5480   |                                                     | multidrug resistance efflux                                  |\n",
    "| adeB                          | 5457   |                                                     | Multidrug resistance efflux: aminoglycoside; chloramphenicol |\n",
    "| MFS_efflux                    | 4969   |                                                     | multidrug resistance efflux                                  |\n",
    "| tet_ribosomoal_protect        | 4438   | tetracycline resistance genes                       | tetracycline                                                 |\n",
    "| adeR                          | 4265   |                                                     | Multidrug resistance efflux:                                 |\n",
    "| ACR_tran                      | 3924   |                                                     | Acriflavine                                                  |\n",
    "| tet_MFS_efflux                | 3518   | MFS class transporter                               | multidrug resistance efflux                                  |\n",
    "| Chlor_Efflux_Pump             | 3328   |                                                     | multidrug resistance efflux                                  |\n",
    "\n",
    "We see a very similar pattern with efflux pumps and resistance genes for vancomycin, tetracycline, novobiocin or b-lactam antibiotics. In plot p2 (above) there seems to be a non-random disturbiton of these genes by species. "
   ]
  },
  {
   "cell_type": "code",
   "execution_count": 47,
   "metadata": {
    "collapsed": false
   },
   "outputs": [],
   "source": [
    "merged_hmmer['msbA_S'] = merged_hmmer[['msbA']].div(merged_hmmer.recov_lsu_ssu, axis=0)\n",
    "merged_hmmer['ABC_efflux_S'] = merged_hmmer[['ABC_efflux']].div(merged_hmmer.recov_lsu_ssu, axis=0)\n",
    "merged_hmmer['macB_S'] = merged_hmmer[['macB']].div(merged_hmmer.recov_lsu_ssu, axis=0)\n",
    "merged_hmmer['drrA_S'] = merged_hmmer[['drrA']].div(merged_hmmer.recov_lsu_ssu, axis=0)\n",
    "merged_hmmer['vanR_S'] = merged_hmmer[['vanR']].div(merged_hmmer.recov_lsu_ssu, axis=0)\n",
    "merged_hmmer['RND_efflux_S'] = merged_hmmer[['RND_efflux']].div(merged_hmmer.recov_lsu_ssu, axis=0)"
   ]
  },
  {
   "cell_type": "code",
   "execution_count": 48,
   "metadata": {
    "collapsed": false
   },
   "outputs": [
    {
     "name": "stderr",
     "output_type": "stream",
     "text": [
      "/Library/Frameworks/Python.framework/Versions/3.5/lib/python3.5/site-packages/statsmodels/nonparametric/kdetools.py:20: VisibleDeprecationWarning: using a non-integer number instead of an integer will result in an error in the future\n",
      "  y = X[:m/2+1] + np.r_[0,X[m/2+1:],0]*1j\n"
     ]
    },
    {
     "data": {
      "image/png": "[encoded data removed]",
      "text/plain": [
       "<matplotlib.figure.Figure at 0x10c1d3320>"
      ]
     },
     "metadata": {},
     "output_type": "display_data"
    }
   ],
   "source": [
    "g3 = sns.jointplot(\"library_size\",\"msbA\", kind=\"reg\", data=merged_hmmer)"
   ]
  },
  {
   "cell_type": "markdown",
   "metadata": {},
   "source": [
    "Here is a plot of the five most abundant gene hits by raw counts. Below we scale the data by total recovered LSU and SSU genes."
   ]
  },
  {
   "cell_type": "code",
   "execution_count": 49,
   "metadata": {
    "collapsed": false
   },
   "outputs": [
    {
     "data": {
      "text/plain": [
       "<seaborn.axisgrid.PairGrid at 0x10b815ba8>"
      ]
     },
     "execution_count": 49,
     "metadata": {},
     "output_type": "execute_result"
    },
    {
     "data": {
      "image/png": "[encoded data removed]",
      "text/plain": [
       "<matplotlib.figure.Figure at 0x10b815cc0>"
      ]
     },
     "metadata": {},
     "output_type": "display_data"
    }
   ],
   "source": [
    "g = sns.PairGrid(merged_hmmer,\n",
    "                 y_vars=[\"species\"],\n",
    "                 x_vars=[\"msbA_S\", \"ABC_efflux_S\",\"macB_S\",\n",
    "                        \"vanR_S\",\"RND_efflux_S\"],\n",
    "                 aspect=.75, size=4)\n",
    "g.map(sns.swarmplot, palette=\"colorblind\",size=10)"
   ]
  },
  {
   "cell_type": "markdown",
   "metadata": {},
   "source": [
    "#### 9/29/2016\n",
    "One thing that strikes me as suspect is the Antrozous pallidus (ANPA) always have the lowest. They are the weird bats in the data set. Big, low aspect ratio wings, plant and ground flight feeding beahvior. \n",
    "\n",
    "\n",
    "They have the lowest mean library size 1232007.\n",
    "And the mean recovered LSU and SSU is 1230, the second highest. That means the gene counts are being scaled hard in the face of smaller library sizes. However the scaling should balance out the gene count???\n",
    "\n",
    "The Myotis Velifer do not have the greatest number of mean sequences, nor the largest number of recovered LSU and SSU genes. \n",
    "\n",
    "I want to see what are the greatest relative resistance genes are across all these bats."
   ]
  },
  {
   "cell_type": "code",
   "execution_count": 55,
   "metadata": {
    "collapsed": false
   },
   "outputs": [],
   "source": [
    "df_counts = pd.DataFrame(hmmer_clean.sum(numeric_only=True).sort_values(ascending=False))"
   ]
  },
  {
   "cell_type": "code",
   "execution_count": 56,
   "metadata": {
    "collapsed": false
   },
   "outputs": [],
   "source": [
    "df_rel = pd.DataFrame((df_counts/df_counts.sum()*100))"
   ]
  },
  {
   "cell_type": "code",
   "execution_count": 60,
   "metadata": {
    "collapsed": false
   },
   "outputs": [
    {
     "data": {
      "text/html": [
       "<div>\n",
       "<table border=\"1\" class=\"dataframe\">\n",
       "  <thead>\n",
       "    <tr style=\"text-align: right;\">\n",
       "      <th></th>\n",
       "      <th>0</th>\n",
       "    </tr>\n",
       "    <tr>\n",
       "      <th>gene</th>\n",
       "      <th></th>\n",
       "    </tr>\n",
       "  </thead>\n",
       "  <tbody>\n",
       "    <tr>\n",
       "      <th>msbA</th>\n",
       "      <td>13.713390</td>\n",
       "    </tr>\n",
       "    <tr>\n",
       "      <th>ABC_efflux</th>\n",
       "      <td>11.139557</td>\n",
       "    </tr>\n",
       "    <tr>\n",
       "      <th>macB</th>\n",
       "      <td>9.208460</td>\n",
       "    </tr>\n",
       "    <tr>\n",
       "      <th>drrA</th>\n",
       "      <td>5.719991</td>\n",
       "    </tr>\n",
       "    <tr>\n",
       "      <th>vanR</th>\n",
       "      <td>3.630015</td>\n",
       "    </tr>\n",
       "    <tr>\n",
       "      <th>RND_efflux</th>\n",
       "      <td>3.394947</td>\n",
       "    </tr>\n",
       "    <tr>\n",
       "      <th>ABC_tran</th>\n",
       "      <td>3.297814</td>\n",
       "    </tr>\n",
       "    <tr>\n",
       "      <th>Fluor_Res_DNA_Topo</th>\n",
       "      <td>2.966697</td>\n",
       "    </tr>\n",
       "    <tr>\n",
       "      <th>baeR</th>\n",
       "      <td>2.357903</td>\n",
       "    </tr>\n",
       "    <tr>\n",
       "      <th>vanS</th>\n",
       "      <td>2.282436</td>\n",
       "    </tr>\n",
       "    <tr>\n",
       "      <th>MFS_1</th>\n",
       "      <td>2.031480</td>\n",
       "    </tr>\n",
       "  </tbody>\n",
       "</table>\n",
       "</div>"
      ],
      "text/plain": [
       "                            0\n",
       "gene                         \n",
       "msbA                13.713390\n",
       "ABC_efflux          11.139557\n",
       "macB                 9.208460\n",
       "drrA                 5.719991\n",
       "vanR                 3.630015\n",
       "RND_efflux           3.394947\n",
       "ABC_tran             3.297814\n",
       "Fluor_Res_DNA_Topo   2.966697\n",
       "baeR                 2.357903\n",
       "vanS                 2.282436\n",
       "MFS_1                2.031480"
      ]
     },
     "execution_count": 60,
     "metadata": {},
     "output_type": "execute_result"
    }
   ],
   "source": [
    "df_rel.head(11)"
   ]
  },
  {
   "cell_type": "markdown",
   "metadata": {},
   "source": [
    "#### 10/4/2016\n",
    "\n",
    "I am going to use a cutoff of 2% of the total resistome hits to report and compare with other environmental metagenomes. "
   ]
  },
  {
   "cell_type": "markdown",
   "metadata": {},
   "source": [
    "#### 9/29/2016\n",
    "From Nesme\n",
    ">The macab and bcr efflux pumps accounted for 18.9% and 8.5% of the total ARGD hits in all environments, respectively. Most ARGD-annotated reads detected in metagenomic data sets using our stringent annotation cutoff were related to various types of efflux-pump components: membrane fusion protein from resistance-nodulation cell division efflux pumps (RND) and ATP-binding cassette (ABC) domains related to bacitracin efflux, with 27.9% and 20.8% of the total hits of ARGD annotated sequences in all metagenomes, \n",
    "\n",
    "We see a similar pattern macB efflux pump is 9.2%, then ABC_efflux is 11.1%. msbA (ATP-binding cassette) stands out at 13%. \n",
    "\n",
    ">etracycline ribosomal protection protein-encoding genes (tet_rpp, 5.7%) and vancomycin resistance-related genes (vanA, 3.6%; vanB, 2.9%; vanC, 3.5%; vanE, 2.3%; vanG, 2.8%; and vanC, 1.8%)\n",
    "\n",
    "The tet_ribosomoal_protect is 1.6%. Our vanR is 3.63%, vanS 2.3%.\n",
    "\n",
    "Tentatively our bats resitome looks similar the the 71 environmental metagenomes from Nesme. However I want to see if any gene hits only occur within a given species and not others. So gotta sort out the query for that."
   ]
  },
  {
   "cell_type": "markdown",
   "metadata": {},
   "source": [
    "#### 9/30/2016\n",
    "Not much work on this today. Mostly tracking down references for use in the paper. I need to read up on what other folks have found through metagenomics."
   ]
  },
  {
   "cell_type": "code",
   "execution_count": 21,
   "metadata": {
    "collapsed": true
   },
   "outputs": [],
   "source": [
    "from scipy.spatial.distance import *\n",
    "import numpy as np\n",
    "from sklearn import manifold"
   ]
  },
  {
   "cell_type": "code",
   "execution_count": 30,
   "metadata": {
    "collapsed": true
   },
   "outputs": [],
   "source": [
    "mds_df = hmmer_clean.drop('id',1)\n",
    "dist_mat = squareform(pdist(mds_df,'braycurtis'))"
   ]
  },
  {
   "cell_type": "code",
   "execution_count": 31,
   "metadata": {
    "collapsed": false
   },
   "outputs": [
    {
     "data": {
      "text/html": [
       "<div>\n",
       "<table border=\"1\" class=\"dataframe\">\n",
       "  <thead>\n",
       "    <tr style=\"text-align: right;\">\n",
       "      <th>id</th>\n",
       "      <th>CC140620_1.antiresfam</th>\n",
       "      <th>CC140620_25.antiresfam</th>\n",
       "      <th>CC140620_33.antiresfam</th>\n",
       "      <th>CC140620_37.antiresfam</th>\n",
       "      <th>CC140620_5.antiresfam</th>\n",
       "      <th>CC150624_21.antiresfam</th>\n",
       "      <th>CC150624_25.antiresfam</th>\n",
       "      <th>CC150624_29.antiresfam</th>\n",
       "      <th>CC150626_1.antiresfam</th>\n",
       "      <th>EST150404_1.antiresfam</th>\n",
       "      <th>...</th>\n",
       "      <th>WCS140623_13.antiresfam</th>\n",
       "      <th>WCS140623_5.antiresfam</th>\n",
       "      <th>WCS140623_9.antiresfam</th>\n",
       "      <th>WCS150622_5.antiresfam</th>\n",
       "      <th>WCS150622_9.antiresfam</th>\n",
       "      <th>WCS150625_13.antiresfam</th>\n",
       "      <th>WCS150625_17.antiresfam</th>\n",
       "      <th>WCS150625_25.antiresfam</th>\n",
       "      <th>WCS150625_33.antiresfam</th>\n",
       "      <th>WCS150625_9.antiresfam</th>\n",
       "    </tr>\n",
       "    <tr>\n",
       "      <th>id</th>\n",
       "      <th></th>\n",
       "      <th></th>\n",
       "      <th></th>\n",
       "      <th></th>\n",
       "      <th></th>\n",
       "      <th></th>\n",
       "      <th></th>\n",
       "      <th></th>\n",
       "      <th></th>\n",
       "      <th></th>\n",
       "      <th></th>\n",
       "      <th></th>\n",
       "      <th></th>\n",
       "      <th></th>\n",
       "      <th></th>\n",
       "      <th></th>\n",
       "      <th></th>\n",
       "      <th></th>\n",
       "      <th></th>\n",
       "      <th></th>\n",
       "      <th></th>\n",
       "    </tr>\n",
       "  </thead>\n",
       "  <tbody>\n",
       "    <tr>\n",
       "      <th>CC140620_1.antiresfam</th>\n",
       "      <td>0.000000</td>\n",
       "      <td>0.183236</td>\n",
       "      <td>0.456379</td>\n",
       "      <td>0.637622</td>\n",
       "      <td>0.087144</td>\n",
       "      <td>0.108231</td>\n",
       "      <td>0.141332</td>\n",
       "      <td>0.668325</td>\n",
       "      <td>0.136760</td>\n",
       "      <td>0.622788</td>\n",
       "      <td>...</td>\n",
       "      <td>0.909665</td>\n",
       "      <td>0.266097</td>\n",
       "      <td>0.932605</td>\n",
       "      <td>0.349957</td>\n",
       "      <td>0.707466</td>\n",
       "      <td>0.429603</td>\n",
       "      <td>0.406997</td>\n",
       "      <td>0.493258</td>\n",
       "      <td>0.714499</td>\n",
       "      <td>0.734111</td>\n",
       "    </tr>\n",
       "    <tr>\n",
       "      <th>CC140620_25.antiresfam</th>\n",
       "      <td>0.183236</td>\n",
       "      <td>0.000000</td>\n",
       "      <td>0.380812</td>\n",
       "      <td>0.574813</td>\n",
       "      <td>0.148092</td>\n",
       "      <td>0.202183</td>\n",
       "      <td>0.233669</td>\n",
       "      <td>0.585952</td>\n",
       "      <td>0.256428</td>\n",
       "      <td>0.707323</td>\n",
       "      <td>...</td>\n",
       "      <td>0.882870</td>\n",
       "      <td>0.198762</td>\n",
       "      <td>0.912302</td>\n",
       "      <td>0.476067</td>\n",
       "      <td>0.769603</td>\n",
       "      <td>0.381394</td>\n",
       "      <td>0.519847</td>\n",
       "      <td>0.600591</td>\n",
       "      <td>0.780669</td>\n",
       "      <td>0.793370</td>\n",
       "    </tr>\n",
       "    <tr>\n",
       "      <th>CC140620_33.antiresfam</th>\n",
       "      <td>0.456379</td>\n",
       "      <td>0.380812</td>\n",
       "      <td>0.000000</td>\n",
       "      <td>0.344240</td>\n",
       "      <td>0.434146</td>\n",
       "      <td>0.469555</td>\n",
       "      <td>0.489449</td>\n",
       "      <td>0.654654</td>\n",
       "      <td>0.504690</td>\n",
       "      <td>0.640540</td>\n",
       "      <td>...</td>\n",
       "      <td>0.903934</td>\n",
       "      <td>0.449275</td>\n",
       "      <td>0.928607</td>\n",
       "      <td>0.644538</td>\n",
       "      <td>0.840312</td>\n",
       "      <td>0.215115</td>\n",
       "      <td>0.415380</td>\n",
       "      <td>0.513493</td>\n",
       "      <td>0.730836</td>\n",
       "      <td>0.748806</td>\n",
       "    </tr>\n",
       "    <tr>\n",
       "      <th>CC140620_37.antiresfam</th>\n",
       "      <td>0.637622</td>\n",
       "      <td>0.574813</td>\n",
       "      <td>0.344240</td>\n",
       "      <td>0.000000</td>\n",
       "      <td>0.625923</td>\n",
       "      <td>0.628747</td>\n",
       "      <td>0.609198</td>\n",
       "      <td>0.460088</td>\n",
       "      <td>0.662238</td>\n",
       "      <td>0.791158</td>\n",
       "      <td>...</td>\n",
       "      <td>0.832189</td>\n",
       "      <td>0.569535</td>\n",
       "      <td>0.869193</td>\n",
       "      <td>0.779099</td>\n",
       "      <td>0.913181</td>\n",
       "      <td>0.425969</td>\n",
       "      <td>0.626911</td>\n",
       "      <td>0.707775</td>\n",
       "      <td>0.846142</td>\n",
       "      <td>0.859111</td>\n",
       "    </tr>\n",
       "    <tr>\n",
       "      <th>CC140620_5.antiresfam</th>\n",
       "      <td>0.087144</td>\n",
       "      <td>0.148092</td>\n",
       "      <td>0.434146</td>\n",
       "      <td>0.625923</td>\n",
       "      <td>0.000000</td>\n",
       "      <td>0.107739</td>\n",
       "      <td>0.188285</td>\n",
       "      <td>0.653884</td>\n",
       "      <td>0.153159</td>\n",
       "      <td>0.642957</td>\n",
       "      <td>...</td>\n",
       "      <td>0.905040</td>\n",
       "      <td>0.250832</td>\n",
       "      <td>0.929439</td>\n",
       "      <td>0.377785</td>\n",
       "      <td>0.721675</td>\n",
       "      <td>0.415245</td>\n",
       "      <td>0.434533</td>\n",
       "      <td>0.518794</td>\n",
       "      <td>0.729639</td>\n",
       "      <td>0.747459</td>\n",
       "    </tr>\n",
       "  </tbody>\n",
       "</table>\n",
       "<p>5 rows × 34 columns</p>\n",
       "</div>"
      ],
      "text/plain": [
       "id                      CC140620_1.antiresfam  CC140620_25.antiresfam  \\\n",
       "id                                                                      \n",
       "CC140620_1.antiresfam                0.000000                0.183236   \n",
       "CC140620_25.antiresfam               0.183236                0.000000   \n",
       "CC140620_33.antiresfam               0.456379                0.380812   \n",
       "CC140620_37.antiresfam               0.637622                0.574813   \n",
       "CC140620_5.antiresfam                0.087144                0.148092   \n",
       "\n",
       "id                      CC140620_33.antiresfam  CC140620_37.antiresfam  \\\n",
       "id                                                                       \n",
       "CC140620_1.antiresfam                 0.456379                0.637622   \n",
       "CC140620_25.antiresfam                0.380812                0.574813   \n",
       "CC140620_33.antiresfam                0.000000                0.344240   \n",
       "CC140620_37.antiresfam                0.344240                0.000000   \n",
       "CC140620_5.antiresfam                 0.434146                0.625923   \n",
       "\n",
       "id                      CC140620_5.antiresfam  CC150624_21.antiresfam  \\\n",
       "id                                                                      \n",
       "CC140620_1.antiresfam                0.087144                0.108231   \n",
       "CC140620_25.antiresfam               0.148092                0.202183   \n",
       "CC140620_33.antiresfam               0.434146                0.469555   \n",
       "CC140620_37.antiresfam               0.625923                0.628747   \n",
       "CC140620_5.antiresfam                0.000000                0.107739   \n",
       "\n",
       "id                      CC150624_25.antiresfam  CC150624_29.antiresfam  \\\n",
       "id                                                                       \n",
       "CC140620_1.antiresfam                 0.141332                0.668325   \n",
       "CC140620_25.antiresfam                0.233669                0.585952   \n",
       "CC140620_33.antiresfam                0.489449                0.654654   \n",
       "CC140620_37.antiresfam                0.609198                0.460088   \n",
       "CC140620_5.antiresfam                 0.188285                0.653884   \n",
       "\n",
       "id                      CC150626_1.antiresfam  EST150404_1.antiresfam  \\\n",
       "id                                                                      \n",
       "CC140620_1.antiresfam                0.136760                0.622788   \n",
       "CC140620_25.antiresfam               0.256428                0.707323   \n",
       "CC140620_33.antiresfam               0.504690                0.640540   \n",
       "CC140620_37.antiresfam               0.662238                0.791158   \n",
       "CC140620_5.antiresfam                0.153159                0.642957   \n",
       "\n",
       "id                               ...            WCS140623_13.antiresfam  \\\n",
       "id                               ...                                      \n",
       "CC140620_1.antiresfam            ...                           0.909665   \n",
       "CC140620_25.antiresfam           ...                           0.882870   \n",
       "CC140620_33.antiresfam           ...                           0.903934   \n",
       "CC140620_37.antiresfam           ...                           0.832189   \n",
       "CC140620_5.antiresfam            ...                           0.905040   \n",
       "\n",
       "id                      WCS140623_5.antiresfam  WCS140623_9.antiresfam  \\\n",
       "id                                                                       \n",
       "CC140620_1.antiresfam                 0.266097                0.932605   \n",
       "CC140620_25.antiresfam                0.198762                0.912302   \n",
       "CC140620_33.antiresfam                0.449275                0.928607   \n",
       "CC140620_37.antiresfam                0.569535                0.869193   \n",
       "CC140620_5.antiresfam                 0.250832                0.929439   \n",
       "\n",
       "id                      WCS150622_5.antiresfam  WCS150622_9.antiresfam  \\\n",
       "id                                                                       \n",
       "CC140620_1.antiresfam                 0.349957                0.707466   \n",
       "CC140620_25.antiresfam                0.476067                0.769603   \n",
       "CC140620_33.antiresfam                0.644538                0.840312   \n",
       "CC140620_37.antiresfam                0.779099                0.913181   \n",
       "CC140620_5.antiresfam                 0.377785                0.721675   \n",
       "\n",
       "id                      WCS150625_13.antiresfam  WCS150625_17.antiresfam  \\\n",
       "id                                                                         \n",
       "CC140620_1.antiresfam                  0.429603                 0.406997   \n",
       "CC140620_25.antiresfam                 0.381394                 0.519847   \n",
       "CC140620_33.antiresfam                 0.215115                 0.415380   \n",
       "CC140620_37.antiresfam                 0.425969                 0.626911   \n",
       "CC140620_5.antiresfam                  0.415245                 0.434533   \n",
       "\n",
       "id                      WCS150625_25.antiresfam  WCS150625_33.antiresfam  \\\n",
       "id                                                                         \n",
       "CC140620_1.antiresfam                  0.493258                 0.714499   \n",
       "CC140620_25.antiresfam                 0.600591                 0.780669   \n",
       "CC140620_33.antiresfam                 0.513493                 0.730836   \n",
       "CC140620_37.antiresfam                 0.707775                 0.846142   \n",
       "CC140620_5.antiresfam                  0.518794                 0.729639   \n",
       "\n",
       "id                      WCS150625_9.antiresfam  \n",
       "id                                              \n",
       "CC140620_1.antiresfam                 0.734111  \n",
       "CC140620_25.antiresfam                0.793370  \n",
       "CC140620_33.antiresfam                0.748806  \n",
       "CC140620_37.antiresfam                0.859111  \n",
       "CC140620_5.antiresfam                 0.747459  \n",
       "\n",
       "[5 rows x 34 columns]"
      ]
     },
     "execution_count": 31,
     "metadata": {},
     "output_type": "execute_result"
    }
   ],
   "source": [
    "pd.DataFrame(dist_mat, columns = merged_hmmer['id'], index=merged_hmmer['id']).head()"
   ]
  },
  {
   "cell_type": "code",
   "execution_count": 32,
   "metadata": {
    "collapsed": true
   },
   "outputs": [],
   "source": [
    "mds = manifold.MDS(n_components=2, dissimilarity=\"precomputed\", random_state=3, n_jobs = 2, \n",
    "                   metric=False, max_iter=3000)\n",
    "results = mds.fit(dist_mat)\n",
    "coords = results.embedding_"
   ]
  },
  {
   "cell_type": "code",
   "execution_count": 33,
   "metadata": {
    "collapsed": false
   },
   "outputs": [
    {
     "data": {
      "text/html": [
       "<div>\n",
       "<table border=\"1\" class=\"dataframe\">\n",
       "  <thead>\n",
       "    <tr style=\"text-align: right;\">\n",
       "      <th>gene</th>\n",
       "      <th>id</th>\n",
       "      <th>AAC3</th>\n",
       "      <th>AAC3-I</th>\n",
       "      <th>AAC6-I</th>\n",
       "      <th>AAC6-II</th>\n",
       "      <th>AAC6-Ib</th>\n",
       "      <th>ABC1</th>\n",
       "      <th>ABC2_membrane</th>\n",
       "      <th>ABC_efflux</th>\n",
       "      <th>ABC_tran</th>\n",
       "      <th>...</th>\n",
       "      <th>vanZ</th>\n",
       "      <th>sample</th>\n",
       "      <th>species</th>\n",
       "      <th>location</th>\n",
       "      <th>cave_or_surface</th>\n",
       "      <th>recov_lsu_ssu</th>\n",
       "      <th>library_size</th>\n",
       "      <th>avg_seq_len</th>\n",
       "      <th>X</th>\n",
       "      <th>Y</th>\n",
       "    </tr>\n",
       "  </thead>\n",
       "  <tbody>\n",
       "    <tr>\n",
       "      <th>0</th>\n",
       "      <td>CC140620_1.antiresfam</td>\n",
       "      <td>0.0</td>\n",
       "      <td>1.0</td>\n",
       "      <td>0.0</td>\n",
       "      <td>1.0</td>\n",
       "      <td>0.0</td>\n",
       "      <td>0.0</td>\n",
       "      <td>0.0</td>\n",
       "      <td>940.0</td>\n",
       "      <td>0.0</td>\n",
       "      <td>...</td>\n",
       "      <td>0.0</td>\n",
       "      <td>CC140620_1</td>\n",
       "      <td>Myotis velifer</td>\n",
       "      <td>CAVE</td>\n",
       "      <td>cave</td>\n",
       "      <td>706.0</td>\n",
       "      <td>1413632.0</td>\n",
       "      <td>181.2</td>\n",
       "      <td>0.217848</td>\n",
       "      <td>-0.157751</td>\n",
       "    </tr>\n",
       "    <tr>\n",
       "      <th>1</th>\n",
       "      <td>CC140620_25.antiresfam</td>\n",
       "      <td>0.0</td>\n",
       "      <td>0.0</td>\n",
       "      <td>1.0</td>\n",
       "      <td>0.0</td>\n",
       "      <td>0.0</td>\n",
       "      <td>0.0</td>\n",
       "      <td>0.0</td>\n",
       "      <td>645.0</td>\n",
       "      <td>0.0</td>\n",
       "      <td>...</td>\n",
       "      <td>0.0</td>\n",
       "      <td>CC140620_25</td>\n",
       "      <td>Myotis velifer</td>\n",
       "      <td>CAVE</td>\n",
       "      <td>cave</td>\n",
       "      <td>273.0</td>\n",
       "      <td>1629876.0</td>\n",
       "      <td>198.4</td>\n",
       "      <td>0.017682</td>\n",
       "      <td>0.007134</td>\n",
       "    </tr>\n",
       "    <tr>\n",
       "      <th>2</th>\n",
       "      <td>CC140620_33.antiresfam</td>\n",
       "      <td>0.0</td>\n",
       "      <td>1.0</td>\n",
       "      <td>0.0</td>\n",
       "      <td>1.0</td>\n",
       "      <td>0.0</td>\n",
       "      <td>18.0</td>\n",
       "      <td>13.0</td>\n",
       "      <td>449.0</td>\n",
       "      <td>275.0</td>\n",
       "      <td>...</td>\n",
       "      <td>0.0</td>\n",
       "      <td>CC140620_33</td>\n",
       "      <td>Myotis velifer</td>\n",
       "      <td>CAVE</td>\n",
       "      <td>cave</td>\n",
       "      <td>193.0</td>\n",
       "      <td>576956.0</td>\n",
       "      <td>193.9</td>\n",
       "      <td>-0.282316</td>\n",
       "      <td>-0.020675</td>\n",
       "    </tr>\n",
       "  </tbody>\n",
       "</table>\n",
       "<p>3 rows × 179 columns</p>\n",
       "</div>"
      ],
      "text/plain": [
       "gene                      id  AAC3  AAC3-I  AAC6-I  AAC6-II  AAC6-Ib  ABC1  \\\n",
       "0      CC140620_1.antiresfam   0.0     1.0     0.0      1.0      0.0   0.0   \n",
       "1     CC140620_25.antiresfam   0.0     0.0     1.0      0.0      0.0   0.0   \n",
       "2     CC140620_33.antiresfam   0.0     1.0     0.0      1.0      0.0  18.0   \n",
       "\n",
       "gene  ABC2_membrane  ABC_efflux  ABC_tran    ...     vanZ       sample  \\\n",
       "0               0.0       940.0       0.0    ...      0.0   CC140620_1   \n",
       "1               0.0       645.0       0.0    ...      0.0  CC140620_25   \n",
       "2              13.0       449.0     275.0    ...      0.0  CC140620_33   \n",
       "\n",
       "gene         species  location  cave_or_surface  recov_lsu_ssu  library_size  \\\n",
       "0     Myotis velifer      CAVE             cave          706.0     1413632.0   \n",
       "1     Myotis velifer      CAVE             cave          273.0     1629876.0   \n",
       "2     Myotis velifer      CAVE             cave          193.0      576956.0   \n",
       "\n",
       "gene  avg_seq_len         X         Y  \n",
       "0           181.2  0.217848 -0.157751  \n",
       "1           198.4  0.017682  0.007134  \n",
       "2           193.9 -0.282316 -0.020675  \n",
       "\n",
       "[3 rows x 179 columns]"
      ]
     },
     "execution_count": 33,
     "metadata": {},
     "output_type": "execute_result"
    }
   ],
   "source": [
    "merged_hmmer['X'] = [c[0] for c in coords]\n",
    "merged_hmmer['Y'] = [c[1] for c in coords]\n",
    "merged_hmmer.head(3)"
   ]
  },
  {
   "cell_type": "code",
   "execution_count": 34,
   "metadata": {
    "collapsed": false
   },
   "outputs": [
    {
     "data": {
      "text/plain": [
       "<seaborn.axisgrid.FacetGrid at 0x10c70a400>"
      ]
     },
     "execution_count": 34,
     "metadata": {},
     "output_type": "execute_result"
    },
    {
     "data": {
      "image/png": "[encoded data removed]",
      "text/plain": [
       "<matplotlib.figure.Figure at 0x10c70a978>"
      ]
     },
     "metadata": {},
     "output_type": "display_data"
    }
   ],
   "source": [
    "sns.lmplot(\"X\", \"Y\", data=merged_hmmer, hue='cave_or_surface', fit_reg=False, palette=\"colorblind\")"
   ]
  },
  {
   "cell_type": "code",
   "execution_count": 43,
   "metadata": {
    "collapsed": true
   },
   "outputs": [],
   "source": [
    "from scipy.cluster.hierarchy import dendrogram, linkage\n",
    "from matplotlib import pyplot as plt\n",
    "from pylab import savefig"
   ]
  },
  {
   "cell_type": "code",
   "execution_count": 44,
   "metadata": {
    "collapsed": false
   },
   "outputs": [
    {
     "data": {
      "text/html": [
       "<div>\n",
       "<table border=\"1\" class=\"dataframe\">\n",
       "  <thead>\n",
       "    <tr style=\"text-align: right;\">\n",
       "      <th>gene</th>\n",
       "      <th>AAC3</th>\n",
       "      <th>AAC3-I</th>\n",
       "      <th>AAC6-I</th>\n",
       "      <th>AAC6-II</th>\n",
       "      <th>AAC6-Ib</th>\n",
       "      <th>ABC1</th>\n",
       "      <th>ABC2_membrane</th>\n",
       "      <th>ABC_efflux</th>\n",
       "      <th>ABC_tran</th>\n",
       "      <th>ACR_tran</th>\n",
       "      <th>...</th>\n",
       "      <th>vanC</th>\n",
       "      <th>vanD</th>\n",
       "      <th>vanH</th>\n",
       "      <th>vanR</th>\n",
       "      <th>vanS</th>\n",
       "      <th>vanT</th>\n",
       "      <th>vanW</th>\n",
       "      <th>vanX</th>\n",
       "      <th>vanY</th>\n",
       "      <th>vanZ</th>\n",
       "    </tr>\n",
       "  </thead>\n",
       "  <tbody>\n",
       "    <tr>\n",
       "      <th>0</th>\n",
       "      <td>0.0</td>\n",
       "      <td>0.001416</td>\n",
       "      <td>0.000000</td>\n",
       "      <td>0.001416</td>\n",
       "      <td>0.0</td>\n",
       "      <td>0.000000</td>\n",
       "      <td>0.000000</td>\n",
       "      <td>1.331445</td>\n",
       "      <td>0.00000</td>\n",
       "      <td>0.000000</td>\n",
       "      <td>...</td>\n",
       "      <td>0.048159</td>\n",
       "      <td>0.050992</td>\n",
       "      <td>0.089235</td>\n",
       "      <td>0.441926</td>\n",
       "      <td>0.283286</td>\n",
       "      <td>0.050992</td>\n",
       "      <td>0.001416</td>\n",
       "      <td>0.016997</td>\n",
       "      <td>0.002833</td>\n",
       "      <td>0.0</td>\n",
       "    </tr>\n",
       "    <tr>\n",
       "      <th>1</th>\n",
       "      <td>0.0</td>\n",
       "      <td>0.000000</td>\n",
       "      <td>0.003663</td>\n",
       "      <td>0.000000</td>\n",
       "      <td>0.0</td>\n",
       "      <td>0.000000</td>\n",
       "      <td>0.000000</td>\n",
       "      <td>2.362637</td>\n",
       "      <td>0.00000</td>\n",
       "      <td>0.000000</td>\n",
       "      <td>...</td>\n",
       "      <td>0.058608</td>\n",
       "      <td>0.054945</td>\n",
       "      <td>0.172161</td>\n",
       "      <td>0.824176</td>\n",
       "      <td>0.582418</td>\n",
       "      <td>0.142857</td>\n",
       "      <td>0.003663</td>\n",
       "      <td>0.014652</td>\n",
       "      <td>0.010989</td>\n",
       "      <td>0.0</td>\n",
       "    </tr>\n",
       "    <tr>\n",
       "      <th>2</th>\n",
       "      <td>0.0</td>\n",
       "      <td>0.005181</td>\n",
       "      <td>0.000000</td>\n",
       "      <td>0.005181</td>\n",
       "      <td>0.0</td>\n",
       "      <td>0.093264</td>\n",
       "      <td>0.067358</td>\n",
       "      <td>2.326425</td>\n",
       "      <td>1.42487</td>\n",
       "      <td>0.803109</td>\n",
       "      <td>...</td>\n",
       "      <td>0.103627</td>\n",
       "      <td>0.088083</td>\n",
       "      <td>0.108808</td>\n",
       "      <td>0.870466</td>\n",
       "      <td>0.606218</td>\n",
       "      <td>0.113990</td>\n",
       "      <td>0.005181</td>\n",
       "      <td>0.000000</td>\n",
       "      <td>0.010363</td>\n",
       "      <td>0.0</td>\n",
       "    </tr>\n",
       "  </tbody>\n",
       "</table>\n",
       "<p>3 rows × 169 columns</p>\n",
       "</div>"
      ],
      "text/plain": [
       "gene  AAC3    AAC3-I    AAC6-I   AAC6-II  AAC6-Ib      ABC1  ABC2_membrane  \\\n",
       "0      0.0  0.001416  0.000000  0.001416      0.0  0.000000       0.000000   \n",
       "1      0.0  0.000000  0.003663  0.000000      0.0  0.000000       0.000000   \n",
       "2      0.0  0.005181  0.000000  0.005181      0.0  0.093264       0.067358   \n",
       "\n",
       "gene  ABC_efflux  ABC_tran  ACR_tran  ...       vanC      vanD      vanH  \\\n",
       "0       1.331445   0.00000  0.000000  ...   0.048159  0.050992  0.089235   \n",
       "1       2.362637   0.00000  0.000000  ...   0.058608  0.054945  0.172161   \n",
       "2       2.326425   1.42487  0.803109  ...   0.103627  0.088083  0.108808   \n",
       "\n",
       "gene      vanR      vanS      vanT      vanW      vanX      vanY  vanZ  \n",
       "0     0.441926  0.283286  0.050992  0.001416  0.016997  0.002833   0.0  \n",
       "1     0.824176  0.582418  0.142857  0.003663  0.014652  0.010989   0.0  \n",
       "2     0.870466  0.606218  0.113990  0.005181  0.000000  0.010363   0.0  \n",
       "\n",
       "[3 rows x 169 columns]"
      ]
     },
     "execution_count": 44,
     "metadata": {},
     "output_type": "execute_result"
    }
   ],
   "source": [
    "mds_df_S = mds_df.div(merged_hmmer['recov_lsu_ssu'],axis=0)\n",
    "mds_df_S.head(3)"
   ]
  },
  {
   "cell_type": "code",
   "execution_count": 45,
   "metadata": {
    "collapsed": false
   },
   "outputs": [],
   "source": [
    "# generate the linkage matrix\n",
    "Z = linkage(mds_df_S, method='average')"
   ]
  },
  {
   "cell_type": "code",
   "execution_count": 46,
   "metadata": {
    "collapsed": false
   },
   "outputs": [
    {
     "data": {
      "image/png": "[encoded data removed]",
      "text/plain": [
       "<matplotlib.figure.Figure at 0x10cb3d518>"
      ]
     },
     "metadata": {},
     "output_type": "display_data"
    }
   ],
   "source": [
    "# calculate full dendrogram\n",
    "plt.figure(figsize=(25, 10))\n",
    "plt.title('Hierarchical Clustering Dendrogram')\n",
    "plt.xlabel('sample index')\n",
    "plt.ylabel('distance')\n",
    "dendrogram(\n",
    "    Z,\n",
    "    leaf_rotation=90.,  # rotates the x axis labels\n",
    "    leaf_font_size=8.,  # font size for the x axis labels\n",
    ")\n",
    "# In matplotlib the show command will reset the figure instance. In other words it goes bye-bye. So you need to save it\n",
    "# first\n",
    "plt.savefig('bat_resistome_HCA_average.pdf',bbox_inches='tight')\n",
    "plt.show()"
   ]
  },
  {
   "cell_type": "markdown",
   "metadata": {},
   "source": [
    "#### References\n",
    "\n",
    "Calisher CH, Childs JE, Field HE, Holmes KV, Schountz T. Bats: important reservoir hosts of emerging viruses. Clinical microbiology reviews. 2006 Jul 1;19(3):531-45.\n",
    "\n",
    "Fitzpatrick D, Walsh F. Antibiotic resistance genes across a wide variety of metagenomes. FEMS microbiology ecology. 2016 Feb 1;92(2):fiv168.\n",
    "\n",
    "Li B, Yang Y, Ma L, Ju F, Guo F, Tiedje JM, Zhang T. Metagenomic and network analysis reveal wide distribution and co-occurrence of environmental antibiotic resistance genes. The ISME journal. 2015 Nov 1;9(11):2490-502.\n",
    "\n",
    "Mariita RM, Hossain MJ, Liles MR, Moss AG. Seasonal Variability in the Diversity of Microbial Assemblages and Antibiotic Resistance Determinants of an Estuary System.\n",
    "\n",
    "Nesme J, Cécillon S, Delmont TO, Monier JM, Vogel TM, Simonet P. Large-scale metagenomic-based study of antibiotic resistance in the environment. Current Biology. 2014 May 19;24(10):1096-100.\n"
   ]
  },
  {
   "cell_type": "code",
   "execution_count": null,
   "metadata": {
    "collapsed": true
   },
   "outputs": [],
   "source": []
  }
 ],
 "metadata": {
  "celltoolbar": "Edit Metadata",
  "kernelspec": {
   "display_name": "IPython (Python 3)",
   "language": "python",
   "name": "python3"
  },
  "language_info": {
   "codemirror_mode": {
    "name": "ipython",
    "version": 3
   },
   "file_extension": ".py",
   "mimetype": "text/x-python",
   "name": "python",
   "nbconvert_exporter": "python",
   "pygments_lexer": "ipython3",
   "version": "3.5.1"
  }
 },
 "nbformat": 4,
 "nbformat_minor": 0
}
