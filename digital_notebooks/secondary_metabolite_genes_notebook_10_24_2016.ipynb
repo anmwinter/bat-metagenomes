{
 "cells": [
  {
   "cell_type": "markdown",
   "metadata": {},
   "source": [
    "### Secondary metabolite genes notebook\n",
    "\n",
    "#### Bats: Resistance and production of antibiotics while roosting or on the wing\n",
    "\n",
    "Understanding resistance to antibiotics is a critical need management of infectious diseases. Antibiotic resistance genes have been found across a range of environments from soils, caves, human skin, surfaces in hospitals, rivers, oceans, and fecal matter. These environments can act as transferable reservoirs of antibiotic resistance. Bats have been identified as being reservoirs of new and novel viruses (Calisher et al., 2006). However, little is known about the microbial resistance genes on found on bats and if these can act as reservoirs for transferring resistance genes in the environment."
   ]
  },
  {
   "cell_type": "markdown",
   "metadata": {},
   "source": [
    "#### Authors\n",
    "Ara S. Winter<sup>1</sup>*, Jason C. Kimble<sup>1</sup>, Debbie C. Buecher<sup>2</sup>, Ernest W. Valdez<sup>3</sup>, Jennifer J. M. Hathaway<sup>1</sup>, Andrea Porras-Alfaro<sup>4</sup>, and Diana E. Northup<sup>1</sup>\n",
    "\n",
    "1 Department of Biology, University of New Mexico, Albuquerque, New Mexico, United States of America\n",
    "\n",
    "2 Buecher Biological Consulting, Tucson, Arizona, United States of America\n",
    "\n",
    "3 United States Geological Survey, Fort Collins Science Center, Colorado; Biology Department, MSC03 2020, University of New Mexico, Albuquerque, New Mexico, United States of America\n",
    "\n",
    "4 Department of Biological Sciences, Western Illinois University, Macomb, Illinois, United States of America\n",
    "\n",
    "Corresponding author\n",
    "\n",
    "E-mail: akooser@unm.edu"
   ]
  },
  {
   "cell_type": "markdown",
   "metadata": {},
   "source": [
    "### Methods\n",
    "\n",
    "#### Bat sampling\n",
    "We sampled 31 bats belonging to 4 species (Myotis thysanodes M. velifer, Tadarida brasiliensis, and Antrozous pallidus). These samples came from three study locations in Carlsbad Caverns National Park (CCNP). Bat sample collection was allowed under the following permits: National Park Service Scientific Collecting Permit (CAVE-2014-SCI-0012), Fort Collins Science Center Standard Operating Procedure (SOP) SOP#: 2013-01, and an Institutional Animal Care and Use Committee (IACUC) Permit from the University of New Mexico (Protocol #15-101307-MC) and from the National Park Service (Protocol #IMR_ELMA.PARA.CAVE.SEAZ_Northup_Bats_2015.A2).\n",
    "\n",
    "Cave-caught bats were either plucked from the walls of the caves in ELMA, FS, and HGL or netted in sterilized nets in Carlsbad Cavern in CCNP in a location along their flight path out of the cave. Cave-caught bats were typically sampled 6-8 hours after returning to the cave in the early morning. Surface-netted bats were netted after sundown using sterilized nets near water sources in CCNP. All bats were handled with clean gloves and swabbed for DNA before other measurements were taken to limit contamination by human-associated microbiota. Using a sterile swab moistened with Ringer’s Solution (Hille, 1984), the entire skin (i.e., ears, wings and uropatagia) and furred surfaces of each bat were thoroughly swabbed. While the bat biologist held the bat in appropriate positions to give access to the area to be swabbed, the microbiologist rubbed each area with the sterile swab approximately 3-5 times, rotating the swab as the action was performed.\n",
    "\n",
    "Each swab was placed in a sterile 1.7 ml snap-cap microcentrifuge tube containing 100 ul of RNAlater, and immediately frozen in a liquid nitrogen dry shipper or placed on dry ice. Samples were transported to the University of New Mexico and stored in a -80°C freezer. Samples were sent to MR DNA Molecular Research LP, Shallowater, Texas (http://www.mrdnalab.com/) for genomic DNA extraction.\n",
    "\n",
    "#### Sequencing\n",
    "Metagenomic shotgun reads were sequenced at MR DNA (2015-2016) using HiSeq 2x150bp Illumina HiSeq 2500 platform (www.illumina.com) sequencing. Metagenome sequencing steps included the isolation and purification of genomic DNA, fragmentation, ligation to sequencing adapters and purification. Libraries were pooled and sequenced following amplification and denaturation. A total of 50 ng of DNA from each of the FSC samples was used to prepare DNA libraries using Nextera DNA library preparation kit to build individual barcode catalogs. Library insert size was determined by Experion Automated Electrophoresis Station (Bio-Rad). Pooled library (12pM) was loaded to a 600 Cycles v3 Reagent cartridge (Illumina).\n",
    "\n",
    "#### Data processing\n",
    "Join paired-ends\n",
    "pear -y 8G -j 2 -p 0.05 -g 2 -f RSS140624-1_S19_L002_R1_001.fastq.gz -r RSS140624-1_S19_L002_R2_001.fastq.gz \n",
    "-o RSS140624_1_S19 \n",
    "\n",
    "##### Fastq convert to fasta\n",
    "fastq_to_fasta.py\n",
    "\n",
    "##### Digital normalization (removes redundant kmers)\n",
    "normalize-by-median.py -k 21 -M 8e9 --cutoff=20 ELMA140612_1_S56.fasta (khmer package)\n",
    "\n",
    "##### Recover LSU and SSUs from reads\n",
    "metaxa2 -i CC15062425_S8.fasta -o CC15062425_S8 --cpu 6 --align none\n",
    "\n",
    "metaxa2_ttt -i CC15062425_S8.taxonomy.txt -o CC15062425_S8_taxa_sum.txt\n",
    "\n",
    "Put all the L2 and L3 into separate folders and then run:\n",
    "metaxa2_dc -o metaxa_summary_L2.txt -r *.level_2.txt\n",
    "\n",
    "##### Hashing to metagenomes (sourmash and mash) \n",
    "\n",
    "sourmash compute -f ELMA140612_1_S56.fasta.keep\n",
    "\n",
    "sourmash compare *.sig -o cmp\n",
    "\n",
    "sourmash plot cmp\n",
    "\n",
    "##### Convert nuc reads to aa\n",
    "prodigal -i CC15062421_S7.classseqs.fasta -a CC15062421_S7.faa -p meta > /dev/null\n",
    "\n",
    "##### Functional gene annotation\n",
    "hmmsearch --cpu 6 --domtblout retroviridae_S19 ~/Documents/hmmer_profiles/eggnog/hmm_files/retorviridae_eggnog.hmm CC1506261_S19.faa > /dev/null\n",
    "\n",
    "Used: resFam-full.hmm, custom fungal nrps, PKSII alpha, and pfam secondary metabolite profiles.\n"
   ]
  },
  {
   "cell_type": "code",
   "execution_count": 2,
   "metadata": {
    "collapsed": true
   },
   "outputs": [],
   "source": [
    "import seaborn as sns\n",
    "import pandas as pd\n",
    "import glob\n",
    "import os\n",
    "\n",
    "# This is a commnet. The line the follows allows for inline plotting. i.e. your plots will show up in these boxes.\n",
    "%matplotlib inline"
   ]
  },
  {
   "cell_type": "markdown",
   "metadata": {},
   "source": [
    "The chunk of code that follows here is for wrangling the output of hmmer functional gene profiling into something human readable and readable by pandas in python. "
   ]
  },
  {
   "cell_type": "code",
   "execution_count": 78,
   "metadata": {
    "collapsed": true
   },
   "outputs": [],
   "source": [
    "path = '/Users/ara/Documents/bat_metagenomes/2ndmeta/'                     # use your path"
   ]
  },
  {
   "cell_type": "code",
   "execution_count": 79,
   "metadata": {
    "collapsed": false
   },
   "outputs": [],
   "source": [
    "my_dir = path\n",
    "filelist = []\n",
    "filesList = []\n",
    "os.chdir( my_dir )"
   ]
  },
  {
   "cell_type": "code",
   "execution_count": 80,
   "metadata": {
    "collapsed": false
   },
   "outputs": [],
   "source": [
    "for files in glob.glob(\"*.2ndmeta\"):\n",
    "    #fileName, fileExtension = os.path.splitext(files)\n",
    "    filelist.append(filesList) #filename without extension\n",
    "    filesList.append(files) #filename with extension"
   ]
  },
  {
   "cell_type": "code",
   "execution_count": 81,
   "metadata": {
    "collapsed": false
   },
   "outputs": [],
   "source": [
    "df = pd.DataFrame()\n",
    "for ijk in filesList:\n",
    "    frame = pd.read_csv(ijk,skiprows=3, skipfooter=11 ,delim_whitespace=True,\n",
    "                      engine='python',header=None)\n",
    "    frame['sample_id']=ijk\n",
    "    df = df.append(frame) \n",
    "    "
   ]
  },
  {
   "cell_type": "code",
   "execution_count": 82,
   "metadata": {
    "collapsed": false
   },
   "outputs": [],
   "source": [
    "df.columns = ['hmmer_seq','','','gene','','','E-value','bit score','','','','','','','','','','','','','','',\n",
    "                         '','','','','','','','','sample_id']"
   ]
  },
  {
   "cell_type": "code",
   "execution_count": 83,
   "metadata": {
    "collapsed": false
   },
   "outputs": [
    {
     "data": {
      "text/html": [
       "<div>\n",
       "<table border=\"1\" class=\"dataframe\">\n",
       "  <thead>\n",
       "    <tr style=\"text-align: right;\">\n",
       "      <th></th>\n",
       "      <th>hmmer_seq</th>\n",
       "      <th></th>\n",
       "      <th></th>\n",
       "      <th>gene</th>\n",
       "      <th></th>\n",
       "      <th></th>\n",
       "      <th>E-value</th>\n",
       "      <th>bit score</th>\n",
       "      <th></th>\n",
       "      <th></th>\n",
       "      <th>...</th>\n",
       "      <th></th>\n",
       "      <th></th>\n",
       "      <th></th>\n",
       "      <th></th>\n",
       "      <th></th>\n",
       "      <th></th>\n",
       "      <th></th>\n",
       "      <th></th>\n",
       "      <th></th>\n",
       "      <th>sample_id</th>\n",
       "    </tr>\n",
       "  </thead>\n",
       "  <tbody>\n",
       "    <tr>\n",
       "      <th>0</th>\n",
       "      <td>D00420:54:H9U8TADXX:1:1116:5524:34267_1</td>\n",
       "      <td>-</td>\n",
       "      <td>64</td>\n",
       "      <td>ABM</td>\n",
       "      <td>PF03992.12</td>\n",
       "      <td>78</td>\n",
       "      <td>2.600000e-11</td>\n",
       "      <td>48.8</td>\n",
       "      <td>0.4</td>\n",
       "      <td>1</td>\n",
       "      <td>...</td>\n",
       "      <td>0.94</td>\n",
       "      <td>#</td>\n",
       "      <td>3</td>\n",
       "      <td>#</td>\n",
       "      <td>194</td>\n",
       "      <td>#</td>\n",
       "      <td>1</td>\n",
       "      <td>#</td>\n",
       "      <td>ID=376411_1;partial=11;start_type=Edge;rbs_mot...</td>\n",
       "      <td>CC140620_1.2ndmeta</td>\n",
       "    </tr>\n",
       "    <tr>\n",
       "      <th>1</th>\n",
       "      <td>D00420:54:H9U8TADXX:1:2103:5004:61966_1</td>\n",
       "      <td>-</td>\n",
       "      <td>60</td>\n",
       "      <td>ABM</td>\n",
       "      <td>PF03992.12</td>\n",
       "      <td>78</td>\n",
       "      <td>8.600000e-08</td>\n",
       "      <td>37.6</td>\n",
       "      <td>0.0</td>\n",
       "      <td>1</td>\n",
       "      <td>...</td>\n",
       "      <td>0.96</td>\n",
       "      <td>#</td>\n",
       "      <td>2</td>\n",
       "      <td>#</td>\n",
       "      <td>181</td>\n",
       "      <td>#</td>\n",
       "      <td>-1</td>\n",
       "      <td>#</td>\n",
       "      <td>ID=788529_1;partial=11;start_type=Edge;rbs_mot...</td>\n",
       "      <td>CC140620_1.2ndmeta</td>\n",
       "    </tr>\n",
       "    <tr>\n",
       "      <th>2</th>\n",
       "      <td>D00420:54:H9U8TADXX:1:2104:17719:50700_1</td>\n",
       "      <td>-</td>\n",
       "      <td>72</td>\n",
       "      <td>ABM</td>\n",
       "      <td>PF03992.12</td>\n",
       "      <td>78</td>\n",
       "      <td>4.100000e-06</td>\n",
       "      <td>32.2</td>\n",
       "      <td>0.5</td>\n",
       "      <td>1</td>\n",
       "      <td>...</td>\n",
       "      <td>0.93</td>\n",
       "      <td>#</td>\n",
       "      <td>19</td>\n",
       "      <td>#</td>\n",
       "      <td>234</td>\n",
       "      <td>#</td>\n",
       "      <td>-1</td>\n",
       "      <td>#</td>\n",
       "      <td>ID=805532_1;partial=01;start_type=Edge;rbs_mot...</td>\n",
       "      <td>CC140620_1.2ndmeta</td>\n",
       "    </tr>\n",
       "  </tbody>\n",
       "</table>\n",
       "<p>3 rows × 31 columns</p>\n",
       "</div>"
      ],
      "text/plain": [
       "                                  hmmer_seq        gene                  \\\n",
       "0   D00420:54:H9U8TADXX:1:1116:5524:34267_1  -  64  ABM  PF03992.12  78   \n",
       "1   D00420:54:H9U8TADXX:1:2103:5004:61966_1  -  60  ABM  PF03992.12  78   \n",
       "2  D00420:54:H9U8TADXX:1:2104:17719:50700_1  -  72  ABM  PF03992.12  78   \n",
       "\n",
       "        E-value  bit score                 ...                               \\\n",
       "0  2.600000e-11       48.8  0.4  1         ...          0.94  #   3  #  194   \n",
       "1  8.600000e-08       37.6  0.0  1         ...          0.96  #   2  #  181   \n",
       "2  4.100000e-06       32.2  0.5  1         ...          0.93  #  19  #  234   \n",
       "\n",
       "                                                               \\\n",
       "0  #  1  #  ID=376411_1;partial=11;start_type=Edge;rbs_mot...   \n",
       "1  # -1  #  ID=788529_1;partial=11;start_type=Edge;rbs_mot...   \n",
       "2  # -1  #  ID=805532_1;partial=01;start_type=Edge;rbs_mot...   \n",
       "\n",
       "            sample_id  \n",
       "0  CC140620_1.2ndmeta  \n",
       "1  CC140620_1.2ndmeta  \n",
       "2  CC140620_1.2ndmeta  \n",
       "\n",
       "[3 rows x 31 columns]"
      ]
     },
     "execution_count": 83,
     "metadata": {},
     "output_type": "execute_result"
    }
   ],
   "source": [
    "df.head(3)"
   ]
  },
  {
   "cell_type": "code",
   "execution_count": 84,
   "metadata": {
    "collapsed": false
   },
   "outputs": [],
   "source": [
    "hmmer_results = df.loc[:,['hmmer_seq','gene','E-value','bit score','sample_id']]"
   ]
  },
  {
   "cell_type": "code",
   "execution_count": 85,
   "metadata": {
    "collapsed": false
   },
   "outputs": [],
   "source": [
    "hmmer_filter = hmmer_results.loc[hmmer_results['bit score'] > 24]"
   ]
  },
  {
   "cell_type": "code",
   "execution_count": 86,
   "metadata": {
    "collapsed": false
   },
   "outputs": [
    {
     "data": {
      "text/plain": [
       "(23060, 5)"
      ]
     },
     "execution_count": 86,
     "metadata": {},
     "output_type": "execute_result"
    }
   ],
   "source": [
    "hmmer_filter.shape"
   ]
  },
  {
   "cell_type": "code",
   "execution_count": 87,
   "metadata": {
    "collapsed": false
   },
   "outputs": [],
   "source": [
    "df = hmmer_filter.groupby( [ \"sample_id\", \"gene\"] ).size().to_frame(name = 'count').reset_index()"
   ]
  },
  {
   "cell_type": "code",
   "execution_count": 88,
   "metadata": {
    "collapsed": false
   },
   "outputs": [],
   "source": [
    "hmmer_pivot = df.pivot(index='sample_id', columns='gene', values='count')"
   ]
  },
  {
   "cell_type": "code",
   "execution_count": 89,
   "metadata": {
    "collapsed": true
   },
   "outputs": [],
   "source": [
    "del hmmer_pivot.index.name"
   ]
  },
  {
   "cell_type": "code",
   "execution_count": 90,
   "metadata": {
    "collapsed": false
   },
   "outputs": [
    {
     "data": {
      "text/plain": [
       "(25, 27)"
      ]
     },
     "execution_count": 90,
     "metadata": {},
     "output_type": "execute_result"
    }
   ],
   "source": [
    "hmmer_pivot.shape"
   ]
  },
  {
   "cell_type": "code",
   "execution_count": 91,
   "metadata": {
    "collapsed": false
   },
   "outputs": [],
   "source": [
    "hmmer_clean = hmmer_pivot.fillna(0)"
   ]
  },
  {
   "cell_type": "code",
   "execution_count": 92,
   "metadata": {
    "collapsed": true
   },
   "outputs": [],
   "source": [
    "hmmer_clean.reset_index(level=0, inplace=True)"
   ]
  },
  {
   "cell_type": "code",
   "execution_count": 93,
   "metadata": {
    "collapsed": true
   },
   "outputs": [],
   "source": [
    "hmmer_clean=hmmer_clean.rename(columns = {'index':'id'})"
   ]
  },
  {
   "cell_type": "code",
   "execution_count": 94,
   "metadata": {
    "collapsed": false
   },
   "outputs": [
    {
     "data": {
      "text/html": [
       "<div>\n",
       "<table border=\"1\" class=\"dataframe\">\n",
       "  <thead>\n",
       "    <tr style=\"text-align: right;\">\n",
       "      <th>gene</th>\n",
       "      <th>id</th>\n",
       "      <th>ABM</th>\n",
       "      <th>Actino_peptide</th>\n",
       "      <th>Acyl_transf_1</th>\n",
       "      <th>Acyltransferase</th>\n",
       "      <th>Aminotran_1_2</th>\n",
       "      <th>Aminotran_3</th>\n",
       "      <th>Bacteroid_pep</th>\n",
       "      <th>Carbam_trans_C</th>\n",
       "      <th>Chal_sti_synt_C</th>\n",
       "      <th>...</th>\n",
       "      <th>MbtH</th>\n",
       "      <th>NRPS</th>\n",
       "      <th>PP-binding</th>\n",
       "      <th>PS-DH</th>\n",
       "      <th>Penicil_amidase</th>\n",
       "      <th>SAT</th>\n",
       "      <th>SchA_CurD</th>\n",
       "      <th>TfuA</th>\n",
       "      <th>Thioesterase</th>\n",
       "      <th>pksII_alpha</th>\n",
       "    </tr>\n",
       "  </thead>\n",
       "  <tbody>\n",
       "    <tr>\n",
       "      <th>0</th>\n",
       "      <td>CC140620_1.2ndmeta</td>\n",
       "      <td>10.0</td>\n",
       "      <td>0.0</td>\n",
       "      <td>100.0</td>\n",
       "      <td>88.0</td>\n",
       "      <td>216.0</td>\n",
       "      <td>260.0</td>\n",
       "      <td>0.0</td>\n",
       "      <td>6.0</td>\n",
       "      <td>10.0</td>\n",
       "      <td>...</td>\n",
       "      <td>0.0</td>\n",
       "      <td>2.0</td>\n",
       "      <td>178.0</td>\n",
       "      <td>2.0</td>\n",
       "      <td>120.0</td>\n",
       "      <td>2.0</td>\n",
       "      <td>0.0</td>\n",
       "      <td>0.0</td>\n",
       "      <td>62.0</td>\n",
       "      <td>110.0</td>\n",
       "    </tr>\n",
       "    <tr>\n",
       "      <th>1</th>\n",
       "      <td>CC140620_25.2ndmeta</td>\n",
       "      <td>12.0</td>\n",
       "      <td>0.0</td>\n",
       "      <td>46.0</td>\n",
       "      <td>50.0</td>\n",
       "      <td>147.0</td>\n",
       "      <td>181.0</td>\n",
       "      <td>2.0</td>\n",
       "      <td>22.0</td>\n",
       "      <td>0.0</td>\n",
       "      <td>...</td>\n",
       "      <td>0.0</td>\n",
       "      <td>0.0</td>\n",
       "      <td>126.0</td>\n",
       "      <td>4.0</td>\n",
       "      <td>44.0</td>\n",
       "      <td>0.0</td>\n",
       "      <td>0.0</td>\n",
       "      <td>0.0</td>\n",
       "      <td>22.0</td>\n",
       "      <td>92.0</td>\n",
       "    </tr>\n",
       "    <tr>\n",
       "      <th>2</th>\n",
       "      <td>CC140620_33.2ndmeta</td>\n",
       "      <td>10.0</td>\n",
       "      <td>0.0</td>\n",
       "      <td>136.0</td>\n",
       "      <td>32.0</td>\n",
       "      <td>103.0</td>\n",
       "      <td>142.0</td>\n",
       "      <td>0.0</td>\n",
       "      <td>4.0</td>\n",
       "      <td>2.0</td>\n",
       "      <td>...</td>\n",
       "      <td>0.0</td>\n",
       "      <td>0.0</td>\n",
       "      <td>96.0</td>\n",
       "      <td>6.0</td>\n",
       "      <td>42.0</td>\n",
       "      <td>0.0</td>\n",
       "      <td>0.0</td>\n",
       "      <td>0.0</td>\n",
       "      <td>8.0</td>\n",
       "      <td>89.0</td>\n",
       "    </tr>\n",
       "  </tbody>\n",
       "</table>\n",
       "<p>3 rows × 28 columns</p>\n",
       "</div>"
      ],
      "text/plain": [
       "gene                   id   ABM  Actino_peptide  Acyl_transf_1  \\\n",
       "0      CC140620_1.2ndmeta  10.0             0.0          100.0   \n",
       "1     CC140620_25.2ndmeta  12.0             0.0           46.0   \n",
       "2     CC140620_33.2ndmeta  10.0             0.0          136.0   \n",
       "\n",
       "gene  Acyltransferase  Aminotran_1_2  Aminotran_3  Bacteroid_pep  \\\n",
       "0                88.0          216.0        260.0            0.0   \n",
       "1                50.0          147.0        181.0            2.0   \n",
       "2                32.0          103.0        142.0            0.0   \n",
       "\n",
       "gene  Carbam_trans_C  Chal_sti_synt_C     ...       MbtH  NRPS  PP-binding  \\\n",
       "0                6.0             10.0     ...        0.0   2.0       178.0   \n",
       "1               22.0              0.0     ...        0.0   0.0       126.0   \n",
       "2                4.0              2.0     ...        0.0   0.0        96.0   \n",
       "\n",
       "gene  PS-DH  Penicil_amidase  SAT  SchA_CurD  TfuA  Thioesterase  pksII_alpha  \n",
       "0       2.0            120.0  2.0        0.0   0.0          62.0        110.0  \n",
       "1       4.0             44.0  0.0        0.0   0.0          22.0         92.0  \n",
       "2       6.0             42.0  0.0        0.0   0.0           8.0         89.0  \n",
       "\n",
       "[3 rows x 28 columns]"
      ]
     },
     "execution_count": 94,
     "metadata": {},
     "output_type": "execute_result"
    }
   ],
   "source": [
    "hmmer_clean.head(3)"
   ]
  },
  {
   "cell_type": "code",
   "execution_count": 95,
   "metadata": {
    "collapsed": false
   },
   "outputs": [
    {
     "data": {
      "text/plain": [
       "Index(['id', 'ABM', 'Actino_peptide', 'Acyl_transf_1', 'Acyltransferase',\n",
       "       'Aminotran_1_2', 'Aminotran_3', 'Bacteroid_pep', 'Carbam_trans_C',\n",
       "       'Chal_sti_synt_C', 'Chal_sti_synt_N', 'Chalcone_3', 'Condensation',\n",
       "       'Cyclase_polyket', 'FAE1_CUT1_RppA', 'Herpeto_peptide', 'KR',\n",
       "       'LANC_like', 'MbtH', 'NRPS', 'PP-binding', 'PS-DH', 'Penicil_amidase',\n",
       "       'SAT', 'SchA_CurD', 'TfuA', 'Thioesterase', 'pksII_alpha'],\n",
       "      dtype='object', name='gene')"
      ]
     },
     "execution_count": 95,
     "metadata": {},
     "output_type": "execute_result"
    }
   ],
   "source": [
    "hmmer_clean.columns"
   ]
  },
  {
   "cell_type": "markdown",
   "metadata": {},
   "source": [
    "### Results"
   ]
  },
  {
   "cell_type": "markdown",
   "metadata": {},
   "source": [
    "#### Top twenty resistance gene hits"
   ]
  },
  {
   "cell_type": "code",
   "execution_count": 96,
   "metadata": {
    "collapsed": false
   },
   "outputs": [
    {
     "data": {
      "text/plain": [
       "gene\n",
       "Aminotran_3        4332.0\n",
       "Aminotran_1_2      4092.0\n",
       "pksII_alpha        2493.0\n",
       "PP-binding         2144.0\n",
       "Condensation       2142.0\n",
       "Acyltransferase    1940.0\n",
       "Penicil_amidase    1488.0\n",
       "Acyl_transf_1      1484.0\n",
       "KR                 1086.0\n",
       "Thioesterase        552.0\n",
       "ABM                 394.0\n",
       "LANC_like           178.0\n",
       "Carbam_trans_C      142.0\n",
       "FAE1_CUT1_RppA      128.0\n",
       "Chal_sti_synt_N     112.0\n",
       "Chal_sti_synt_C     112.0\n",
       "PS-DH                98.0\n",
       "MbtH                 54.0\n",
       "Chalcone_3           38.0\n",
       "NRPS                 14.0\n",
       "dtype: float64"
      ]
     },
     "execution_count": 96,
     "metadata": {},
     "output_type": "execute_result"
    }
   ],
   "source": [
    "hmmer_clean.sum(numeric_only=True).sort_values(ascending=False).head(20)"
   ]
  },
  {
   "cell_type": "markdown",
   "metadata": {},
   "source": [
    "Here we are reading in the metadata file."
   ]
  },
  {
   "cell_type": "code",
   "execution_count": 97,
   "metadata": {
    "collapsed": false
   },
   "outputs": [],
   "source": [
    "metadata = pd.read_csv(\"2ndmeta_metadata.txt\",sep=\"\\t\",header=0)"
   ]
  },
  {
   "cell_type": "code",
   "execution_count": 98,
   "metadata": {
    "collapsed": false
   },
   "outputs": [
    {
     "data": {
      "text/plain": [
       "(30, 11)"
      ]
     },
     "execution_count": 98,
     "metadata": {},
     "output_type": "execute_result"
    }
   ],
   "source": [
    "metadata.shape"
   ]
  },
  {
   "cell_type": "code",
   "execution_count": 99,
   "metadata": {
    "collapsed": false
   },
   "outputs": [
    {
     "data": {
      "text/html": [
       "<div>\n",
       "<table border=\"1\" class=\"dataframe\">\n",
       "  <thead>\n",
       "    <tr style=\"text-align: right;\">\n",
       "      <th></th>\n",
       "      <th>id</th>\n",
       "      <th>sample</th>\n",
       "      <th>species</th>\n",
       "      <th>location</th>\n",
       "      <th>cave_or_surface</th>\n",
       "      <th>forearm</th>\n",
       "      <th>feed_flight</th>\n",
       "      <th>diet</th>\n",
       "      <th>recov_lsu_ssu</th>\n",
       "      <th>library_size</th>\n",
       "      <th>avg_seq_len</th>\n",
       "    </tr>\n",
       "  </thead>\n",
       "  <tbody>\n",
       "    <tr>\n",
       "      <th>0</th>\n",
       "      <td>CC140620_1.2ndmeta</td>\n",
       "      <td>CC140620_1</td>\n",
       "      <td>Myotis velifer</td>\n",
       "      <td>CAVE</td>\n",
       "      <td>cave</td>\n",
       "      <td>44.0</td>\n",
       "      <td>Aerial hawking</td>\n",
       "      <td>generalistbeetles</td>\n",
       "      <td>706</td>\n",
       "      <td>1413632</td>\n",
       "      <td>181.2</td>\n",
       "    </tr>\n",
       "    <tr>\n",
       "      <th>1</th>\n",
       "      <td>CC140620_25.2ndmeta</td>\n",
       "      <td>CC140620_25</td>\n",
       "      <td>Myotis velifer</td>\n",
       "      <td>CAVE</td>\n",
       "      <td>cave</td>\n",
       "      <td>44.0</td>\n",
       "      <td>Aerial hawking</td>\n",
       "      <td>generalistbeetles</td>\n",
       "      <td>273</td>\n",
       "      <td>1629876</td>\n",
       "      <td>198.4</td>\n",
       "    </tr>\n",
       "    <tr>\n",
       "      <th>2</th>\n",
       "      <td>CC140620_33.2ndmeta</td>\n",
       "      <td>CC140620_33</td>\n",
       "      <td>Myotis velifer</td>\n",
       "      <td>CAVE</td>\n",
       "      <td>cave</td>\n",
       "      <td>45.0</td>\n",
       "      <td>Aerial hawking</td>\n",
       "      <td>generalistbeetles</td>\n",
       "      <td>193</td>\n",
       "      <td>576956</td>\n",
       "      <td>193.9</td>\n",
       "    </tr>\n",
       "  </tbody>\n",
       "</table>\n",
       "</div>"
      ],
      "text/plain": [
       "                    id       sample         species location cave_or_surface  \\\n",
       "0   CC140620_1.2ndmeta   CC140620_1  Myotis velifer     CAVE            cave   \n",
       "1  CC140620_25.2ndmeta  CC140620_25  Myotis velifer     CAVE            cave   \n",
       "2  CC140620_33.2ndmeta  CC140620_33  Myotis velifer     CAVE            cave   \n",
       "\n",
       "   forearm     feed_flight               diet  recov_lsu_ssu  library_size  \\\n",
       "0     44.0  Aerial hawking  generalistbeetles            706       1413632   \n",
       "1     44.0  Aerial hawking  generalistbeetles            273       1629876   \n",
       "2     45.0  Aerial hawking  generalistbeetles            193        576956   \n",
       "\n",
       "   avg_seq_len  \n",
       "0        181.2  \n",
       "1        198.4  \n",
       "2        193.9  "
      ]
     },
     "execution_count": 99,
     "metadata": {},
     "output_type": "execute_result"
    }
   ],
   "source": [
    "metadata.head(3)"
   ]
  },
  {
   "cell_type": "code",
   "execution_count": 116,
   "metadata": {
    "collapsed": false
   },
   "outputs": [
    {
     "ename": "TypeError",
     "evalue": "f() got an unexpected keyword argument 'numeric_only'",
     "output_type": "error",
     "traceback": [
      "\u001b[0;31m---------------------------------------------------------------------------\u001b[0m",
      "\u001b[0;31mTypeError\u001b[0m                                 Traceback (most recent call last)",
      "\u001b[0;32m<ipython-input-116-d1ffb11d2268>\u001b[0m in \u001b[0;36m<module>\u001b[0;34m()\u001b[0m\n\u001b[0;32m----> 1\u001b[0;31m \u001b[0mhmmer_hits_S\u001b[0m \u001b[0;34m=\u001b[0m \u001b[0mhmmer_clean\u001b[0m\u001b[0;34m.\u001b[0m\u001b[0mdiv\u001b[0m\u001b[0;34m(\u001b[0m\u001b[0mmetadata\u001b[0m\u001b[0;34m[\u001b[0m\u001b[0;34m'recov_lsu_ssu'\u001b[0m\u001b[0;34m]\u001b[0m\u001b[0;34m,\u001b[0m\u001b[0maxis\u001b[0m\u001b[0;34m=\u001b[0m\u001b[0;36m0\u001b[0m\u001b[0;34m,\u001b[0m\u001b[0mnumeric_only\u001b[0m\u001b[0;34m=\u001b[0m\u001b[0;32mTrue\u001b[0m\u001b[0;34m)\u001b[0m\u001b[0;34m\u001b[0m\u001b[0m\n\u001b[0m\u001b[1;32m      2\u001b[0m \u001b[0mhmmer_hits_S\u001b[0m\u001b[0;34m.\u001b[0m\u001b[0mhead\u001b[0m\u001b[0;34m(\u001b[0m\u001b[0;36m3\u001b[0m\u001b[0;34m)\u001b[0m\u001b[0;34m\u001b[0m\u001b[0m\n",
      "\u001b[0;31mTypeError\u001b[0m: f() got an unexpected keyword argument 'numeric_only'"
     ]
    }
   ],
   "source": [
    "hmmer_hits_S = hmmer_clean.div(metadata['recov_lsu_ssu'],axis=0,numeric_only=True)\n",
    "hmmer_hits_S.head(3)"
   ]
  },
  {
   "cell_type": "code",
   "execution_count": 100,
   "metadata": {
    "collapsed": false
   },
   "outputs": [],
   "source": [
    "merged_hmmer = pd.merge(hmmer_clean, metadata, on='id')"
   ]
  },
  {
   "cell_type": "code",
   "execution_count": 101,
   "metadata": {
    "collapsed": false
   },
   "outputs": [
    {
     "data": {
      "text/plain": [
       "(25, 38)"
      ]
     },
     "execution_count": 101,
     "metadata": {},
     "output_type": "execute_result"
    }
   ],
   "source": [
    "merged_hmmer.shape"
   ]
  },
  {
   "cell_type": "code",
   "execution_count": 102,
   "metadata": {
    "collapsed": false
   },
   "outputs": [
    {
     "data": {
      "text/html": [
       "<div>\n",
       "<table border=\"1\" class=\"dataframe\">\n",
       "  <thead>\n",
       "    <tr style=\"text-align: right;\">\n",
       "      <th>gene</th>\n",
       "      <th>id</th>\n",
       "      <th>ABM</th>\n",
       "      <th>Actino_peptide</th>\n",
       "      <th>Acyl_transf_1</th>\n",
       "      <th>Acyltransferase</th>\n",
       "      <th>Aminotran_1_2</th>\n",
       "      <th>Aminotran_3</th>\n",
       "      <th>Bacteroid_pep</th>\n",
       "      <th>Carbam_trans_C</th>\n",
       "      <th>Chal_sti_synt_C</th>\n",
       "      <th>...</th>\n",
       "      <th>sample</th>\n",
       "      <th>species</th>\n",
       "      <th>location</th>\n",
       "      <th>cave_or_surface</th>\n",
       "      <th>forearm</th>\n",
       "      <th>feed_flight</th>\n",
       "      <th>diet</th>\n",
       "      <th>recov_lsu_ssu</th>\n",
       "      <th>library_size</th>\n",
       "      <th>avg_seq_len</th>\n",
       "    </tr>\n",
       "  </thead>\n",
       "  <tbody>\n",
       "    <tr>\n",
       "      <th>0</th>\n",
       "      <td>CC140620_1.2ndmeta</td>\n",
       "      <td>10.0</td>\n",
       "      <td>0.0</td>\n",
       "      <td>100.0</td>\n",
       "      <td>88.0</td>\n",
       "      <td>216.0</td>\n",
       "      <td>260.0</td>\n",
       "      <td>0.0</td>\n",
       "      <td>6.0</td>\n",
       "      <td>10.0</td>\n",
       "      <td>...</td>\n",
       "      <td>CC140620_1</td>\n",
       "      <td>Myotis velifer</td>\n",
       "      <td>CAVE</td>\n",
       "      <td>cave</td>\n",
       "      <td>44.0</td>\n",
       "      <td>Aerial hawking</td>\n",
       "      <td>generalistbeetles</td>\n",
       "      <td>706</td>\n",
       "      <td>1413632</td>\n",
       "      <td>181.2</td>\n",
       "    </tr>\n",
       "    <tr>\n",
       "      <th>1</th>\n",
       "      <td>CC140620_25.2ndmeta</td>\n",
       "      <td>12.0</td>\n",
       "      <td>0.0</td>\n",
       "      <td>46.0</td>\n",
       "      <td>50.0</td>\n",
       "      <td>147.0</td>\n",
       "      <td>181.0</td>\n",
       "      <td>2.0</td>\n",
       "      <td>22.0</td>\n",
       "      <td>0.0</td>\n",
       "      <td>...</td>\n",
       "      <td>CC140620_25</td>\n",
       "      <td>Myotis velifer</td>\n",
       "      <td>CAVE</td>\n",
       "      <td>cave</td>\n",
       "      <td>44.0</td>\n",
       "      <td>Aerial hawking</td>\n",
       "      <td>generalistbeetles</td>\n",
       "      <td>273</td>\n",
       "      <td>1629876</td>\n",
       "      <td>198.4</td>\n",
       "    </tr>\n",
       "    <tr>\n",
       "      <th>2</th>\n",
       "      <td>CC140620_33.2ndmeta</td>\n",
       "      <td>10.0</td>\n",
       "      <td>0.0</td>\n",
       "      <td>136.0</td>\n",
       "      <td>32.0</td>\n",
       "      <td>103.0</td>\n",
       "      <td>142.0</td>\n",
       "      <td>0.0</td>\n",
       "      <td>4.0</td>\n",
       "      <td>2.0</td>\n",
       "      <td>...</td>\n",
       "      <td>CC140620_33</td>\n",
       "      <td>Myotis velifer</td>\n",
       "      <td>CAVE</td>\n",
       "      <td>cave</td>\n",
       "      <td>45.0</td>\n",
       "      <td>Aerial hawking</td>\n",
       "      <td>generalistbeetles</td>\n",
       "      <td>193</td>\n",
       "      <td>576956</td>\n",
       "      <td>193.9</td>\n",
       "    </tr>\n",
       "  </tbody>\n",
       "</table>\n",
       "<p>3 rows × 38 columns</p>\n",
       "</div>"
      ],
      "text/plain": [
       "gene                   id   ABM  Actino_peptide  Acyl_transf_1  \\\n",
       "0      CC140620_1.2ndmeta  10.0             0.0          100.0   \n",
       "1     CC140620_25.2ndmeta  12.0             0.0           46.0   \n",
       "2     CC140620_33.2ndmeta  10.0             0.0          136.0   \n",
       "\n",
       "gene  Acyltransferase  Aminotran_1_2  Aminotran_3  Bacteroid_pep  \\\n",
       "0                88.0          216.0        260.0            0.0   \n",
       "1                50.0          147.0        181.0            2.0   \n",
       "2                32.0          103.0        142.0            0.0   \n",
       "\n",
       "gene  Carbam_trans_C  Chal_sti_synt_C     ...            sample  \\\n",
       "0                6.0             10.0     ...        CC140620_1   \n",
       "1               22.0              0.0     ...       CC140620_25   \n",
       "2                4.0              2.0     ...       CC140620_33   \n",
       "\n",
       "gene         species  location  cave_or_surface  forearm     feed_flight  \\\n",
       "0     Myotis velifer      CAVE             cave     44.0  Aerial hawking   \n",
       "1     Myotis velifer      CAVE             cave     44.0  Aerial hawking   \n",
       "2     Myotis velifer      CAVE             cave     45.0  Aerial hawking   \n",
       "\n",
       "gene               diet  recov_lsu_ssu  library_size  avg_seq_len  \n",
       "0     generalistbeetles            706       1413632        181.2  \n",
       "1     generalistbeetles            273       1629876        198.4  \n",
       "2     generalistbeetles            193        576956        193.9  \n",
       "\n",
       "[3 rows x 38 columns]"
      ]
     },
     "execution_count": 102,
     "metadata": {},
     "output_type": "execute_result"
    }
   ],
   "source": [
    "merged_hmmer.head(3)"
   ]
  },
  {
   "cell_type": "markdown",
   "metadata": {},
   "source": [
    "### Background\n",
    "Nesme et al., 2014 paper, Large-Scale Metagenomic-Based Study of Antibiotic Resistance in the Environment showed that microbial resistance genes are present in a range of environments. \n",
    "\n",
    ">\"The most common types of resistances found in\n",
    ">environmental metagenomes were efflux pumps and\n",
    ">genes conferring resistance to vancomycin, tetracycline,\n",
    ">or b-lactam antibiotics used in veterinary and human healthcare.\n",
    ">Our study describes the diverse and abundant antibiotic\n",
    ">resistance genes in nonclinical environments and\n",
    ">shows that these genes are not randomly distributed among\n",
    ">different environments\"\n",
    "\n",
    "\n"
   ]
  },
  {
   "cell_type": "markdown",
   "metadata": {},
   "source": [
    "Secondary metabolite gene with more than 100 hits across all CAVE bat metagenomes.\n",
    "\n",
    "|Gene name        |Hits    |Class       |\n",
    "|-----------------|--------|------------|\n",
    "|Aminotran_3      |  4332.0|PKS         |\n",
    "|Aminotran_1_2    |  4092.0|PKS         |\n",
    "|pksII_alpha      |  2493.0|PKSIIa      |\n",
    "|PP-binding       |  2144.0|PKS         |\n",
    "|Condensation     |  2142.0|NRPS        |\n",
    "|Acyltransferase  |  1940.0|PKS         |\n",
    "|Penicil_amidase  |  1488.0|            |\n",
    "|Acyl_transf_1    |  1484.0|PKS         |\n",
    "|KR               |  1086.0|PKS         |\n",
    "|Thioesterase     |   552.0|NRPS        |\n",
    "|ABM              |   394.0|PKSI/PKSII  |\n",
    "|LANC_like        |   178.0|lantibiotics|\n",
    "|Carbam_trans_C   |   142.0|PKS         |\n",
    "|FAE1_CUT1_RppA   |   128.0|PKS III     |\n",
    "|Chal_sti_synt_N  |   112.0|PKS III     |\n",
    "|Chal_sti_synt_C  |   112.0|PKS III     |\n",
    "\n"
   ]
  },
  {
   "cell_type": "code",
   "execution_count": 113,
   "metadata": {
    "collapsed": false
   },
   "outputs": [
    {
     "ename": "ValueError",
     "evalue": "operands could not be broadcast together with shapes (1100,) (25,) ",
     "output_type": "error",
     "traceback": [
      "\u001b[0;31m---------------------------------------------------------------------------\u001b[0m",
      "\u001b[0;31mTypeError\u001b[0m                                 Traceback (most recent call last)",
      "\u001b[0;32m/Library/Frameworks/Python.framework/Versions/3.5/lib/python3.5/site-packages/pandas/core/ops.py\u001b[0m in \u001b[0;36mna_op\u001b[0;34m(x, y)\u001b[0m\n\u001b[1;32m    985\u001b[0m             result = expressions.evaluate(op, str_rep, x, y,\n\u001b[0;32m--> 986\u001b[0;31m                                           raise_on_error=True, **eval_kwargs)\n\u001b[0m\u001b[1;32m    987\u001b[0m         \u001b[0;32mexcept\u001b[0m \u001b[0mTypeError\u001b[0m\u001b[0;34m:\u001b[0m\u001b[0;34m\u001b[0m\u001b[0m\n",
      "\u001b[0;32m/Library/Frameworks/Python.framework/Versions/3.5/lib/python3.5/site-packages/pandas/computation/expressions.py\u001b[0m in \u001b[0;36mevaluate\u001b[0;34m(op, op_str, a, b, raise_on_error, use_numexpr, **eval_kwargs)\u001b[0m\n\u001b[1;32m    208\u001b[0m         return _evaluate(op, op_str, a, b, raise_on_error=raise_on_error,\n\u001b[0;32m--> 209\u001b[0;31m                          **eval_kwargs)\n\u001b[0m\u001b[1;32m    210\u001b[0m     \u001b[0;32mreturn\u001b[0m \u001b[0m_evaluate_standard\u001b[0m\u001b[0;34m(\u001b[0m\u001b[0mop\u001b[0m\u001b[0;34m,\u001b[0m \u001b[0mop_str\u001b[0m\u001b[0;34m,\u001b[0m \u001b[0ma\u001b[0m\u001b[0;34m,\u001b[0m \u001b[0mb\u001b[0m\u001b[0;34m,\u001b[0m \u001b[0mraise_on_error\u001b[0m\u001b[0;34m=\u001b[0m\u001b[0mraise_on_error\u001b[0m\u001b[0;34m)\u001b[0m\u001b[0;34m\u001b[0m\u001b[0m\n",
      "\u001b[0;32m/Library/Frameworks/Python.framework/Versions/3.5/lib/python3.5/site-packages/pandas/computation/expressions.py\u001b[0m in \u001b[0;36m_evaluate_standard\u001b[0;34m(op, op_str, a, b, raise_on_error, **eval_kwargs)\u001b[0m\n\u001b[1;32m     61\u001b[0m         \u001b[0m_store_test_result\u001b[0m\u001b[0;34m(\u001b[0m\u001b[0;32mFalse\u001b[0m\u001b[0;34m)\u001b[0m\u001b[0;34m\u001b[0m\u001b[0m\n\u001b[0;32m---> 62\u001b[0;31m     \u001b[0;32mreturn\u001b[0m \u001b[0mop\u001b[0m\u001b[0;34m(\u001b[0m\u001b[0ma\u001b[0m\u001b[0;34m,\u001b[0m \u001b[0mb\u001b[0m\u001b[0;34m)\u001b[0m\u001b[0;34m\u001b[0m\u001b[0m\n\u001b[0m\u001b[1;32m     63\u001b[0m \u001b[0;34m\u001b[0m\u001b[0m\n",
      "\u001b[0;31mTypeError\u001b[0m: unsupported operand type(s) for /: 'str' and 'int'",
      "\nDuring handling of the above exception, another exception occurred:\n",
      "\u001b[0;31mValueError\u001b[0m                                Traceback (most recent call last)",
      "\u001b[0;32m<ipython-input-113-1f17cce87be7>\u001b[0m in \u001b[0;36m<module>\u001b[0;34m()\u001b[0m\n\u001b[0;32m----> 1\u001b[0;31m \u001b[0mhmmer_hits_S\u001b[0m \u001b[0;34m=\u001b[0m \u001b[0mmerged_hmmer\u001b[0m\u001b[0;34m.\u001b[0m\u001b[0mdiv\u001b[0m\u001b[0;34m(\u001b[0m\u001b[0mmerged_hmmer\u001b[0m\u001b[0;34m[\u001b[0m\u001b[0;34m'recov_lsu_ssu'\u001b[0m\u001b[0;34m]\u001b[0m\u001b[0;34m,\u001b[0m\u001b[0maxis\u001b[0m\u001b[0;34m=\u001b[0m\u001b[0;36m0\u001b[0m\u001b[0;34m)\u001b[0m\u001b[0;34m\u001b[0m\u001b[0m\n\u001b[0m\u001b[1;32m      2\u001b[0m \u001b[0mhmmer_hits_S\u001b[0m\u001b[0;34m.\u001b[0m\u001b[0mhead\u001b[0m\u001b[0;34m(\u001b[0m\u001b[0;36m3\u001b[0m\u001b[0;34m)\u001b[0m\u001b[0;34m\u001b[0m\u001b[0m\n",
      "\u001b[0;32m/Library/Frameworks/Python.framework/Versions/3.5/lib/python3.5/site-packages/pandas/core/ops.py\u001b[0m in \u001b[0;36mf\u001b[0;34m(self, other, axis, level, fill_value)\u001b[0m\n\u001b[1;32m   1060\u001b[0m             \u001b[0;32mreturn\u001b[0m \u001b[0mself\u001b[0m\u001b[0;34m.\u001b[0m\u001b[0m_combine_frame\u001b[0m\u001b[0;34m(\u001b[0m\u001b[0mother\u001b[0m\u001b[0;34m,\u001b[0m \u001b[0mna_op\u001b[0m\u001b[0;34m,\u001b[0m \u001b[0mfill_value\u001b[0m\u001b[0;34m,\u001b[0m \u001b[0mlevel\u001b[0m\u001b[0;34m)\u001b[0m\u001b[0;34m\u001b[0m\u001b[0m\n\u001b[1;32m   1061\u001b[0m         \u001b[0;32melif\u001b[0m \u001b[0misinstance\u001b[0m\u001b[0;34m(\u001b[0m\u001b[0mother\u001b[0m\u001b[0;34m,\u001b[0m \u001b[0mABCSeries\u001b[0m\u001b[0;34m)\u001b[0m\u001b[0;34m:\u001b[0m\u001b[0;34m\u001b[0m\u001b[0m\n\u001b[0;32m-> 1062\u001b[0;31m             \u001b[0;32mreturn\u001b[0m \u001b[0mself\u001b[0m\u001b[0;34m.\u001b[0m\u001b[0m_combine_series\u001b[0m\u001b[0;34m(\u001b[0m\u001b[0mother\u001b[0m\u001b[0;34m,\u001b[0m \u001b[0mna_op\u001b[0m\u001b[0;34m,\u001b[0m \u001b[0mfill_value\u001b[0m\u001b[0;34m,\u001b[0m \u001b[0maxis\u001b[0m\u001b[0;34m,\u001b[0m \u001b[0mlevel\u001b[0m\u001b[0;34m)\u001b[0m\u001b[0;34m\u001b[0m\u001b[0m\n\u001b[0m\u001b[1;32m   1063\u001b[0m         \u001b[0;32melif\u001b[0m \u001b[0misinstance\u001b[0m\u001b[0;34m(\u001b[0m\u001b[0mother\u001b[0m\u001b[0;34m,\u001b[0m \u001b[0;34m(\u001b[0m\u001b[0mlist\u001b[0m\u001b[0;34m,\u001b[0m \u001b[0mtuple\u001b[0m\u001b[0;34m)\u001b[0m\u001b[0;34m)\u001b[0m\u001b[0;34m:\u001b[0m\u001b[0;34m\u001b[0m\u001b[0m\n\u001b[1;32m   1064\u001b[0m             \u001b[0;32mif\u001b[0m \u001b[0maxis\u001b[0m \u001b[0;32mis\u001b[0m \u001b[0;32mnot\u001b[0m \u001b[0;32mNone\u001b[0m \u001b[0;32mand\u001b[0m \u001b[0mself\u001b[0m\u001b[0;34m.\u001b[0m\u001b[0m_get_axis_name\u001b[0m\u001b[0;34m(\u001b[0m\u001b[0maxis\u001b[0m\u001b[0;34m)\u001b[0m \u001b[0;34m==\u001b[0m \u001b[0;34m'index'\u001b[0m\u001b[0;34m:\u001b[0m\u001b[0;34m\u001b[0m\u001b[0m\n",
      "\u001b[0;32m/Library/Frameworks/Python.framework/Versions/3.5/lib/python3.5/site-packages/pandas/core/frame.py\u001b[0m in \u001b[0;36m_combine_series\u001b[0;34m(self, other, func, fill_value, axis, level)\u001b[0m\n\u001b[1;32m   3508\u001b[0m             \u001b[0;32mif\u001b[0m \u001b[0maxis\u001b[0m \u001b[0;34m==\u001b[0m \u001b[0;34m'index'\u001b[0m\u001b[0;34m:\u001b[0m\u001b[0;34m\u001b[0m\u001b[0m\n\u001b[1;32m   3509\u001b[0m                 return self._combine_match_index(other, func, level=level,\n\u001b[0;32m-> 3510\u001b[0;31m                                                  fill_value=fill_value)\n\u001b[0m\u001b[1;32m   3511\u001b[0m             \u001b[0;32melse\u001b[0m\u001b[0;34m:\u001b[0m\u001b[0;34m\u001b[0m\u001b[0m\n\u001b[1;32m   3512\u001b[0m                 return self._combine_match_columns(other, func, level=level,\n",
      "\u001b[0;32m/Library/Frameworks/Python.framework/Versions/3.5/lib/python3.5/site-packages/pandas/core/frame.py\u001b[0m in \u001b[0;36m_combine_match_index\u001b[0;34m(self, other, func, level, fill_value)\u001b[0m\n\u001b[1;32m   3533\u001b[0m             raise NotImplementedError(\"fill_value %r not supported.\" %\n\u001b[1;32m   3534\u001b[0m                                       fill_value)\n\u001b[0;32m-> 3535\u001b[0;31m         return self._constructor(func(left.values.T, right.values).T,\n\u001b[0m\u001b[1;32m   3536\u001b[0m                                  \u001b[0mindex\u001b[0m\u001b[0;34m=\u001b[0m\u001b[0mleft\u001b[0m\u001b[0;34m.\u001b[0m\u001b[0mindex\u001b[0m\u001b[0;34m,\u001b[0m \u001b[0mcolumns\u001b[0m\u001b[0;34m=\u001b[0m\u001b[0mself\u001b[0m\u001b[0;34m.\u001b[0m\u001b[0mcolumns\u001b[0m\u001b[0;34m,\u001b[0m\u001b[0;34m\u001b[0m\u001b[0m\n\u001b[1;32m   3537\u001b[0m                                  copy=False)\n",
      "\u001b[0;32m/Library/Frameworks/Python.framework/Versions/3.5/lib/python3.5/site-packages/pandas/core/ops.py\u001b[0m in \u001b[0;36mna_op\u001b[0;34m(x, y)\u001b[0m\n\u001b[1;32m    991\u001b[0m                 \u001b[0mresult\u001b[0m \u001b[0;34m=\u001b[0m \u001b[0mnp\u001b[0m\u001b[0;34m.\u001b[0m\u001b[0mempty\u001b[0m\u001b[0;34m(\u001b[0m\u001b[0mx\u001b[0m\u001b[0;34m.\u001b[0m\u001b[0msize\u001b[0m\u001b[0;34m,\u001b[0m \u001b[0mdtype\u001b[0m\u001b[0;34m=\u001b[0m\u001b[0mdtype\u001b[0m\u001b[0;34m)\u001b[0m\u001b[0;34m\u001b[0m\u001b[0m\n\u001b[1;32m    992\u001b[0m                 \u001b[0myrav\u001b[0m \u001b[0;34m=\u001b[0m \u001b[0my\u001b[0m\u001b[0;34m.\u001b[0m\u001b[0mravel\u001b[0m\u001b[0;34m(\u001b[0m\u001b[0;34m)\u001b[0m\u001b[0;34m\u001b[0m\u001b[0m\n\u001b[0;32m--> 993\u001b[0;31m                 \u001b[0mmask\u001b[0m \u001b[0;34m=\u001b[0m \u001b[0mnotnull\u001b[0m\u001b[0;34m(\u001b[0m\u001b[0mxrav\u001b[0m\u001b[0;34m)\u001b[0m \u001b[0;34m&\u001b[0m \u001b[0mnotnull\u001b[0m\u001b[0;34m(\u001b[0m\u001b[0myrav\u001b[0m\u001b[0;34m)\u001b[0m\u001b[0;34m\u001b[0m\u001b[0m\n\u001b[0m\u001b[1;32m    994\u001b[0m                 \u001b[0mxrav\u001b[0m \u001b[0;34m=\u001b[0m \u001b[0mxrav\u001b[0m\u001b[0;34m[\u001b[0m\u001b[0mmask\u001b[0m\u001b[0;34m]\u001b[0m\u001b[0;34m\u001b[0m\u001b[0m\n\u001b[1;32m    995\u001b[0m                 \u001b[0myrav\u001b[0m \u001b[0;34m=\u001b[0m \u001b[0myrav\u001b[0m\u001b[0;34m[\u001b[0m\u001b[0mmask\u001b[0m\u001b[0;34m]\u001b[0m\u001b[0;34m\u001b[0m\u001b[0m\n",
      "\u001b[0;31mValueError\u001b[0m: operands could not be broadcast together with shapes (1100,) (25,) "
     ]
    }
   ],
   "source": []
  },
  {
   "cell_type": "code",
   "execution_count": 105,
   "metadata": {
    "collapsed": false
   },
   "outputs": [],
   "source": [
    "merged_hmmer['Aminotran_3_S'] = merged_hmmer[['Aminotran_3']].div(merged_hmmer.recov_lsu_ssu, axis=0)\n",
    "merged_hmmer['Aminotran_1_2_S'] = merged_hmmer[['Aminotran_1_2']].div(merged_hmmer.recov_lsu_ssu, axis=0)\n",
    "merged_hmmer['pksII_alpha_S'] = merged_hmmer[['pksII_alpha']].div(merged_hmmer.recov_lsu_ssu, axis=0)\n",
    "merged_hmmer['PP_binding_S'] = merged_hmmer[['PP-binding']].div(merged_hmmer.recov_lsu_ssu, axis=0)\n",
    "merged_hmmer['Condensation_S'] = merged_hmmer[['Condensation']].div(merged_hmmer.recov_lsu_ssu, axis=0)\n",
    "merged_hmmer['FAE1_CUT1_RppA_S'] = merged_hmmer[['FAE1_CUT1_RppA']].div(merged_hmmer.recov_lsu_ssu, axis=0)"
   ]
  },
  {
   "cell_type": "markdown",
   "metadata": {},
   "source": [
    "Here is a plot of the five most abundant gene hits by raw counts. Below we scale the data by total recovered LSU and SSU genes."
   ]
  },
  {
   "cell_type": "code",
   "execution_count": 106,
   "metadata": {
    "collapsed": false
   },
   "outputs": [
    {
     "data": {
      "text/plain": [
       "<seaborn.axisgrid.PairGrid at 0x1101f5e80>"
      ]
     },
     "execution_count": 106,
     "metadata": {},
     "output_type": "execute_result"
    },
    {
     "data": {
      "image/png": "[encoded data removed]",
      "text/plain": [
       "<matplotlib.figure.Figure at 0x1101f5320>"
      ]
     },
     "metadata": {},
     "output_type": "display_data"
    }
   ],
   "source": [
    "g = sns.PairGrid(merged_hmmer,\n",
    "                 y_vars=[\"species\"],\n",
    "                 x_vars=[\"Aminotran_3_S\", \"Aminotran_1_2_S\",\"pksII_alpha_S\",\n",
    "                        \"PP_binding_S\",\"Condensation_S\",\"FAE1_CUT1_RppA_S\"],\n",
    "                 aspect=.75, size=4)\n",
    "g.map(sns.swarmplot, palette=\"colorblind\",size=10)"
   ]
  },
  {
   "cell_type": "code",
   "execution_count": 107,
   "metadata": {
    "collapsed": true
   },
   "outputs": [],
   "source": [
    "import statsmodels.formula.api as smf\n",
    "import statsmodels.api as sm"
   ]
  },
  {
   "cell_type": "code",
   "execution_count": 108,
   "metadata": {
    "collapsed": false
   },
   "outputs": [],
   "source": [
    "result = smf.ols(formula=\"PP_binding_S ~ forearm + diet + species + location + cave_or_surface\", data=merged_hmmer).fit()"
   ]
  },
  {
   "cell_type": "code",
   "execution_count": 109,
   "metadata": {
    "collapsed": false
   },
   "outputs": [
    {
     "name": "stdout",
     "output_type": "stream",
     "text": [
      "Intercept                          -0.515110\n",
      "diet[T.mothsbeetles]               -0.468493\n",
      "species[T.Myotis thysanodes]        0.301027\n",
      "species[T.Myotis velifer]          -0.046617\n",
      "species[T.Tadarida brasiliensis]    0.269463\n",
      "location[T.RSS]                    -0.100067\n",
      "location[T.WCS]                     0.003748\n",
      "cave_or_surface[T.surface]         -0.096319\n",
      "forearm                             0.021214\n",
      "dtype: float64\n"
     ]
    }
   ],
   "source": [
    "print(result.params)"
   ]
  },
  {
   "cell_type": "code",
   "execution_count": 110,
   "metadata": {
    "collapsed": false
   },
   "outputs": [
    {
     "name": "stdout",
     "output_type": "stream",
     "text": [
      "                            OLS Regression Results                            \n",
      "==============================================================================\n",
      "Dep. Variable:           PP_binding_S   R-squared:                       0.689\n",
      "Model:                            OLS   Adj. R-squared:                  0.579\n",
      "Method:                 Least Squares   F-statistic:                     6.274\n",
      "Date:                Wed, 12 Oct 2016   Prob (F-statistic):            0.00127\n",
      "Time:                        14:53:10   Log-Likelihood:                 22.638\n",
      "No. Observations:                  24   AIC:                            -31.28\n",
      "Df Residuals:                      17   BIC:                            -23.03\n",
      "Df Model:                           6                                         \n",
      "Covariance Type:            nonrobust                                         \n",
      "====================================================================================================\n",
      "                                       coef    std err          t      P>|t|      [95.0% Conf. Int.]\n",
      "----------------------------------------------------------------------------------------------------\n",
      "Intercept                           -0.5151      0.611     -0.843      0.411        -1.804     0.774\n",
      "diet[T.mothsbeetles]                -0.4685      0.398     -1.177      0.255        -1.308     0.371\n",
      "species[T.Myotis thysanodes]         0.3010      0.212      1.418      0.174        -0.147     0.749\n",
      "species[T.Myotis velifer]           -0.0466      0.218     -0.214      0.833        -0.507     0.413\n",
      "species[T.Tadarida brasiliensis]     0.2695      0.187      1.443      0.167        -0.125     0.663\n",
      "location[T.RSS]                     -0.1001      0.040     -2.519      0.022        -0.184    -0.016\n",
      "location[T.WCS]                      0.0037      0.046      0.081      0.936        -0.093     0.101\n",
      "cave_or_surface[T.surface]          -0.0963      0.058     -1.662      0.115        -0.219     0.026\n",
      "forearm                              0.0212      0.019      1.145      0.268        -0.018     0.060\n",
      "==============================================================================\n",
      "Omnibus:                        0.020   Durbin-Watson:                   2.090\n",
      "Prob(Omnibus):                  0.990   Jarque-Bera (JB):                0.205\n",
      "Skew:                           0.047   Prob(JB):                        0.903\n",
      "Kurtosis:                       2.557   Cond. No.                     1.12e+18\n",
      "==============================================================================\n",
      "\n",
      "Warnings:\n",
      "[1] Standard Errors assume that the covariance matrix of the errors is correctly specified.\n",
      "[2] The smallest eigenvalue is 4.1e-32. This might indicate that there are\n",
      "strong multicollinearity problems or that the design matrix is singular.\n"
     ]
    }
   ],
   "source": [
    "print(result.summary())"
   ]
  },
  {
   "cell_type": "code",
   "execution_count": 112,
   "metadata": {
    "collapsed": false
   },
   "outputs": [
    {
     "data": {
      "text/html": [
       "<table class=\"simpletable\">\n",
       "<caption>Generalized Linear Model Regression Results</caption>\n",
       "<tr>\n",
       "  <th>Dep. Variable:</th>    <td>PP_binding_S</td>   <th>  No. Observations:  </th>     <td>    24</td>     \n",
       "</tr>\n",
       "<tr>\n",
       "  <th>Model:</th>                 <td>GLM</td>       <th>  Df Residuals:      </th>     <td>    17</td>     \n",
       "</tr>\n",
       "<tr>\n",
       "  <th>Model Family:</th>       <td>Gaussian</td>     <th>  Df Model:          </th>     <td>     6</td>     \n",
       "</tr>\n",
       "<tr>\n",
       "  <th>Link Function:</th>      <td>identity</td>     <th>  Scale:             </th> <td>0.0125311147858</td>\n",
       "</tr>\n",
       "<tr>\n",
       "  <th>Method:</th>               <td>IRLS</td>       <th>  Log-Likelihood:    </th>    <td>  22.638</td>    \n",
       "</tr>\n",
       "<tr>\n",
       "  <th>Date:</th>           <td>Wed, 12 Oct 2016</td> <th>  Deviance:          </th>    <td> 0.21303</td>    \n",
       "</tr>\n",
       "<tr>\n",
       "  <th>Time:</th>               <td>14:57:54</td>     <th>  Pearson chi2:      </th>     <td> 0.213</td>     \n",
       "</tr>\n",
       "<tr>\n",
       "  <th>No. Iterations:</th>         <td>4</td>        <th>                     </th>        <td> </td>       \n",
       "</tr>\n",
       "</table>\n",
       "<table class=\"simpletable\">\n",
       "<tr>\n",
       "                  <td></td>                    <th>coef</th>     <th>std err</th>      <th>z</th>      <th>P>|z|</th> <th>[95.0% Conf. Int.]</th> \n",
       "</tr>\n",
       "<tr>\n",
       "  <th>Intercept</th>                        <td>   -0.5151</td> <td>    0.611</td> <td>   -0.843</td> <td> 0.399</td> <td>   -1.713     0.682</td>\n",
       "</tr>\n",
       "<tr>\n",
       "  <th>diet[T.mothsbeetles]</th>             <td>   -0.4685</td> <td>    0.398</td> <td>   -1.177</td> <td> 0.239</td> <td>   -1.249     0.312</td>\n",
       "</tr>\n",
       "<tr>\n",
       "  <th>species[T.Myotis thysanodes]</th>     <td>    0.3010</td> <td>    0.212</td> <td>    1.418</td> <td> 0.156</td> <td>   -0.115     0.717</td>\n",
       "</tr>\n",
       "<tr>\n",
       "  <th>species[T.Myotis velifer]</th>        <td>   -0.0466</td> <td>    0.218</td> <td>   -0.214</td> <td> 0.831</td> <td>   -0.474     0.381</td>\n",
       "</tr>\n",
       "<tr>\n",
       "  <th>species[T.Tadarida brasiliensis]</th> <td>    0.2695</td> <td>    0.187</td> <td>    1.443</td> <td> 0.149</td> <td>   -0.097     0.635</td>\n",
       "</tr>\n",
       "<tr>\n",
       "  <th>location[T.RSS]</th>                  <td>   -0.1001</td> <td>    0.040</td> <td>   -2.519</td> <td> 0.012</td> <td>   -0.178    -0.022</td>\n",
       "</tr>\n",
       "<tr>\n",
       "  <th>location[T.WCS]</th>                  <td>    0.0037</td> <td>    0.046</td> <td>    0.081</td> <td> 0.935</td> <td>   -0.087     0.094</td>\n",
       "</tr>\n",
       "<tr>\n",
       "  <th>cave_or_surface[T.surface]</th>       <td>   -0.0963</td> <td>    0.058</td> <td>   -1.662</td> <td> 0.096</td> <td>   -0.210     0.017</td>\n",
       "</tr>\n",
       "<tr>\n",
       "  <th>forearm</th>                          <td>    0.0212</td> <td>    0.019</td> <td>    1.145</td> <td> 0.252</td> <td>   -0.015     0.058</td>\n",
       "</tr>\n",
       "</table>"
      ],
      "text/plain": [
       "<class 'statsmodels.iolib.summary.Summary'>\n",
       "\"\"\"\n",
       "                 Generalized Linear Model Regression Results                  \n",
       "==============================================================================\n",
       "Dep. Variable:           PP_binding_S   No. Observations:                   24\n",
       "Model:                            GLM   Df Residuals:                       17\n",
       "Model Family:                Gaussian   Df Model:                            6\n",
       "Link Function:               identity   Scale:                 0.0125311147858\n",
       "Method:                          IRLS   Log-Likelihood:                 22.638\n",
       "Date:                Wed, 12 Oct 2016   Deviance:                      0.21303\n",
       "Time:                        14:57:54   Pearson chi2:                    0.213\n",
       "No. Iterations:                     4                                         \n",
       "====================================================================================================\n",
       "                                       coef    std err          z      P>|z|      [95.0% Conf. Int.]\n",
       "----------------------------------------------------------------------------------------------------\n",
       "Intercept                           -0.5151      0.611     -0.843      0.399        -1.713     0.682\n",
       "diet[T.mothsbeetles]                -0.4685      0.398     -1.177      0.239        -1.249     0.312\n",
       "species[T.Myotis thysanodes]         0.3010      0.212      1.418      0.156        -0.115     0.717\n",
       "species[T.Myotis velifer]           -0.0466      0.218     -0.214      0.831        -0.474     0.381\n",
       "species[T.Tadarida brasiliensis]     0.2695      0.187      1.443      0.149        -0.097     0.635\n",
       "location[T.RSS]                     -0.1001      0.040     -2.519      0.012        -0.178    -0.022\n",
       "location[T.WCS]                      0.0037      0.046      0.081      0.935        -0.087     0.094\n",
       "cave_or_surface[T.surface]          -0.0963      0.058     -1.662      0.096        -0.210     0.017\n",
       "forearm                              0.0212      0.019      1.145      0.252        -0.015     0.058\n",
       "====================================================================================================\n",
       "\"\"\""
      ]
     },
     "execution_count": 112,
     "metadata": {},
     "output_type": "execute_result"
    }
   ],
   "source": [
    "mod1 = smf.glm(formula=\"PP_binding_S ~ forearm + diet + species + location + cave_or_surface\", data=merged_hmmer,\n",
    "               family=sm.families.Gaussian()).fit()\n",
    "mod1.summary()"
   ]
  },
  {
   "cell_type": "code",
   "execution_count": null,
   "metadata": {
    "collapsed": false
   },
   "outputs": [],
   "source": []
  },
  {
   "cell_type": "code",
   "execution_count": 44,
   "metadata": {
    "collapsed": false
   },
   "outputs": [],
   "source": [
    "df_counts = pd.DataFrame(hmmer_clean.sum(numeric_only=True).sort_values(ascending=False))"
   ]
  },
  {
   "cell_type": "code",
   "execution_count": 45,
   "metadata": {
    "collapsed": false
   },
   "outputs": [],
   "source": [
    "df_rel = pd.DataFrame((df_counts/df_counts.sum()*100))"
   ]
  },
  {
   "cell_type": "code",
   "execution_count": 46,
   "metadata": {
    "collapsed": false
   },
   "outputs": [
    {
     "data": {
      "text/html": [
       "<div>\n",
       "<table border=\"1\" class=\"dataframe\">\n",
       "  <thead>\n",
       "    <tr style=\"text-align: right;\">\n",
       "      <th></th>\n",
       "      <th>0</th>\n",
       "    </tr>\n",
       "    <tr>\n",
       "      <th>gene</th>\n",
       "      <th></th>\n",
       "    </tr>\n",
       "  </thead>\n",
       "  <tbody>\n",
       "    <tr>\n",
       "      <th>Aminotran_3</th>\n",
       "      <td>18.785776</td>\n",
       "    </tr>\n",
       "    <tr>\n",
       "      <th>Aminotran_1_2</th>\n",
       "      <td>17.745013</td>\n",
       "    </tr>\n",
       "    <tr>\n",
       "      <th>pksII_alpha</th>\n",
       "      <td>10.810928</td>\n",
       "    </tr>\n",
       "    <tr>\n",
       "      <th>PP-binding</th>\n",
       "      <td>9.297485</td>\n",
       "    </tr>\n",
       "    <tr>\n",
       "      <th>Condensation</th>\n",
       "      <td>9.288812</td>\n",
       "    </tr>\n",
       "    <tr>\n",
       "      <th>Acyltransferase</th>\n",
       "      <td>8.412836</td>\n",
       "    </tr>\n",
       "    <tr>\n",
       "      <th>Penicil_amidase</th>\n",
       "      <td>6.452732</td>\n",
       "    </tr>\n",
       "    <tr>\n",
       "      <th>Acyl_transf_1</th>\n",
       "      <td>6.435386</td>\n",
       "    </tr>\n",
       "    <tr>\n",
       "      <th>KR</th>\n",
       "      <td>4.709454</td>\n",
       "    </tr>\n",
       "    <tr>\n",
       "      <th>Thioesterase</th>\n",
       "      <td>2.393755</td>\n",
       "    </tr>\n",
       "    <tr>\n",
       "      <th>ABM</th>\n",
       "      <td>1.708586</td>\n",
       "    </tr>\n",
       "  </tbody>\n",
       "</table>\n",
       "</div>"
      ],
      "text/plain": [
       "                         0\n",
       "gene                      \n",
       "Aminotran_3      18.785776\n",
       "Aminotran_1_2    17.745013\n",
       "pksII_alpha      10.810928\n",
       "PP-binding        9.297485\n",
       "Condensation      9.288812\n",
       "Acyltransferase   8.412836\n",
       "Penicil_amidase   6.452732\n",
       "Acyl_transf_1     6.435386\n",
       "KR                4.709454\n",
       "Thioesterase      2.393755\n",
       "ABM               1.708586"
      ]
     },
     "execution_count": 46,
     "metadata": {},
     "output_type": "execute_result"
    }
   ],
   "source": [
    "df_rel.head(11)"
   ]
  },
  {
   "cell_type": "code",
   "execution_count": 58,
   "metadata": {
    "collapsed": true
   },
   "outputs": [],
   "source": [
    "from scipy.spatial.distance import *\n",
    "import numpy as np\n",
    "from sklearn import manifold"
   ]
  },
  {
   "cell_type": "code",
   "execution_count": 59,
   "metadata": {
    "collapsed": true
   },
   "outputs": [],
   "source": [
    "mds_df = hmmer_clean.drop('id',1)\n",
    "dist_mat = squareform(pdist(mds_df,'braycurtis'))"
   ]
  },
  {
   "cell_type": "code",
   "execution_count": 60,
   "metadata": {
    "collapsed": false
   },
   "outputs": [
    {
     "data": {
      "text/html": [
       "<div>\n",
       "<table border=\"1\" class=\"dataframe\">\n",
       "  <thead>\n",
       "    <tr style=\"text-align: right;\">\n",
       "      <th>id</th>\n",
       "      <th>CC140620_1.2ndmeta</th>\n",
       "      <th>CC140620_25.2ndmeta</th>\n",
       "      <th>CC140620_33.2ndmeta</th>\n",
       "      <th>CC140620_37.2ndmeta</th>\n",
       "      <th>CC140620_5.2ndmeta</th>\n",
       "      <th>CC150624_21.2ndmeta</th>\n",
       "      <th>CC150624_25.2ndmeta</th>\n",
       "      <th>CC150624_29.2ndmeta</th>\n",
       "      <th>CC150626_1.2ndmeta</th>\n",
       "      <th>RSS140621_1.2ndmeta</th>\n",
       "      <th>...</th>\n",
       "      <th>RSS150623_13.2ndmeta</th>\n",
       "      <th>RSS150623_9.2ndmeta</th>\n",
       "      <th>RSS150627_1.2ndmeta</th>\n",
       "      <th>RSS150627_5.2ndmeta</th>\n",
       "      <th>WCS140623_1.2ndmeta</th>\n",
       "      <th>WCS140623_13.2ndmeta</th>\n",
       "      <th>WCS140623_5.2ndmeta</th>\n",
       "      <th>WCS140623_9.2ndmeta</th>\n",
       "      <th>WCS150622_5.2ndmeta</th>\n",
       "      <th>WCS150622_9.2ndmeta</th>\n",
       "    </tr>\n",
       "    <tr>\n",
       "      <th>id</th>\n",
       "      <th></th>\n",
       "      <th></th>\n",
       "      <th></th>\n",
       "      <th></th>\n",
       "      <th></th>\n",
       "      <th></th>\n",
       "      <th></th>\n",
       "      <th></th>\n",
       "      <th></th>\n",
       "      <th></th>\n",
       "      <th></th>\n",
       "      <th></th>\n",
       "      <th></th>\n",
       "      <th></th>\n",
       "      <th></th>\n",
       "      <th></th>\n",
       "      <th></th>\n",
       "      <th></th>\n",
       "      <th></th>\n",
       "      <th></th>\n",
       "      <th></th>\n",
       "    </tr>\n",
       "  </thead>\n",
       "  <tbody>\n",
       "    <tr>\n",
       "      <th>CC140620_1.2ndmeta</th>\n",
       "      <td>0.000000</td>\n",
       "      <td>0.232378</td>\n",
       "      <td>0.316067</td>\n",
       "      <td>0.599522</td>\n",
       "      <td>0.104619</td>\n",
       "      <td>0.161157</td>\n",
       "      <td>0.217928</td>\n",
       "      <td>0.672295</td>\n",
       "      <td>0.161157</td>\n",
       "      <td>0.637028</td>\n",
       "      <td>...</td>\n",
       "      <td>0.256176</td>\n",
       "      <td>0.607725</td>\n",
       "      <td>0.404145</td>\n",
       "      <td>0.458003</td>\n",
       "      <td>0.886475</td>\n",
       "      <td>0.892045</td>\n",
       "      <td>0.562463</td>\n",
       "      <td>0.911681</td>\n",
       "      <td>0.174774</td>\n",
       "      <td>0.658203</td>\n",
       "    </tr>\n",
       "    <tr>\n",
       "      <th>CC140620_25.2ndmeta</th>\n",
       "      <td>0.232378</td>\n",
       "      <td>0.000000</td>\n",
       "      <td>0.186420</td>\n",
       "      <td>0.471854</td>\n",
       "      <td>0.214700</td>\n",
       "      <td>0.298893</td>\n",
       "      <td>0.189629</td>\n",
       "      <td>0.544974</td>\n",
       "      <td>0.298893</td>\n",
       "      <td>0.508921</td>\n",
       "      <td>...</td>\n",
       "      <td>0.176060</td>\n",
       "      <td>0.454698</td>\n",
       "      <td>0.250512</td>\n",
       "      <td>0.308123</td>\n",
       "      <td>0.869023</td>\n",
       "      <td>0.868505</td>\n",
       "      <td>0.422581</td>\n",
       "      <td>0.902023</td>\n",
       "      <td>0.329889</td>\n",
       "      <td>0.762819</td>\n",
       "    </tr>\n",
       "    <tr>\n",
       "      <th>CC140620_33.2ndmeta</th>\n",
       "      <td>0.316067</td>\n",
       "      <td>0.186420</td>\n",
       "      <td>0.000000</td>\n",
       "      <td>0.478976</td>\n",
       "      <td>0.295803</td>\n",
       "      <td>0.383226</td>\n",
       "      <td>0.269293</td>\n",
       "      <td>0.490196</td>\n",
       "      <td>0.383226</td>\n",
       "      <td>0.460019</td>\n",
       "      <td>...</td>\n",
       "      <td>0.259490</td>\n",
       "      <td>0.400742</td>\n",
       "      <td>0.249445</td>\n",
       "      <td>0.325723</td>\n",
       "      <td>0.860849</td>\n",
       "      <td>0.860072</td>\n",
       "      <td>0.396092</td>\n",
       "      <td>0.898182</td>\n",
       "      <td>0.401332</td>\n",
       "      <td>0.790251</td>\n",
       "    </tr>\n",
       "    <tr>\n",
       "      <th>CC140620_37.2ndmeta</th>\n",
       "      <td>0.599522</td>\n",
       "      <td>0.471854</td>\n",
       "      <td>0.478976</td>\n",
       "      <td>0.000000</td>\n",
       "      <td>0.562905</td>\n",
       "      <td>0.651856</td>\n",
       "      <td>0.546149</td>\n",
       "      <td>0.253289</td>\n",
       "      <td>0.651856</td>\n",
       "      <td>0.271889</td>\n",
       "      <td>...</td>\n",
       "      <td>0.534728</td>\n",
       "      <td>0.294294</td>\n",
       "      <td>0.320554</td>\n",
       "      <td>0.266075</td>\n",
       "      <td>0.720183</td>\n",
       "      <td>0.683453</td>\n",
       "      <td>0.448179</td>\n",
       "      <td>0.777240</td>\n",
       "      <td>0.668342</td>\n",
       "      <td>0.899823</td>\n",
       "    </tr>\n",
       "    <tr>\n",
       "      <th>CC140620_5.2ndmeta</th>\n",
       "      <td>0.104619</td>\n",
       "      <td>0.214700</td>\n",
       "      <td>0.295803</td>\n",
       "      <td>0.562905</td>\n",
       "      <td>0.000000</td>\n",
       "      <td>0.179228</td>\n",
       "      <td>0.213385</td>\n",
       "      <td>0.643052</td>\n",
       "      <td>0.179228</td>\n",
       "      <td>0.606883</td>\n",
       "      <td>...</td>\n",
       "      <td>0.217518</td>\n",
       "      <td>0.581913</td>\n",
       "      <td>0.379655</td>\n",
       "      <td>0.438138</td>\n",
       "      <td>0.896605</td>\n",
       "      <td>0.893500</td>\n",
       "      <td>0.526048</td>\n",
       "      <td>0.924588</td>\n",
       "      <td>0.174737</td>\n",
       "      <td>0.685632</td>\n",
       "    </tr>\n",
       "  </tbody>\n",
       "</table>\n",
       "<p>5 rows × 25 columns</p>\n",
       "</div>"
      ],
      "text/plain": [
       "id                   CC140620_1.2ndmeta  CC140620_25.2ndmeta  \\\n",
       "id                                                             \n",
       "CC140620_1.2ndmeta             0.000000             0.232378   \n",
       "CC140620_25.2ndmeta            0.232378             0.000000   \n",
       "CC140620_33.2ndmeta            0.316067             0.186420   \n",
       "CC140620_37.2ndmeta            0.599522             0.471854   \n",
       "CC140620_5.2ndmeta             0.104619             0.214700   \n",
       "\n",
       "id                   CC140620_33.2ndmeta  CC140620_37.2ndmeta  \\\n",
       "id                                                              \n",
       "CC140620_1.2ndmeta              0.316067             0.599522   \n",
       "CC140620_25.2ndmeta             0.186420             0.471854   \n",
       "CC140620_33.2ndmeta             0.000000             0.478976   \n",
       "CC140620_37.2ndmeta             0.478976             0.000000   \n",
       "CC140620_5.2ndmeta              0.295803             0.562905   \n",
       "\n",
       "id                   CC140620_5.2ndmeta  CC150624_21.2ndmeta  \\\n",
       "id                                                             \n",
       "CC140620_1.2ndmeta             0.104619             0.161157   \n",
       "CC140620_25.2ndmeta            0.214700             0.298893   \n",
       "CC140620_33.2ndmeta            0.295803             0.383226   \n",
       "CC140620_37.2ndmeta            0.562905             0.651856   \n",
       "CC140620_5.2ndmeta             0.000000             0.179228   \n",
       "\n",
       "id                   CC150624_25.2ndmeta  CC150624_29.2ndmeta  \\\n",
       "id                                                              \n",
       "CC140620_1.2ndmeta              0.217928             0.672295   \n",
       "CC140620_25.2ndmeta             0.189629             0.544974   \n",
       "CC140620_33.2ndmeta             0.269293             0.490196   \n",
       "CC140620_37.2ndmeta             0.546149             0.253289   \n",
       "CC140620_5.2ndmeta              0.213385             0.643052   \n",
       "\n",
       "id                   CC150626_1.2ndmeta  RSS140621_1.2ndmeta  \\\n",
       "id                                                             \n",
       "CC140620_1.2ndmeta             0.161157             0.637028   \n",
       "CC140620_25.2ndmeta            0.298893             0.508921   \n",
       "CC140620_33.2ndmeta            0.383226             0.460019   \n",
       "CC140620_37.2ndmeta            0.651856             0.271889   \n",
       "CC140620_5.2ndmeta             0.179228             0.606883   \n",
       "\n",
       "id                          ...           RSS150623_13.2ndmeta  \\\n",
       "id                          ...                                  \n",
       "CC140620_1.2ndmeta          ...                       0.256176   \n",
       "CC140620_25.2ndmeta         ...                       0.176060   \n",
       "CC140620_33.2ndmeta         ...                       0.259490   \n",
       "CC140620_37.2ndmeta         ...                       0.534728   \n",
       "CC140620_5.2ndmeta          ...                       0.217518   \n",
       "\n",
       "id                   RSS150623_9.2ndmeta  RSS150627_1.2ndmeta  \\\n",
       "id                                                              \n",
       "CC140620_1.2ndmeta              0.607725             0.404145   \n",
       "CC140620_25.2ndmeta             0.454698             0.250512   \n",
       "CC140620_33.2ndmeta             0.400742             0.249445   \n",
       "CC140620_37.2ndmeta             0.294294             0.320554   \n",
       "CC140620_5.2ndmeta              0.581913             0.379655   \n",
       "\n",
       "id                   RSS150627_5.2ndmeta  WCS140623_1.2ndmeta  \\\n",
       "id                                                              \n",
       "CC140620_1.2ndmeta              0.458003             0.886475   \n",
       "CC140620_25.2ndmeta             0.308123             0.869023   \n",
       "CC140620_33.2ndmeta             0.325723             0.860849   \n",
       "CC140620_37.2ndmeta             0.266075             0.720183   \n",
       "CC140620_5.2ndmeta              0.438138             0.896605   \n",
       "\n",
       "id                   WCS140623_13.2ndmeta  WCS140623_5.2ndmeta  \\\n",
       "id                                                               \n",
       "CC140620_1.2ndmeta               0.892045             0.562463   \n",
       "CC140620_25.2ndmeta              0.868505             0.422581   \n",
       "CC140620_33.2ndmeta              0.860072             0.396092   \n",
       "CC140620_37.2ndmeta              0.683453             0.448179   \n",
       "CC140620_5.2ndmeta               0.893500             0.526048   \n",
       "\n",
       "id                   WCS140623_9.2ndmeta  WCS150622_5.2ndmeta  \\\n",
       "id                                                              \n",
       "CC140620_1.2ndmeta              0.911681             0.174774   \n",
       "CC140620_25.2ndmeta             0.902023             0.329889   \n",
       "CC140620_33.2ndmeta             0.898182             0.401332   \n",
       "CC140620_37.2ndmeta             0.777240             0.668342   \n",
       "CC140620_5.2ndmeta              0.924588             0.174737   \n",
       "\n",
       "id                   WCS150622_9.2ndmeta  \n",
       "id                                        \n",
       "CC140620_1.2ndmeta              0.658203  \n",
       "CC140620_25.2ndmeta             0.762819  \n",
       "CC140620_33.2ndmeta             0.790251  \n",
       "CC140620_37.2ndmeta             0.899823  \n",
       "CC140620_5.2ndmeta              0.685632  \n",
       "\n",
       "[5 rows x 25 columns]"
      ]
     },
     "execution_count": 60,
     "metadata": {},
     "output_type": "execute_result"
    }
   ],
   "source": [
    "pd.DataFrame(dist_mat, columns = merged_hmmer['id'], index=merged_hmmer['id']).head()"
   ]
  },
  {
   "cell_type": "code",
   "execution_count": 61,
   "metadata": {
    "collapsed": true
   },
   "outputs": [],
   "source": [
    "mds = manifold.MDS(n_components=2, dissimilarity=\"precomputed\", random_state=3, n_jobs = 2, \n",
    "                   metric=False, max_iter=3000)\n",
    "results = mds.fit(dist_mat)\n",
    "coords = results.embedding_"
   ]
  },
  {
   "cell_type": "code",
   "execution_count": 62,
   "metadata": {
    "collapsed": false
   },
   "outputs": [
    {
     "data": {
      "text/html": [
       "<div>\n",
       "<table border=\"1\" class=\"dataframe\">\n",
       "  <thead>\n",
       "    <tr style=\"text-align: right;\">\n",
       "      <th>gene</th>\n",
       "      <th>id</th>\n",
       "      <th>ABM</th>\n",
       "      <th>Actino_peptide</th>\n",
       "      <th>Acyl_transf_1</th>\n",
       "      <th>Acyltransferase</th>\n",
       "      <th>Aminotran_1_2</th>\n",
       "      <th>Aminotran_3</th>\n",
       "      <th>Bacteroid_pep</th>\n",
       "      <th>Carbam_trans_C</th>\n",
       "      <th>Chal_sti_synt_C</th>\n",
       "      <th>...</th>\n",
       "      <th>avg_seq_len</th>\n",
       "      <th>Aminotran_3_S</th>\n",
       "      <th>Aminotran_1_2_S</th>\n",
       "      <th>pksII_alpha_S</th>\n",
       "      <th>PP-binding_S</th>\n",
       "      <th>Condensation_S</th>\n",
       "      <th>FAE1_CUT1_RppA_S</th>\n",
       "      <th>PP_binding_S</th>\n",
       "      <th>X</th>\n",
       "      <th>Y</th>\n",
       "    </tr>\n",
       "  </thead>\n",
       "  <tbody>\n",
       "    <tr>\n",
       "      <th>0</th>\n",
       "      <td>CC140620_1.2ndmeta</td>\n",
       "      <td>10.0</td>\n",
       "      <td>0.0</td>\n",
       "      <td>100.0</td>\n",
       "      <td>88.0</td>\n",
       "      <td>216.0</td>\n",
       "      <td>260.0</td>\n",
       "      <td>0.0</td>\n",
       "      <td>6.0</td>\n",
       "      <td>10.0</td>\n",
       "      <td>...</td>\n",
       "      <td>181.2</td>\n",
       "      <td>0.368272</td>\n",
       "      <td>0.305949</td>\n",
       "      <td>0.155807</td>\n",
       "      <td>0.252125</td>\n",
       "      <td>0.141643</td>\n",
       "      <td>0.014164</td>\n",
       "      <td>0.252125</td>\n",
       "      <td>-0.217961</td>\n",
       "      <td>-0.293870</td>\n",
       "    </tr>\n",
       "    <tr>\n",
       "      <th>1</th>\n",
       "      <td>CC140620_25.2ndmeta</td>\n",
       "      <td>12.0</td>\n",
       "      <td>0.0</td>\n",
       "      <td>46.0</td>\n",
       "      <td>50.0</td>\n",
       "      <td>147.0</td>\n",
       "      <td>181.0</td>\n",
       "      <td>2.0</td>\n",
       "      <td>22.0</td>\n",
       "      <td>0.0</td>\n",
       "      <td>...</td>\n",
       "      <td>198.4</td>\n",
       "      <td>0.663004</td>\n",
       "      <td>0.538462</td>\n",
       "      <td>0.336996</td>\n",
       "      <td>0.461538</td>\n",
       "      <td>0.263736</td>\n",
       "      <td>0.014652</td>\n",
       "      <td>0.461538</td>\n",
       "      <td>-0.134827</td>\n",
       "      <td>-0.191144</td>\n",
       "    </tr>\n",
       "    <tr>\n",
       "      <th>2</th>\n",
       "      <td>CC140620_33.2ndmeta</td>\n",
       "      <td>10.0</td>\n",
       "      <td>0.0</td>\n",
       "      <td>136.0</td>\n",
       "      <td>32.0</td>\n",
       "      <td>103.0</td>\n",
       "      <td>142.0</td>\n",
       "      <td>0.0</td>\n",
       "      <td>4.0</td>\n",
       "      <td>2.0</td>\n",
       "      <td>...</td>\n",
       "      <td>193.9</td>\n",
       "      <td>0.735751</td>\n",
       "      <td>0.533679</td>\n",
       "      <td>0.461140</td>\n",
       "      <td>0.497409</td>\n",
       "      <td>0.259067</td>\n",
       "      <td>0.000000</td>\n",
       "      <td>0.497409</td>\n",
       "      <td>-0.189182</td>\n",
       "      <td>-0.055739</td>\n",
       "    </tr>\n",
       "  </tbody>\n",
       "</table>\n",
       "<p>3 rows × 44 columns</p>\n",
       "</div>"
      ],
      "text/plain": [
       "gene                   id   ABM  Actino_peptide  Acyl_transf_1  \\\n",
       "0      CC140620_1.2ndmeta  10.0             0.0          100.0   \n",
       "1     CC140620_25.2ndmeta  12.0             0.0           46.0   \n",
       "2     CC140620_33.2ndmeta  10.0             0.0          136.0   \n",
       "\n",
       "gene  Acyltransferase  Aminotran_1_2  Aminotran_3  Bacteroid_pep  \\\n",
       "0                88.0          216.0        260.0            0.0   \n",
       "1                50.0          147.0        181.0            2.0   \n",
       "2                32.0          103.0        142.0            0.0   \n",
       "\n",
       "gene  Carbam_trans_C  Chal_sti_synt_C    ...     avg_seq_len  Aminotran_3_S  \\\n",
       "0                6.0             10.0    ...           181.2       0.368272   \n",
       "1               22.0              0.0    ...           198.4       0.663004   \n",
       "2                4.0              2.0    ...           193.9       0.735751   \n",
       "\n",
       "gene  Aminotran_1_2_S  pksII_alpha_S  PP-binding_S  Condensation_S  \\\n",
       "0            0.305949       0.155807      0.252125        0.141643   \n",
       "1            0.538462       0.336996      0.461538        0.263736   \n",
       "2            0.533679       0.461140      0.497409        0.259067   \n",
       "\n",
       "gene  FAE1_CUT1_RppA_S  PP_binding_S         X         Y  \n",
       "0             0.014164      0.252125 -0.217961 -0.293870  \n",
       "1             0.014652      0.461538 -0.134827 -0.191144  \n",
       "2             0.000000      0.497409 -0.189182 -0.055739  \n",
       "\n",
       "[3 rows x 44 columns]"
      ]
     },
     "execution_count": 62,
     "metadata": {},
     "output_type": "execute_result"
    }
   ],
   "source": [
    "merged_hmmer['X'] = [c[0] for c in coords]\n",
    "merged_hmmer['Y'] = [c[1] for c in coords]\n",
    "merged_hmmer.head(3)"
   ]
  },
  {
   "cell_type": "code",
   "execution_count": 66,
   "metadata": {
    "collapsed": false
   },
   "outputs": [
    {
     "data": {
      "text/plain": [
       "<seaborn.axisgrid.FacetGrid at 0x10ed66320>"
      ]
     },
     "execution_count": 66,
     "metadata": {},
     "output_type": "execute_result"
    },
    {
     "data": {
      "image/png": "[encoded data removed]",
      "text/plain": [
       "<matplotlib.figure.Figure at 0x10eda6b70>"
      ]
     },
     "metadata": {},
     "output_type": "display_data"
    }
   ],
   "source": [
    "sns.lmplot(\"X\", \"Y\", data=merged_hmmer, hue='cave_or_surface', fit_reg=False, palette=\"colorblind\")"
   ]
  },
  {
   "cell_type": "code",
   "execution_count": 67,
   "metadata": {
    "collapsed": true
   },
   "outputs": [],
   "source": [
    "from scipy.cluster.hierarchy import dendrogram, linkage\n",
    "from matplotlib import pyplot as plt\n",
    "from pylab import savefig"
   ]
  },
  {
   "cell_type": "code",
   "execution_count": 68,
   "metadata": {
    "collapsed": false
   },
   "outputs": [
    {
     "data": {
      "text/html": [
       "<div>\n",
       "<table border=\"1\" class=\"dataframe\">\n",
       "  <thead>\n",
       "    <tr style=\"text-align: right;\">\n",
       "      <th>gene</th>\n",
       "      <th>ABM</th>\n",
       "      <th>Actino_peptide</th>\n",
       "      <th>Acyl_transf_1</th>\n",
       "      <th>Acyltransferase</th>\n",
       "      <th>Aminotran_1_2</th>\n",
       "      <th>Aminotran_3</th>\n",
       "      <th>Bacteroid_pep</th>\n",
       "      <th>Carbam_trans_C</th>\n",
       "      <th>Chal_sti_synt_C</th>\n",
       "      <th>Chal_sti_synt_N</th>\n",
       "      <th>...</th>\n",
       "      <th>MbtH</th>\n",
       "      <th>NRPS</th>\n",
       "      <th>PP-binding</th>\n",
       "      <th>PS-DH</th>\n",
       "      <th>Penicil_amidase</th>\n",
       "      <th>SAT</th>\n",
       "      <th>SchA_CurD</th>\n",
       "      <th>TfuA</th>\n",
       "      <th>Thioesterase</th>\n",
       "      <th>pksII_alpha</th>\n",
       "    </tr>\n",
       "  </thead>\n",
       "  <tbody>\n",
       "    <tr>\n",
       "      <th>0</th>\n",
       "      <td>0.014164</td>\n",
       "      <td>0.0</td>\n",
       "      <td>0.141643</td>\n",
       "      <td>0.124646</td>\n",
       "      <td>0.305949</td>\n",
       "      <td>0.368272</td>\n",
       "      <td>0.000000</td>\n",
       "      <td>0.008499</td>\n",
       "      <td>0.014164</td>\n",
       "      <td>0.011331</td>\n",
       "      <td>...</td>\n",
       "      <td>0.0</td>\n",
       "      <td>0.002833</td>\n",
       "      <td>0.252125</td>\n",
       "      <td>0.002833</td>\n",
       "      <td>0.169972</td>\n",
       "      <td>0.002833</td>\n",
       "      <td>0.0</td>\n",
       "      <td>0.0</td>\n",
       "      <td>0.087819</td>\n",
       "      <td>0.155807</td>\n",
       "    </tr>\n",
       "    <tr>\n",
       "      <th>1</th>\n",
       "      <td>0.043956</td>\n",
       "      <td>0.0</td>\n",
       "      <td>0.168498</td>\n",
       "      <td>0.183150</td>\n",
       "      <td>0.538462</td>\n",
       "      <td>0.663004</td>\n",
       "      <td>0.007326</td>\n",
       "      <td>0.080586</td>\n",
       "      <td>0.000000</td>\n",
       "      <td>0.007326</td>\n",
       "      <td>...</td>\n",
       "      <td>0.0</td>\n",
       "      <td>0.000000</td>\n",
       "      <td>0.461538</td>\n",
       "      <td>0.014652</td>\n",
       "      <td>0.161172</td>\n",
       "      <td>0.000000</td>\n",
       "      <td>0.0</td>\n",
       "      <td>0.0</td>\n",
       "      <td>0.080586</td>\n",
       "      <td>0.336996</td>\n",
       "    </tr>\n",
       "    <tr>\n",
       "      <th>2</th>\n",
       "      <td>0.051813</td>\n",
       "      <td>0.0</td>\n",
       "      <td>0.704663</td>\n",
       "      <td>0.165803</td>\n",
       "      <td>0.533679</td>\n",
       "      <td>0.735751</td>\n",
       "      <td>0.000000</td>\n",
       "      <td>0.020725</td>\n",
       "      <td>0.010363</td>\n",
       "      <td>0.000000</td>\n",
       "      <td>...</td>\n",
       "      <td>0.0</td>\n",
       "      <td>0.000000</td>\n",
       "      <td>0.497409</td>\n",
       "      <td>0.031088</td>\n",
       "      <td>0.217617</td>\n",
       "      <td>0.000000</td>\n",
       "      <td>0.0</td>\n",
       "      <td>0.0</td>\n",
       "      <td>0.041451</td>\n",
       "      <td>0.461140</td>\n",
       "    </tr>\n",
       "  </tbody>\n",
       "</table>\n",
       "<p>3 rows × 27 columns</p>\n",
       "</div>"
      ],
      "text/plain": [
       "gene       ABM  Actino_peptide  Acyl_transf_1  Acyltransferase  Aminotran_1_2  \\\n",
       "0     0.014164             0.0       0.141643         0.124646       0.305949   \n",
       "1     0.043956             0.0       0.168498         0.183150       0.538462   \n",
       "2     0.051813             0.0       0.704663         0.165803       0.533679   \n",
       "\n",
       "gene  Aminotran_3  Bacteroid_pep  Carbam_trans_C  Chal_sti_synt_C  \\\n",
       "0        0.368272       0.000000        0.008499         0.014164   \n",
       "1        0.663004       0.007326        0.080586         0.000000   \n",
       "2        0.735751       0.000000        0.020725         0.010363   \n",
       "\n",
       "gene  Chal_sti_synt_N     ...       MbtH      NRPS  PP-binding     PS-DH  \\\n",
       "0            0.011331     ...        0.0  0.002833    0.252125  0.002833   \n",
       "1            0.007326     ...        0.0  0.000000    0.461538  0.014652   \n",
       "2            0.000000     ...        0.0  0.000000    0.497409  0.031088   \n",
       "\n",
       "gene  Penicil_amidase       SAT  SchA_CurD  TfuA  Thioesterase  pksII_alpha  \n",
       "0            0.169972  0.002833        0.0   0.0      0.087819     0.155807  \n",
       "1            0.161172  0.000000        0.0   0.0      0.080586     0.336996  \n",
       "2            0.217617  0.000000        0.0   0.0      0.041451     0.461140  \n",
       "\n",
       "[3 rows x 27 columns]"
      ]
     },
     "execution_count": 68,
     "metadata": {},
     "output_type": "execute_result"
    }
   ],
   "source": [
    "mds_df_S = mds_df.div(merged_hmmer['recov_lsu_ssu'],axis=0)\n",
    "mds_df_S.head(3)"
   ]
  },
  {
   "cell_type": "code",
   "execution_count": 69,
   "metadata": {
    "collapsed": false
   },
   "outputs": [],
   "source": [
    "# generate the linkage matrix\n",
    "Z = linkage(mds_df_S, method='average')"
   ]
  },
  {
   "cell_type": "code",
   "execution_count": 71,
   "metadata": {
    "collapsed": false
   },
   "outputs": [
    {
     "data": {
      "image/png": "[encoded data removed]",
      "text/plain": [
       "<matplotlib.figure.Figure at 0x10c1f2160>"
      ]
     },
     "metadata": {},
     "output_type": "display_data"
    }
   ],
   "source": [
    "# calculate full dendrogram\n",
    "plt.figure(figsize=(25, 10))\n",
    "plt.title('Hierarchical Clustering Dendrogram')\n",
    "plt.xlabel('sample index')\n",
    "plt.ylabel('distance')\n",
    "dendrogram(\n",
    "    Z,\n",
    "    leaf_rotation=90.,  # rotates the x axis labels\n",
    "    leaf_font_size=8.,  # font size for the x axis labels\n",
    ")\n",
    "# In matplotlib the show command will reset the figure instance. In other words it goes bye-bye. So you need to save it\n",
    "# first\n",
    "plt.savefig('bat_secondary_metabolite_HCA_average.pdf',bbox_inches='tight')\n",
    "plt.show()"
   ]
  },
  {
   "cell_type": "markdown",
   "metadata": {},
   "source": [
    "#### References\n",
    "\n",
    "\n"
   ]
  },
  {
   "cell_type": "code",
   "execution_count": null,
   "metadata": {
    "collapsed": true
   },
   "outputs": [],
   "source": []
  }
 ],
 "metadata": {
  "celltoolbar": "Edit Metadata",
  "kernelspec": {
   "display_name": "IPython (Python 3)",
   "language": "python",
   "name": "python3"
  },
  "language_info": {
   "codemirror_mode": {
    "name": "ipython",
    "version": 3
   },
   "file_extension": ".py",
   "mimetype": "text/x-python",
   "name": "python",
   "nbconvert_exporter": "python",
   "pygments_lexer": "ipython3",
   "version": "3.5.1"
  }
 },
 "nbformat": 4,
 "nbformat_minor": 0
}
